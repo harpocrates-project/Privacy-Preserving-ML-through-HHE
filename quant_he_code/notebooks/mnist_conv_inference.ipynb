{
 "cells": [
  {
   "cell_type": "code",
   "execution_count": 1,
   "metadata": {},
   "outputs": [],
   "source": [
    "from typing import Dict\n",
    "from pathlib import Path\n",
    "\n",
    "import matplotlib.pyplot as plt\n",
    "\n",
    "import torch\n",
    "import torch.nn as nn\n",
    "import torch.nn.functional as F\n",
    "\n",
    "from torchvision.datasets import MNIST \n",
    "from torchvision import transforms\n",
    "from torchvision.transforms import ToTensor\n",
    "from torch.utils.data import random_split\n",
    "from torch.utils.data import DataLoader\n",
    "\n",
    "import brevitas.nn as qnn"
   ]
  },
  {
   "cell_type": "markdown",
   "metadata": {},
   "source": [
    "## Paths and some params"
   ]
  },
  {
   "cell_type": "code",
   "execution_count": 8,
   "metadata": {},
   "outputs": [
    {
     "data": {
      "text/plain": [
       "PosixPath('/home/dk/Desktop/projects/PocketHHE/quant_he_code/weights/quant_hcnn_2bits_mnist_plain_4bits_weights.pth')"
      ]
     },
     "execution_count": 8,
     "metadata": {},
     "output_type": "execute_result"
    }
   ],
   "source": [
    "project_path = Path.cwd().parents[1]\n",
    "mnist_path = project_path/'data/mnist'\n",
    "weight_dir = project_path/'quant_he_code/weights/'\n",
    "\n",
    "input_bit_width = 2\n",
    "weight_bit_width = 4\n",
    "weight_file = f\"quant_hcnn_{input_bit_width}bits_mnist_plain_{weight_bit_width}bits_weights.pth\"\n",
    "weight_file_path = weight_dir / weight_file\n",
    "weight_file_path"
   ]
  },
  {
   "cell_type": "markdown",
   "metadata": {},
   "source": [
    "## Load the test dataset"
   ]
  },
  {
   "cell_type": "code",
   "execution_count": 11,
   "metadata": {},
   "outputs": [],
   "source": [
    "def mnist_processing(option: int):\n",
    "    if option == 0:\n",
    "        transform = transforms.Compose([\n",
    "            ToTensor(),\n",
    "            lambda x: (x*4).int(),\n",
    "            lambda x: x.float()/4,\n",
    "        ])\n",
    "    elif option == 2:\n",
    "        transform = transforms.Compose([\n",
    "            ToTensor(),\n",
    "            lambda x: (x * 3).int().float(),\n",
    "        ])\n",
    "    else:\n",
    "        raise NotImplementedError\n",
    "    \n",
    "    test_dataset = MNIST(root=mnist_path, train=False, transform=transform)\n",
    "    \n",
    "    return test_dataset\n",
    "\n",
    "test_dataset = mnist_processing(option=input_bit_width)\n",
    "test_loader = DataLoader(test_dataset, batch_size=64, pin_memory=True)"
   ]
  },
  {
   "cell_type": "code",
   "execution_count": 6,
   "metadata": {},
   "outputs": [
    {
     "name": "stdout",
     "output_type": "stream",
     "text": [
      "torch.Size([28, 28])\n",
      "Processed MNIST data unique values = tensor([0., 1., 2., 3.])\n"
     ]
    },
    {
     "data": {
      "text/plain": [
       "<matplotlib.image.AxesImage at 0x7fa6dfb19970>"
      ]
     },
     "execution_count": 6,
     "metadata": {},
     "output_type": "execute_result"
    },
    {
     "data": {
      "image/png": "[encoded data removed]",
      "text/plain": [
       "<Figure size 640x480 with 1 Axes>"
      ]
     },
     "metadata": {},
     "output_type": "display_data"
    }
   ],
   "source": [
    "scale_factor_input = 1 / 3\n",
    "im = test_dataset[0][0][0]\n",
    "print(im.shape)\n",
    "print(f\"Processed MNIST data unique values = {im.unique()}\")\n",
    "plt.imshow(im, cmap='gray')"
   ]
  },
  {
   "cell_type": "markdown",
   "metadata": {},
   "source": [
    "## Define and load the network"
   ]
  },
  {
   "cell_type": "code",
   "execution_count": 7,
   "metadata": {},
   "outputs": [],
   "source": [
    "def accuracy(outputs, labels):\n",
    "    _, preds = torch.max(outputs, dim=1)\n",
    "    return torch.tensor(torch.sum(preds == labels).item() / len(preds))\n",
    "\n",
    "\n",
    "class ImageClassificationBase(nn.Module):\n",
    "    \"\"\"\n",
    "    PytorchLightining style\n",
    "    \"\"\"\n",
    "    def training_step(self, batch):\n",
    "        images, labels = batch\n",
    "        out = self(images)  # Generate predictions\n",
    "        loss = F.cross_entropy(out, labels)  # Calculate loss\n",
    "        return loss\n",
    "\n",
    "    def validation_step(self, batch) -> Dict:\n",
    "        images, labels = batch\n",
    "        out = self(images)  # Generate predictions\n",
    "        loss = F.cross_entropy(out, labels)  # Calculate loss\n",
    "        acc = accuracy(out, labels)  # Calculate accuracy\n",
    "        return {'val_loss': loss.detach(), 'val_acc': acc}\n",
    "\n",
    "    def validation_epoch_end(self, outputs) -> Dict:\n",
    "        batch_losses = [x['val_loss'] for x in outputs]\n",
    "        epoch_loss = torch.stack(batch_losses).mean()  # Combine losses\n",
    "        batch_accs = [x['val_acc'] for x in outputs]\n",
    "        epoch_acc = torch.stack(batch_accs).mean()  # Combine accuracies\n",
    "        return {'val_loss': epoch_loss.item(), 'val_acc': epoch_acc.item()}\n",
    "\n",
    "    def epoch_end(self, epoch, result) -> None:\n",
    "        print(\"Epoch [{}], val_loss: {:.4f}, val_acc: {:.4f}\".format(epoch + 1, result['val_loss'], result['val_acc']))"
   ]
  },
  {
   "cell_type": "code",
   "execution_count": 9,
   "metadata": {},
   "outputs": [],
   "source": [
    "class MNISTConvQuantModel(ImageClassificationBase):\n",
    "    \"\"\"\n",
    "    2 conv layers + 2 square activations + 1 linear layer\n",
    "    \"\"\"\n",
    "    def __init__(self):\n",
    "        super().__init__()\n",
    "        self.conv1 = qnn.QuantConv2d(in_channels=1, out_channels=5, kernel_size=5, \n",
    "                                     stride=(2, 2), padding=0, bias=False, \n",
    "                                     weight_bit_width=weight_bit_width, \n",
    "                                     return_quant_tensor=True)\n",
    "        self.conv2 = qnn.QuantConv2d(in_channels=5, out_channels=50, kernel_size=5, \n",
    "                                     stride=(2, 2), padding=0, bias=False, \n",
    "                                     weight_bit_width=weight_bit_width)\n",
    "        self.fc1 = qnn.QuantLinear(in_features=800, out_features=10, bias=False, \n",
    "                                   weight_bit_width=weight_bit_width, \n",
    "                                   return_quant_tensor=True)\n",
    "\n",
    "    def forward(self, xb):\n",
    "        out = self.conv1(xb)\n",
    "        out = out * out  # first square\n",
    "        out = self.conv2(out)\n",
    "        out = out.reshape(out.shape[0], -1)\n",
    "        out = out * out  # second square\n",
    "        out = self.fc1(out)\n",
    "\n",
    "        return out"
   ]
  },
  {
   "cell_type": "code",
   "execution_count": 10,
   "metadata": {},
   "outputs": [
    {
     "data": {
      "text/plain": [
       "<All keys matched successfully>"
      ]
     },
     "execution_count": 10,
     "metadata": {},
     "output_type": "execute_result"
    }
   ],
   "source": [
    "model = MNISTConvQuantModel()\n",
    "model.load_state_dict(\n",
    "    torch.load(weight_file_path, \n",
    "    map_location=torch.device('cpu'))\n",
    ")"
   ]
  },
  {
   "cell_type": "markdown",
   "metadata": {},
   "source": [
    "## Do inference on test dataset"
   ]
  },
  {
   "cell_type": "code",
   "execution_count": 17,
   "metadata": {},
   "outputs": [
    {
     "name": "stdout",
     "output_type": "stream",
     "text": [
      "tensor([0., 1., 2., 3.])\n",
      "tensor([0, 1, 2, 3, 4, 5, 6, 7, 8, 9])\n"
     ]
    }
   ],
   "source": [
    "for x, y in test_loader:\n",
    "    print(x.unique())\n",
    "    print(y.unique())\n",
    "    break"
   ]
  },
  {
   "cell_type": "code",
   "execution_count": 12,
   "metadata": {},
   "outputs": [
    {
     "name": "stderr",
     "output_type": "stream",
     "text": [
      "/home/dk/miniconda3/envs/pockethhe/lib/python3.9/site-packages/torch/cuda/__init__.py:107: UserWarning: CUDA initialization: CUDA unknown error - this may be due to an incorrectly set up environment, e.g. changing env variable CUDA_VISIBLE_DEVICES after program start. Setting the available devices to be zero. (Triggered internally at ../c10/cuda/CUDAFunctions.cpp:109.)\n",
      "  return torch._C._cuda_getDeviceCount() > 0\n",
      "/tmp/ipykernel_367082/3874017255.py:2: UserWarning: Defining your `__torch_function__` as a plain method is deprecated and will be an error in future, please define it as a classmethod. (Triggered internally at ../torch/csrc/utils/python_arg_parser.cpp:363.)\n",
      "  _, preds = torch.max(outputs, dim=1)\n"
     ]
    },
    {
     "name": "stdout",
     "output_type": "stream",
     "text": [
      "test accuracy with trained 4-bit weights = 0.9871616363525391\n"
     ]
    }
   ],
   "source": [
    "def evaluate(model, val_loader) -> Dict:\n",
    "    outputs = [model.validation_step(batch) for batch in val_loader]\n",
    "    return model.validation_epoch_end(outputs)\n",
    "\n",
    "acc = evaluate(model, test_loader)['val_acc']\n",
    "print(f\"test accuracy with trained {weight_bit_width}-bit weights = {acc}\")"
   ]
  },
  {
   "cell_type": "markdown",
   "metadata": {},
   "source": [
    "## Inspecting the model"
   ]
  },
  {
   "cell_type": "code",
   "execution_count": 19,
   "metadata": {},
   "outputs": [
    {
     "data": {
      "text/plain": [
       "tensor([[[[-1,  2,  6,  1, -5],\n",
       "          [ 1,  0, -3,  4, -1],\n",
       "          [ 0,  2, -1,  5,  7],\n",
       "          [-1,  7,  4,  0,  2],\n",
       "          [ 4,  3, -3, -5, -4]]],\n",
       "\n",
       "\n",
       "        [[[-1,  1, -3, -1,  0],\n",
       "          [-3,  5,  4,  5,  3],\n",
       "          [-5,  4,  4,  3, -4],\n",
       "          [-6, -7, -7, -1,  1],\n",
       "          [-2,  2, -3, -5,  1]]],\n",
       "\n",
       "\n",
       "        [[[-1, -7, -6, -2,  2],\n",
       "          [ 4,  0, -5, -7,  2],\n",
       "          [ 6,  6,  2, -6, -2],\n",
       "          [ 2,  6,  4, -3, -2],\n",
       "          [-3,  2,  3, -2, -1]]],\n",
       "\n",
       "\n",
       "        [[[-2,  0, -3,  4,  3],\n",
       "          [-6, -2, -1,  7, -2],\n",
       "          [-6,  0,  4,  6, -4],\n",
       "          [-6, -1,  3,  6, -2],\n",
       "          [-5,  0, -1,  3,  2]]],\n",
       "\n",
       "\n",
       "        [[[-1,  1,  2,  1,  0],\n",
       "          [ 2,  2, -4, -3,  2],\n",
       "          [-5, -6, -5,  0,  7],\n",
       "          [-7, -3,  3,  7,  1],\n",
       "          [ 4,  6,  7,  2, -3]]]], dtype=torch.int8)"
      ]
     },
     "execution_count": 19,
     "metadata": {},
     "output_type": "execute_result"
    }
   ],
   "source": [
    "model.conv1.int_weight()"
   ]
  },
  {
   "cell_type": "code",
   "execution_count": 20,
   "metadata": {},
   "outputs": [
    {
     "data": {
      "text/plain": [
       "QuantTensor(value=tensor([[[[-1.,  2.,  6.,  1., -5.],\n",
       "          [ 1., -0., -3.,  4., -1.],\n",
       "          [ 0.,  2., -1.,  5.,  7.],\n",
       "          [-1.,  7.,  4., -0.,  2.],\n",
       "          [ 4.,  3., -3., -5., -4.]]],\n",
       "\n",
       "\n",
       "        [[[-1.,  1., -3., -1.,  0.],\n",
       "          [-3.,  5.,  4.,  5.,  3.],\n",
       "          [-5.,  4.,  4.,  3., -4.],\n",
       "          [-6., -7., -7., -1.,  1.],\n",
       "          [-2.,  2., -3., -5.,  1.]]],\n",
       "\n",
       "\n",
       "        [[[-1., -7., -6., -2.,  2.],\n",
       "          [ 4., -0., -5., -7.,  2.],\n",
       "          [ 6.,  6.,  2., -6., -2.],\n",
       "          [ 2.,  6.,  4., -3., -2.],\n",
       "          [-3.,  2.,  3., -2., -1.]]],\n",
       "\n",
       "\n",
       "        [[[-2.,  0., -3.,  4.,  3.],\n",
       "          [-6., -2., -1.,  7., -2.],\n",
       "          [-6.,  0.,  4.,  6., -4.],\n",
       "          [-6., -1.,  3.,  6., -2.],\n",
       "          [-5.,  0., -1.,  3.,  2.]]],\n",
       "\n",
       "\n",
       "        [[[-1.,  1.,  2.,  1., -0.],\n",
       "          [ 2.,  2., -4., -3.,  2.],\n",
       "          [-5., -6., -5., -0.,  7.],\n",
       "          [-7., -3.,  3.,  7.,  1.],\n",
       "          [ 4.,  6.,  7.,  2., -3.]]]], grad_fn=<DivBackward0>), scale=None, zero_point=None, bit_width=None, signed_t=None, training_t=None)"
      ]
     },
     "execution_count": 20,
     "metadata": {},
     "output_type": "execute_result"
    }
   ],
   "source": [
    "model.conv1.quant_weight() / model.conv1.quant_weight().scale"
   ]
  },
  {
   "cell_type": "code",
   "execution_count": null,
   "metadata": {},
   "outputs": [],
   "source": []
  }
 ],
 "metadata": {
  "kernelspec": {
   "display_name": "pockethhe",
   "language": "python",
   "name": "python3"
  },
  "language_info": {
   "codemirror_mode": {
    "name": "ipython",
    "version": 3
   },
   "file_extension": ".py",
   "mimetype": "text/x-python",
   "name": "python",
   "nbconvert_exporter": "python",
   "pygments_lexer": "ipython3",
   "version": "3.9.16"
  },
  "orig_nbformat": 4
 },
 "nbformat": 4,
 "nbformat_minor": 2
}
