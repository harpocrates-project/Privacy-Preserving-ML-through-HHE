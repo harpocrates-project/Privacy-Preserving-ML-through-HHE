{
 "cells": [
  {
   "cell_type": "markdown",
   "metadata": {},
   "source": [
    "Load the `.th` file and save the matrices into csv"
   ]
  },
  {
   "cell_type": "code",
   "execution_count": 2,
   "metadata": {},
   "outputs": [
    {
     "data": {
      "text/plain": [
       "dict_keys(['linear_1_weight', 'linear_1_s_x', 'linear_1_s_x_inv', 'linear_1_s_w_inv', 'linear_2_weight', 'linear_2_s_x', 'linear_2_s_x_inv', 'linear_2_s_w_inv'])"
      ]
     },
     "execution_count": 2,
     "metadata": {},
     "output_type": "execute_result"
    }
   ],
   "source": [
    "import torch\n",
    "import numpy as np\n",
    "import pandas as pd\n",
    "\n",
    "quant_state_dict = torch.load('square_nn_quant.th')\n",
    "quant_state_dict.keys()"
   ]
  },
  {
   "cell_type": "code",
   "execution_count": null,
   "metadata": {},
   "outputs": [],
   "source": [
    "pd.DataFrame(quant_state_dict['linear_1_weight']).to_csv('linear_1_weight.csv', index=False)\n",
    "pd.DataFrame(quant_state_dict['linear_2_weight']).to_csv('linear_2_weight.csv', index=False)\n"
   ]
  },
  {
   "cell_type": "code",
   "execution_count": 3,
   "metadata": {},
   "outputs": [],
   "source": [
    "assert pd.read_csv('linear_1_weight.csv').to_numpy().shape == quant_state_dict['linear_1_weight'].shape\n",
    "assert pd.read_csv('linear_2_weight.csv').to_numpy().shape == quant_state_dict['linear_2_weight'].shape\n"
   ]
  },
  {
   "cell_type": "code",
   "execution_count": null,
   "metadata": {},
   "outputs": [],
   "source": []
  }
 ],
 "metadata": {
  "kernelspec": {
   "display_name": "pockethhe",
   "language": "python",
   "name": "python3"
  },
  "language_info": {
   "codemirror_mode": {
    "name": "ipython",
    "version": 3
   },
   "file_extension": ".py",
   "mimetype": "text/x-python",
   "name": "python",
   "nbconvert_exporter": "python",
   "pygments_lexer": "ipython3",
   "version": "3.9.16"
  },
  "orig_nbformat": 4
 },
 "nbformat": 4,
 "nbformat_minor": 2
}
