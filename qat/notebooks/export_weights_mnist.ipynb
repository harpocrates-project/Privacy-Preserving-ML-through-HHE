{
 "cells": [
  {
   "cell_type": "code",
   "execution_count": 1,
   "metadata": {},
   "outputs": [],
   "source": [
    "from pathlib import Path\n",
    "from typing import Dict\n",
    "from pprint import pprint\n",
    "\n",
    "import torch\n",
    "import torch.nn as nn\n",
    "import torch.nn.functional as F\n",
    "from torch.utils.data import DataLoader\n",
    "\n",
    "from torchvision.datasets import MNIST\n",
    "from torchvision import transforms\n",
    "from torchvision.transforms import ToTensor\n",
    "\n",
    "import brevitas.nn as qnn\n",
    "from brevitas.quant import Int8Bias as BiasQuant"
   ]
  },
  {
   "cell_type": "code",
   "execution_count": 17,
   "metadata": {},
   "outputs": [],
   "source": [
    "project_path = Path.cwd().parent\n",
    "mnist_path = project_path/'data/mnist'\n",
    "weight_path = project_path/'quant_he_code/weights'"
   ]
  },
  {
   "cell_type": "markdown",
   "metadata": {},
   "source": [
    "## Load float trained weights to do inference"
   ]
  },
  {
   "cell_type": "code",
   "execution_count": 3,
   "metadata": {},
   "outputs": [],
   "source": [
    "test_dataset = MNIST(root=mnist_path, train=False, transform=transforms.Compose([\n",
    "    ToTensor(),\n",
    "    lambda x: (x*4).int(),\n",
    "    lambda x: x.float()/4,\n",
    "]))\n",
    "\n",
    "test_loader = DataLoader(test_dataset, batch_size=64, pin_memory=True)"
   ]
  },
  {
   "cell_type": "code",
   "execution_count": 4,
   "metadata": {},
   "outputs": [],
   "source": [
    "## same code from mnist.ipynb\n",
    "\n",
    "def accuracy(outputs, labels):\n",
    "    _, preds = torch.max(outputs, dim=1)\n",
    "    return torch.tensor(torch.sum(preds == labels).item() / len(preds))\n",
    "\n",
    "\n",
    "class ImageClassificationBase(nn.Module):\n",
    "    \"\"\"\n",
    "    PytorchLightining style\n",
    "    \"\"\"\n",
    "    def training_step(self, batch):\n",
    "        images, labels = batch\n",
    "        out = self(images)  # Generate predictions\n",
    "        loss = F.cross_entropy(out, labels)  # Calculate loss\n",
    "        return loss\n",
    "\n",
    "    def validation_step(self, batch) -> Dict:\n",
    "        images, labels = batch\n",
    "        out = self(images)  # Generate predictions\n",
    "        loss = F.cross_entropy(out, labels)  # Calculate loss\n",
    "        acc = accuracy(out, labels)  # Calculate accuracy\n",
    "        return {'val_loss': loss.detach(), 'val_acc': acc}\n",
    "\n",
    "    def validation_epoch_end(self, outputs) -> Dict:\n",
    "        batch_losses = [x['val_loss'] for x in outputs]\n",
    "        epoch_loss = torch.stack(batch_losses).mean()  # Combine losses\n",
    "        batch_accs = [x['val_acc'] for x in outputs]\n",
    "        epoch_acc = torch.stack(batch_accs).mean()  # Combine accuracies\n",
    "        return {'val_loss': epoch_loss.item(), 'val_acc': epoch_acc.item()}\n",
    "\n",
    "    def epoch_end(self, epoch, result) -> None:\n",
    "        print(\"Epoch [{}], val_loss: {:.4f}, val_acc: {:.4f}\".format(epoch + 1, result['val_loss'], result['val_acc']))\n",
    "\n",
    "\n",
    "class MNISTConvModel(ImageClassificationBase):\n",
    "    \"\"\"\n",
    "    2 conv layers + 1 linear layer\n",
    "    \"\"\"\n",
    "    def __init__(self):\n",
    "        super().__init__()\n",
    "        self.conv1 = nn.Conv2d(1, 5, 5, stride=(2, 2),\n",
    "                               padding=0, bias=True)\n",
    "\n",
    "        self.conv2 = nn.Conv2d(5, 50, 5, stride=(2, 2),\n",
    "                               padding=0, bias=True)\n",
    "        self.fc1 = nn.Linear(800, 10, bias=True)\n",
    "\n",
    "    def forward(self, xb):\n",
    "        out = self.conv1(xb)\n",
    "        out = out * out  # first square\n",
    "        out = self.conv2(out)\n",
    "        out = out.reshape(out.shape[0], -1)\n",
    "        out = out * out  # second square\n",
    "        out = self.fc1(out)\n",
    "\n",
    "        return out"
   ]
  },
  {
   "cell_type": "code",
   "execution_count": 5,
   "metadata": {},
   "outputs": [],
   "source": [
    "def evaluate(model, val_loader) -> Dict:\n",
    "    outputs = [model.validation_step(batch) for batch in val_loader]\n",
    "    return model.validation_epoch_end(outputs)"
   ]
  },
  {
   "cell_type": "markdown",
   "metadata": {},
   "source": [
    "Evaluation before loading trained weights"
   ]
  },
  {
   "cell_type": "code",
   "execution_count": 8,
   "metadata": {},
   "outputs": [
    {
     "name": "stdout",
     "output_type": "stream",
     "text": [
      "test accuracy with random weights = 0.10161226242780685\n"
     ]
    }
   ],
   "source": [
    "model = MNISTConvModel()\n",
    "acc = evaluate(model, test_loader)['val_acc']\n",
    "print(f\"test accuracy with random weights = {acc}\")"
   ]
  },
  {
   "cell_type": "markdown",
   "metadata": {},
   "source": [
    "Load the trained weights and evaluate"
   ]
  },
  {
   "cell_type": "code",
   "execution_count": 11,
   "metadata": {},
   "outputs": [
    {
     "data": {
      "text/plain": [
       "{'': MNISTConvModel(\n",
       "   (conv1): Conv2d(1, 5, kernel_size=(5, 5), stride=(2, 2))\n",
       "   (conv2): Conv2d(5, 50, kernel_size=(5, 5), stride=(2, 2))\n",
       "   (fc1): Linear(in_features=800, out_features=10, bias=True)\n",
       " ),\n",
       " 'conv1': Conv2d(1, 5, kernel_size=(5, 5), stride=(2, 2)),\n",
       " 'conv2': Conv2d(5, 50, kernel_size=(5, 5), stride=(2, 2)),\n",
       " 'fc1': Linear(in_features=800, out_features=10, bias=True)}"
      ]
     },
     "execution_count": 11,
     "metadata": {},
     "output_type": "execute_result"
    }
   ],
   "source": [
    "model.load_state_dict(torch.load(\n",
    "    './hcnn_mnist_plain.pth', map_location=torch.device('cpu'))\n",
    ")\n",
    "dict(model.named_modules())"
   ]
  },
  {
   "cell_type": "code",
   "execution_count": 12,
   "metadata": {},
   "outputs": [
    {
     "name": "stdout",
     "output_type": "stream",
     "text": [
      "test accuracy with trained weights = 0.9882563948631287\n"
     ]
    }
   ],
   "source": [
    "acc = evaluate(model, test_loader)['val_acc']\n",
    "print(f\"test accuracy with trained weights = {acc}\")"
   ]
  },
  {
   "cell_type": "markdown",
   "metadata": {},
   "source": [
    "## Quantize the neural network"
   ]
  },
  {
   "cell_type": "code",
   "execution_count": 13,
   "metadata": {},
   "outputs": [],
   "source": [
    "class QuantMNISTConvModel(nn.Module):\n",
    "    def __init__(self, weight_bit_width: int = 16):\n",
    "        super().__init__()\n",
    "        self.conv1 = qnn.QuantConv2d(1, 5, 5, stride=(2, 2),\n",
    "                                     padding=0, bias=True, \n",
    "                                     weight_bit_width=weight_bit_width, \n",
    "                                     return_quant_tensor=True)\n",
    "        self.conv2 = qnn.QuantConv2d(5, 50, 5, stride=(2, 2),\n",
    "                                     padding=0, bias=True, \n",
    "                                     weight_bit_width=weight_bit_width)\n",
    "\n",
    "        self.fc1 = qnn.QuantLinear(800, 10, bias=True, \n",
    "                                   weight_bit_width=weight_bit_width, \n",
    "                                   return_quant_tensor=True)\n",
    "\n",
    "    def forward(self, xb):\n",
    "        out = self.conv1(xb)\n",
    "        out = out * out\n",
    "        out = self.conv2(out)\n",
    "        out = out.reshape(out.shape[0], -1)\n",
    "        out = out * out\n",
    "        out = self.fc1(out)\n",
    "\n",
    "        return out\n",
    "\n",
    "weight_bit_width = 16\n",
    "quant_model = QuantMNISTConvModel(weight_bit_width=weight_bit_width)"
   ]
  },
  {
   "cell_type": "code",
   "execution_count": 14,
   "metadata": {},
   "outputs": [
    {
     "data": {
      "text/plain": [
       "<All keys matched successfully>"
      ]
     },
     "execution_count": 14,
     "metadata": {},
     "output_type": "execute_result"
    }
   ],
   "source": [
    "quant_model.load_state_dict(torch.load(\n",
    "    './hcnn_mnist_plain.pth', map_location=torch.device('cpu'))\n",
    ")"
   ]
  },
  {
   "cell_type": "code",
   "execution_count": 15,
   "metadata": {},
   "outputs": [
    {
     "name": "stdout",
     "output_type": "stream",
     "text": [
      "dict_keys(['', 'conv1', 'conv1.input_quant', 'conv1.input_quant._zero_hw_sentinel', 'conv1.output_quant', 'conv1.output_quant._zero_hw_sentinel', 'conv1.weight_quant', 'conv1.weight_quant._zero_hw_sentinel', 'conv1.weight_quant.tensor_quant', 'conv1.weight_quant.tensor_quant.int_quant', 'conv1.weight_quant.tensor_quant.int_quant.float_to_int_impl', 'conv1.weight_quant.tensor_quant.int_quant.tensor_clamp_impl', 'conv1.weight_quant.tensor_quant.int_quant.delay_wrapper', 'conv1.weight_quant.tensor_quant.int_quant.delay_wrapper.delay_impl', 'conv1.weight_quant.tensor_quant.scaling_impl', 'conv1.weight_quant.tensor_quant.scaling_impl.parameter_list_stats', 'conv1.weight_quant.tensor_quant.scaling_impl.parameter_list_stats.first_tracked_param', 'conv1.weight_quant.tensor_quant.scaling_impl.parameter_list_stats.first_tracked_param.view_shape_impl', 'conv1.weight_quant.tensor_quant.scaling_impl.parameter_list_stats.stats', 'conv1.weight_quant.tensor_quant.scaling_impl.parameter_list_stats.stats.stats_impl', 'conv1.weight_quant.tensor_quant.scaling_impl.stats_scaling_impl', 'conv1.weight_quant.tensor_quant.scaling_impl.stats_scaling_impl.affine_rescaling', 'conv1.weight_quant.tensor_quant.scaling_impl.stats_scaling_impl.restrict_clamp_scaling', 'conv1.weight_quant.tensor_quant.scaling_impl.stats_scaling_impl.restrict_clamp_scaling.clamp_min_ste', 'conv1.weight_quant.tensor_quant.scaling_impl.stats_scaling_impl.restrict_clamp_scaling.restrict_value_impl', 'conv1.weight_quant.tensor_quant.scaling_impl.stats_scaling_impl.restrict_scaling_pre', 'conv1.weight_quant.tensor_quant.int_scaling_impl', 'conv1.weight_quant.tensor_quant.zero_point_impl', 'conv1.weight_quant.tensor_quant.zero_point_impl.zero_point', 'conv1.weight_quant.tensor_quant.msb_clamp_bit_width_impl', 'conv1.weight_quant.tensor_quant.msb_clamp_bit_width_impl.bit_width', 'conv1.bias_quant', 'conv1.bias_quant._zero_hw_sentinel', 'conv2', 'conv2.input_quant', 'conv2.input_quant._zero_hw_sentinel', 'conv2.output_quant', 'conv2.output_quant._zero_hw_sentinel', 'conv2.weight_quant', 'conv2.weight_quant._zero_hw_sentinel', 'conv2.weight_quant.tensor_quant', 'conv2.weight_quant.tensor_quant.int_quant', 'conv2.weight_quant.tensor_quant.int_quant.float_to_int_impl', 'conv2.weight_quant.tensor_quant.int_quant.tensor_clamp_impl', 'conv2.weight_quant.tensor_quant.int_quant.delay_wrapper', 'conv2.weight_quant.tensor_quant.int_quant.delay_wrapper.delay_impl', 'conv2.weight_quant.tensor_quant.scaling_impl', 'conv2.weight_quant.tensor_quant.scaling_impl.parameter_list_stats', 'conv2.weight_quant.tensor_quant.scaling_impl.parameter_list_stats.first_tracked_param', 'conv2.weight_quant.tensor_quant.scaling_impl.parameter_list_stats.first_tracked_param.view_shape_impl', 'conv2.weight_quant.tensor_quant.scaling_impl.parameter_list_stats.stats', 'conv2.weight_quant.tensor_quant.scaling_impl.parameter_list_stats.stats.stats_impl', 'conv2.weight_quant.tensor_quant.scaling_impl.stats_scaling_impl', 'conv2.weight_quant.tensor_quant.scaling_impl.stats_scaling_impl.affine_rescaling', 'conv2.weight_quant.tensor_quant.scaling_impl.stats_scaling_impl.restrict_clamp_scaling', 'conv2.weight_quant.tensor_quant.scaling_impl.stats_scaling_impl.restrict_clamp_scaling.clamp_min_ste', 'conv2.weight_quant.tensor_quant.scaling_impl.stats_scaling_impl.restrict_clamp_scaling.restrict_value_impl', 'conv2.weight_quant.tensor_quant.scaling_impl.stats_scaling_impl.restrict_scaling_pre', 'conv2.weight_quant.tensor_quant.int_scaling_impl', 'conv2.weight_quant.tensor_quant.zero_point_impl', 'conv2.weight_quant.tensor_quant.zero_point_impl.zero_point', 'conv2.weight_quant.tensor_quant.msb_clamp_bit_width_impl', 'conv2.weight_quant.tensor_quant.msb_clamp_bit_width_impl.bit_width', 'conv2.bias_quant', 'conv2.bias_quant._zero_hw_sentinel', 'fc1', 'fc1.input_quant', 'fc1.input_quant._zero_hw_sentinel', 'fc1.output_quant', 'fc1.output_quant._zero_hw_sentinel', 'fc1.weight_quant', 'fc1.weight_quant._zero_hw_sentinel', 'fc1.weight_quant.tensor_quant', 'fc1.weight_quant.tensor_quant.int_quant', 'fc1.weight_quant.tensor_quant.int_quant.float_to_int_impl', 'fc1.weight_quant.tensor_quant.int_quant.tensor_clamp_impl', 'fc1.weight_quant.tensor_quant.int_quant.delay_wrapper', 'fc1.weight_quant.tensor_quant.int_quant.delay_wrapper.delay_impl', 'fc1.weight_quant.tensor_quant.scaling_impl', 'fc1.weight_quant.tensor_quant.scaling_impl.parameter_list_stats', 'fc1.weight_quant.tensor_quant.scaling_impl.parameter_list_stats.first_tracked_param', 'fc1.weight_quant.tensor_quant.scaling_impl.parameter_list_stats.first_tracked_param.view_shape_impl', 'fc1.weight_quant.tensor_quant.scaling_impl.parameter_list_stats.stats', 'fc1.weight_quant.tensor_quant.scaling_impl.parameter_list_stats.stats.stats_impl', 'fc1.weight_quant.tensor_quant.scaling_impl.stats_scaling_impl', 'fc1.weight_quant.tensor_quant.scaling_impl.stats_scaling_impl.affine_rescaling', 'fc1.weight_quant.tensor_quant.scaling_impl.stats_scaling_impl.restrict_clamp_scaling', 'fc1.weight_quant.tensor_quant.scaling_impl.stats_scaling_impl.restrict_clamp_scaling.clamp_min_ste', 'fc1.weight_quant.tensor_quant.scaling_impl.stats_scaling_impl.restrict_clamp_scaling.restrict_value_impl', 'fc1.weight_quant.tensor_quant.scaling_impl.stats_scaling_impl.restrict_scaling_pre', 'fc1.weight_quant.tensor_quant.int_scaling_impl', 'fc1.weight_quant.tensor_quant.zero_point_impl', 'fc1.weight_quant.tensor_quant.zero_point_impl.zero_point', 'fc1.weight_quant.tensor_quant.msb_clamp_bit_width_impl', 'fc1.weight_quant.tensor_quant.msb_clamp_bit_width_impl.bit_width', 'fc1.bias_quant', 'fc1.bias_quant._zero_hw_sentinel'])\n"
     ]
    }
   ],
   "source": [
    "pprint(dict(quant_model.named_modules()).keys())"
   ]
  },
  {
   "cell_type": "markdown",
   "metadata": {},
   "source": [
    "## Export weights to `.py` file"
   ]
  },
  {
   "cell_type": "markdown",
   "metadata": {},
   "source": [
    "Utility functions"
   ]
  },
  {
   "cell_type": "code",
   "execution_count": 16,
   "metadata": {},
   "outputs": [],
   "source": [
    "def generate_size(name, layer):\n",
    "    string = \"\"\n",
    "\n",
    "    if \"Conv2d\" in str(layer.type):\n",
    "        string += name + \"_kernel_size  = \" + str(layer.kernel_size) + \"\\n\"\n",
    "        string += name + \"_in_channels  = \" + str(layer.in_channels) + \"\\n\"\n",
    "        string += name + \"_out_channels = \" + str(layer.out_channels) + \"\\n\"\n",
    "        string += name + \"_stride       = \" + str(layer.stride) + \"\\n\"\n",
    "        string += name + \"_dilation     = \" + str(layer.dilation) + \"\\n\"\n",
    "    elif \"Linear\" in str(layer.type):\n",
    "        string += name + \"_input  = \" + str(layer.in_features) + \"\\n\"\n",
    "        string += name + \"_output = \" + str(layer.out_features) + \"\\n\"\n",
    "\n",
    "    string += \"\\n\"\n",
    "    return string\n",
    "\n",
    "\n",
    "def generate_string(name, array):\n",
    "    splitted = name.split(\"/\")\n",
    "    flat_array = array.flatten()\n",
    "    variable_name = splitted[0]\n",
    "\n",
    "    # In case of bias: add to name\n",
    "    if \"bias\" in name:\n",
    "        variable_name = variable_name + \"_bias\"\n",
    "\n",
    "    string = \"inline double \" + str(variable_name) + \" [\" + str(flat_array.shape[0]) + \"] = {\"\n",
    "\n",
    "    # In case of short array, start direct writing. Else add line escape\n",
    "    if len(flat_array) > 15:\n",
    "        string += \"\\n\"\n",
    "\n",
    "    for i in range(len(flat_array)):\n",
    "        string += str(flat_array[i])\n",
    "        if (i != len(flat_array) - 1):\n",
    "            string += ','\n",
    "        if i % 7 == 0 and i != 0:\n",
    "            string += '\\n'\n",
    "\n",
    "    # Remove the line escape if it is there\n",
    "    if string[-1] == '\\n':\n",
    "        string = string[:-1]\n",
    "    string += \"};\\n\\n\"\n",
    "\n",
    "    return string"
   ]
  },
  {
   "cell_type": "markdown",
   "metadata": {},
   "source": [
    "Export floating point weights"
   ]
  },
  {
   "cell_type": "code",
   "execution_count": null,
   "metadata": {},
   "outputs": [],
   "source": [
    "file_to_write = \"float_weights.py\"  # args.export_filepath\n",
    "trained_weight_path = \"hcnn_mnist_plain.pth\"  # args.data\n",
    "\n",
    "if \".py\" not in file_to_write:\n",
    "    f = open(file_to_write + \".py\", \"w\")\n",
    "else:\n",
    "    f = open(file_to_write, \"w\")\n",
    "\n",
    "f.write(\"import numpy as np \\n\")\n",
    "f.write(\"# \" + str(trained_weight_path) + \"\\n\\n\")\n",
    "f.write(generate_size(\"conv2d\", quant_model.conv1))\n",
    "f.write(generate_size(\"conv2d_1\", quant_model.conv2))\n",
    "f.write(generate_size(\"dense\", quant_model.fc1))\n",
    "\n",
    "f.write(\"conv2d = np.array(\" + str(quant_model.conv1.weight.data.tolist()) + ')\\n\\n')\n",
    "f.write(\"conv2d_1 = np.array(\" + str(quant_model.conv2.weight.data.tolist()) + ')\\n\\n')\n",
    "f.write(\"dense = np.array(\" + str(quant_model.fc1.weight.data.tolist()) + ')\\n\\n')\n",
    "f.write(\"conv2d_bias = np.array(\" + str(model.conv1.bias.data.tolist()) + ')\\n\\n')\n",
    "f.write(\"conv2d_1_bias = np.array(\" + str(model.conv2.bias.data.tolist()) + ')\\n\\n')\n",
    "f.write(\"dense_bias = np.array(\" + str(model.fc1.bias.data.tolist()) + ')\\n\\n')"
   ]
  },
  {
   "cell_type": "markdown",
   "metadata": {},
   "source": [
    "Quantized integer weights"
   ]
  },
  {
   "cell_type": "code",
   "execution_count": 20,
   "metadata": {},
   "outputs": [
    {
     "data": {
      "text/plain": [
       "236"
      ]
     },
     "execution_count": 20,
     "metadata": {},
     "output_type": "execute_result"
    }
   ],
   "source": [
    "file_to_write = f\"quant_weights_{weight_bit_width}bits.py\"  # args.export_filepath\n",
    "trained_weight_path = \"hcnn_mnist_plain.pth\"  # args.data\n",
    "\n",
    "if \".py\" not in file_to_write:\n",
    "    f = open(file_to_write + \".py\", \"w\")\n",
    "else:\n",
    "    f = open(file_to_write, \"w\")\n",
    "\n",
    "f.write(\"import numpy as np \\n\")\n",
    "f.write(\"# \" + str(trained_weight_path) + \"\\n\\n\")\n",
    "f.write(generate_size(\"conv2d\", quant_model.conv1))\n",
    "f.write(generate_size(\"conv2d_1\", quant_model.conv2))\n",
    "f.write(generate_size(\"dense\", quant_model.fc1))\n",
    "\n",
    "f.write(\"conv2d_scale = \" + str(quant_model.conv1.quant_weight().scale.data.tolist()) + '\\n\\n')\n",
    "f.write(\"conv2d = np.array(\" + str(quant_model.conv1.quant_weight().int().tolist()) + ')\\n\\n')\n",
    "f.write(\"conv2d_1_scale = \" + str(quant_model.conv2.quant_weight().scale.data.tolist()) + '\\n\\n')\n",
    "f.write(\"conv2d_1 = np.array(\" + str(quant_model.conv2.quant_weight().int().tolist()) + ')\\n\\n')\n",
    "\n",
    "f.write(\"dense_scale = \" + str(quant_model.fc1.quant_weight().scale.data.tolist()) + '\\n\\n')\n",
    "f.write(\"dense = np.array(\" + str(quant_model.fc1.quant_weight().int().tolist()) + ')\\n\\n')\n",
    "\n",
    "f.write(\"conv2d_bias = np.array(\" + str(model.conv1.bias.data.tolist()) + ')\\n\\n')\n",
    "f.write(\"conv2d_1_bias = np.array(\" + str(model.conv2.bias.data.tolist()) + ')\\n\\n')\n",
    "f.write(\"dense_bias = np.array(\" + str(model.fc1.bias.data.tolist()) + ')\\n\\n')\n"
   ]
  },
  {
   "cell_type": "code",
   "execution_count": null,
   "metadata": {},
   "outputs": [],
   "source": []
  }
 ],
 "metadata": {
  "kernelspec": {
   "display_name": "pockethhe",
   "language": "python",
   "name": "python3"
  },
  "language_info": {
   "codemirror_mode": {
    "name": "ipython",
    "version": 3
   },
   "file_extension": ".py",
   "mimetype": "text/x-python",
   "name": "python",
   "nbconvert_exporter": "python",
   "pygments_lexer": "ipython3",
   "version": "3.9.16"
  },
  "orig_nbformat": 4
 },
 "nbformat": 4,
 "nbformat_minor": 2
}
