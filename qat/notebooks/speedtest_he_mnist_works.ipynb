{
 "cells": [
  {
   "cell_type": "code",
   "execution_count": 96,
   "metadata": {},
   "outputs": [],
   "source": [
    "import time\n",
    "import math\n",
    "from typing import List\n",
    "\n",
    "import numpy as np\n",
    "from numpy import logical_and\n",
    "import tensorflow as tf\n",
    "import matplotlib.pyplot as plt\n",
    "\n",
    "from Pyfhel import Pyfhel\n",
    "from Pyfhel.PyPtxt import PyPtxt as PyfhelPlaintext\n",
    "from Pyfhel.PyCtxt import PyCtxt as PyfhelCiphertext\n"
   ]
  },
  {
   "cell_type": "code",
   "execution_count": 97,
   "metadata": {},
   "outputs": [],
   "source": [
    "mnist = tf.keras.datasets.mnist  ## data are downloaded ~/.keras/datasets\n",
    "(x_train, y_train), (x_test, y_test) = mnist.load_data()"
   ]
  },
  {
   "cell_type": "code",
   "execution_count": 98,
   "metadata": {},
   "outputs": [
    {
     "name": "stdout",
     "output_type": "stream",
     "text": [
      "x_train.shape = (60000, 28, 28)\n",
      "y_train.shape = (60000,)\n",
      "x_test.shape = (10000, 28, 28)\n",
      "y_test.shape = (10000,)\n"
     ]
    }
   ],
   "source": [
    "print(f\"{x_train.shape = }\")\n",
    "print(f\"{y_train.shape = }\")\n",
    "print(f\"{x_test.shape = }\")\n",
    "print(f\"{y_test.shape = }\")"
   ]
  },
  {
   "cell_type": "markdown",
   "metadata": {},
   "source": [
    "## Quantizing the MNIST dataset into 2 bits"
   ]
  },
  {
   "cell_type": "code",
   "execution_count": 99,
   "metadata": {},
   "outputs": [
    {
     "data": {
      "text/plain": [
       "array([  0,   1,   2,   3,   9,  11,  14,  16,  18,  23,  24,  25,  26,\n",
       "        27,  30,  35,  36,  39,  43,  45,  46,  49,  55,  56,  64,  66,\n",
       "        70,  78,  80,  81,  82,  90,  93,  94, 107, 108, 114, 119, 126,\n",
       "       127, 130, 132, 133, 135, 136, 139, 148, 150, 154, 156, 160, 166,\n",
       "       170, 171, 172, 175, 182, 183, 186, 187, 190, 195, 198, 201, 205,\n",
       "       207, 212, 213, 219, 221, 225, 226, 229, 238, 240, 241, 242, 244,\n",
       "       247, 249, 250, 251, 252, 253, 255], dtype=uint8)"
      ]
     },
     "execution_count": 99,
     "metadata": {},
     "output_type": "execute_result"
    },
    {
     "data": {
      "image/png": "[encoded data removed]",
      "text/plain": [
       "<Figure size 640x480 with 1 Axes>"
      ]
     },
     "metadata": {},
     "output_type": "display_data"
    }
   ],
   "source": [
    "im = x_train[0]\n",
    "plt.imshow(im, cmap='gray')\n",
    "np.unique(im)"
   ]
  },
  {
   "cell_type": "code",
   "execution_count": 100,
   "metadata": {},
   "outputs": [],
   "source": [
    "x_train = (x_train / 255.0 * 3).astype(int)\n",
    "x_test = (x_test / 255.0 * 3).astype(int)"
   ]
  },
  {
   "cell_type": "code",
   "execution_count": 101,
   "metadata": {},
   "outputs": [
    {
     "name": "stdout",
     "output_type": "stream",
     "text": [
      "[0 1 2 3]\n",
      "[0 1 2 3]\n"
     ]
    }
   ],
   "source": [
    "print(np.unique(x_train))\n",
    "print(np.unique(x_test))"
   ]
  },
  {
   "cell_type": "code",
   "execution_count": 102,
   "metadata": {},
   "outputs": [
    {
     "data": {
      "text/plain": [
       "<matplotlib.image.AxesImage at 0x7f821c146e20>"
      ]
     },
     "execution_count": 102,
     "metadata": {},
     "output_type": "execute_result"
    },
    {
     "data": {
      "image/png": "[encoded data removed]",
      "text/plain": [
       "<Figure size 640x480 with 1 Axes>"
      ]
     },
     "metadata": {},
     "output_type": "display_data"
    }
   ],
   "source": [
    "plt.imshow(x_train[0], cmap='gray')"
   ]
  },
  {
   "cell_type": "code",
   "execution_count": 103,
   "metadata": {},
   "outputs": [],
   "source": [
    "x_test = np.expand_dims(x_test, axis=1)"
   ]
  },
  {
   "cell_type": "code",
   "execution_count": 104,
   "metadata": {},
   "outputs": [
    {
     "data": {
      "text/plain": [
       "(10000, 1, 28, 28)"
      ]
     },
     "execution_count": 104,
     "metadata": {},
     "output_type": "execute_result"
    }
   ],
   "source": [
    "x_test.shape"
   ]
  },
  {
   "cell_type": "markdown",
   "metadata": {},
   "source": [
    "## Quantizing the weights (and biases) of the neural net"
   ]
  },
  {
   "cell_type": "code",
   "execution_count": 105,
   "metadata": {},
   "outputs": [],
   "source": [
    "scale_factor_input = 1 / 3\n",
    "bit_width = 4\n",
    "cnn_py = __import__(\"quant_weights_16bits\")\n",
    "\n",
    "def quantise(element, s, b):\n",
    "    upper = 2 ** (b - 1) - 1\n",
    "    lower = -2 ** (b - 1)\n",
    "\n",
    "    value = int(round(element / s))\n",
    "\n",
    "    if value > upper:\n",
    "        return upper\n",
    "    elif value < lower:\n",
    "        return lower\n",
    "    else:\n",
    "        return value\n",
    "\n",
    "np_quantise = np.vectorize(quantise)"
   ]
  },
  {
   "cell_type": "code",
   "execution_count": 106,
   "metadata": {},
   "outputs": [
    {
     "name": "stdout",
     "output_type": "stream",
     "text": [
      "conv1_ind_scale = 4681.0\n",
      "conv1_scale = 1560.3333333333333\n",
      "conv1_scale_act = 2434640.111111111\n",
      "conv2_ind_scale = 4681.0\n",
      "conv2_scale = 11396550360.11111\n",
      "conv2_scale_act = 1.2988136011054868e+20\n",
      "dense_ind_scale = 4681.0\n",
      "dense_scale = 6.079746466774783e+23\n"
     ]
    }
   ],
   "source": [
    "conv1_ind_scale = np.max(np.abs(cnn_py.conv2d)) / (2 ** (bit_width - 1) - 1)\n",
    "conv1_scale = scale_factor_input * conv1_ind_scale\n",
    "# conv1 activation (square)\n",
    "conv1_scale_act = conv1_scale ** 2\n",
    "\n",
    "# the 1/4 for the scaled average pooling\n",
    "conv2_ind_scale = np.max(np.abs(cnn_py.conv2d_1)) / (2 ** (bit_width - 1) - 1)\n",
    "conv2_scale = conv1_scale_act * conv2_ind_scale\n",
    "# Activation\n",
    "conv2_scale_act = conv2_scale ** 2\n",
    "\n",
    "dense_ind_scale = np.max(np.abs(cnn_py.dense)) / (2 ** (bit_width - 1) - 1)\n",
    "dense_scale = conv2_scale_act * dense_ind_scale\n",
    "\n",
    "print(f\"{conv1_ind_scale = }\")\n",
    "print(f\"{conv1_scale = }\")\n",
    "print(f\"{conv1_scale_act = }\")\n",
    "print(f\"{conv2_ind_scale = }\")\n",
    "print(f\"{conv2_scale = }\")\n",
    "print(f\"{conv2_scale_act = }\")\n",
    "print(f\"{dense_ind_scale = }\")\n",
    "print(f\"{dense_scale = }\")"
   ]
  },
  {
   "cell_type": "code",
   "execution_count": 107,
   "metadata": {},
   "outputs": [],
   "source": [
    "# bias are just 0. Can just skip them, and we can quantize them to much bigger bit-width\n",
    "conv1_bias = np_quantise(cnn_py.conv2d_bias, conv1_scale, 1024)\n",
    "conv2_bias = np_quantise(cnn_py.conv2d_1_bias, conv2_scale, 1024)\n",
    "dense_bias = np_quantise(cnn_py.dense_bias, dense_scale, 1024)\n",
    "\n",
    "conv1_q = np_quantise(cnn_py.conv2d, conv1_ind_scale, bit_width)\n",
    "conv2_q = np_quantise(cnn_py.conv2d_1, conv2_ind_scale, bit_width)\n",
    "dense1_q = np_quantise(cnn_py.dense, dense_ind_scale, bit_width)"
   ]
  },
  {
   "cell_type": "code",
   "execution_count": 108,
   "metadata": {},
   "outputs": [
    {
     "name": "stdout",
     "output_type": "stream",
     "text": [
      "np.unique(conv1_q) = array([-6, -5, -4, -3, -2, -1,  0,  1,  2,  3,  4,  5,  6,  7])\n",
      "np.unique(conv2_q) = array([-7, -6, -5, -4, -3, -2, -1,  0,  1,  2,  3,  4,  5,  6,  7])\n",
      "np.unique(dense1_q) = array([-7, -6, -5, -4, -3, -2, -1,  0,  1,  2,  3,  4,  5,  6])\n"
     ]
    }
   ],
   "source": [
    "print(f\"{np.unique(conv1_q) = }\")\n",
    "print(f\"{np.unique(conv2_q) = }\")\n",
    "print(f\"{np.unique(dense1_q) = }\")"
   ]
  },
  {
   "cell_type": "markdown",
   "metadata": {},
   "source": [
    "## Encrypted Computation"
   ]
  },
  {
   "cell_type": "code",
   "execution_count": 109,
   "metadata": {},
   "outputs": [
    {
     "name": "stdout",
     "output_type": "stream",
     "text": [
      "HE.get_nSlots() = 16384\n",
      "duplicate_factor = 8\n"
     ]
    }
   ],
   "source": [
    "HE = Pyfhel()  # Creating empty Pyfhel object\n",
    "# 16384; 8192\n",
    "HE.contextGen(scheme='bfv', n=16384,\n",
    "    t_bits=47)  # Plaintext modulus bit size\n",
    "HE.keyGen()  # Key Generation: generates a pair of public/secret keys\n",
    "HE.rotateKeyGen()  # Rotate key generation --> Allows rotation/shifting\n",
    "HE.relinKeyGen()  # Relinearization key generation\n",
    "HE.batchEnabled()\n",
    "duplicate_factor = int((HE.get_nSlots() / 2) / 1024)\n",
    "\n",
    "print(f\"{HE.get_nSlots() = }\")\n",
    "print(f\"{duplicate_factor = }\")"
   ]
  },
  {
   "cell_type": "code",
   "execution_count": 110,
   "metadata": {},
   "outputs": [],
   "source": [
    "def duplicate(vec, n):\n",
    "    # repeating the vector `vec` the number of `n` times\n",
    "    return np.tile(vec, n)"
   ]
  },
  {
   "cell_type": "code",
   "execution_count": 111,
   "metadata": {},
   "outputs": [],
   "source": [
    "def rotation_conv(input_image, data_shape, input_shape, \n",
    "                  conv2d_kernel, bias, conv_stride, data_stride, fact, HE):\n",
    "\n",
    "    original_shape = data_shape\n",
    "    if len(original_shape) != 3:\n",
    "        original_shape = (original_shape[0], int(np.sqrt(original_shape[1])), int(np.sqrt(original_shape[1])))\n",
    "\n",
    "    kernel_shape = conv2d_kernel.shape\n",
    "    output_shape = (int(np.floor((input_shape[1] - kernel_shape[2]-1) // conv_stride[0] + 1)),\n",
    "                    int(np.floor((input_shape[2] - kernel_shape[3]-1) // conv_stride[1] + 1)))\n",
    "\n",
    "    n = original_shape[1]\n",
    "    n2 = n ** 2\n",
    "\n",
    "    # input_flat = input_image.flatten()\n",
    "\n",
    "    result = []\n",
    "\n",
    "    if data_stride[0] == 1:\n",
    "        for c_o in range(kernel_shape[0]):\n",
    "            tmp = HE.encodeInt(np.zeros(4096, dtype=np.int64))\n",
    "            for c_i in range(kernel_shape[1]):\n",
    "                tmp_ency = input_image[c_i]\n",
    "                for j in range(kernel_shape[2]):\n",
    "                    for i in range(kernel_shape[3]):\n",
    "                        # Extra check, else a transpartent Ctxt is created\n",
    "                        if conv2d_kernel[c_o, c_i, j, i] != 0:\n",
    "                            conv_kernel = HE.encodeInt(np.repeat(conv2d_kernel[c_o, c_i, j, i], 4096))\n",
    "                            tmp_mult = tmp_ency << (i + n * j)\n",
    "                            tmp_mult *= conv_kernel\n",
    "                            tmp += tmp_mult\n",
    "            # if c_o % 10 == 0:\n",
    "            #     print(\"Kernel \" + str(c_o))\n",
    "            result.append(tmp)\n",
    "    # TODO: Add extra statement for CiFAR\n",
    "    elif data_stride[0] == 2:\n",
    "        for c_o in range(kernel_shape[0]):\n",
    "            tmp = HE.encodeInt(np.zeros(original_shape[1] * original_shape[2], dtype=np.int64))\n",
    "            for c_i in range(kernel_shape[1]):\n",
    "                tmp_ency = input_image[c_i]\n",
    "                for j in range(kernel_shape[2]):\n",
    "                    for i in range(kernel_shape[3]):\n",
    "                        if conv2d_kernel[c_o, c_i, j, i] != 0:\n",
    "                            conv_kernel = HE.encodeInt(np.repeat(conv2d_kernel[c_o, c_i, j, i], 4096))\n",
    "                            tmp_mult = tmp_ency << ((i * 2) + n * (j * 2))\n",
    "                            tmp_mult *= conv_kernel\n",
    "                            tmp += tmp_mult\n",
    "\n",
    "            result.append(tmp)\n",
    "\n",
    "    # Need to be placed here, now the mask will turn everything that need to be zero to zero\n",
    "    for i in range(kernel_shape[0]):\n",
    "        result[i] += HE.encode(bias[i])\n",
    "\n",
    "    # Dimension of the output C_O, C_I, W, H\n",
    "    mask = np.ones((kernel_shape[0], 1, output_shape[0], output_shape[1]), dtype=np.int64)\n",
    "\n",
    "    # ToDo: Now only works for max conv_stride = 2\n",
    "    # Diliation type of spread out\n",
    "    if conv_stride[0] > 1:\n",
    "        # When stride of a convolution is >1, the data is split out with a factor of data_stride\n",
    "        zeros = 2 ** data_stride[0]\n",
    "        for i in range(output_shape[1] - 1):\n",
    "            for j in range(zeros - 1):\n",
    "                mask = np.insert(mask, zeros * i + j + 1, 0, axis=3)\n",
    "        for i in range(output_shape[1] - 1):\n",
    "            for j in range(zeros - 1):\n",
    "                mask = np.insert(mask, zeros * i + j + 1, 0, axis=2)\n",
    "\n",
    "    mask = np.pad(mask, ((0, 0),\n",
    "                         (0, 0),\n",
    "                         (0, original_shape[1] - mask.shape[2]),\n",
    "                         (0, original_shape[2] - mask.shape[3])))\n",
    "\n",
    "    mask = np.append(mask[0, :].flatten(), np.zeros(240, dtype=np.int64))\n",
    "    mask = HE.encodeInt(duplicate(mask, fact))\n",
    "\n",
    "    for i in range(len(result)):\n",
    "        result[i] *= mask\n",
    "\n",
    "    # result = result * HE.encodeInt(mask.reshape(kernel_shape[0], original_shape[1] * original_shape[2]).flatten())\n",
    "    return result\n",
    "\n",
    "\n",
    "def expand_mat(mat, mat_shape, data_shape, data_stride):\n",
    "    if data_stride[0] > 1:\n",
    "        zeros = 2 ** (data_stride[0] - 1)\n",
    "\n",
    "        for j in range(data_shape[2]):\n",
    "            for i in range(data_shape[1]):\n",
    "                for k in range(zeros - 1):\n",
    "                    mat = np.insert(mat, zeros * mat_shape[1] * j + zeros * i + k + 1, 0, axis=1)\n",
    "\n",
    "            for i in range(zeros * mat_shape[1] - zeros * data_shape[1]):\n",
    "                mat = np.insert(mat, zeros * mat_shape[1] * j + zeros * data_shape[1] + i, 0, axis=1)\n",
    "\n",
    "        diff = mat_shape[1] * mat_shape[1] - mat.shape[1]\n",
    "\n",
    "        mat = np.append(mat, np.zeros((mat.shape[0], diff), dtype=np.int64), axis=1)\n",
    "\n",
    "    else:\n",
    "        diff = mat_shape[1] - data_shape[1]\n",
    "\n",
    "        for i in range(data_shape[1]):\n",
    "            for j in range(diff):\n",
    "                # Always want to have 20 data point, followed by 8 zeros, and then back again 20 data points\n",
    "                mat = np.insert(mat, data_shape[1] * (i + 1) + i * diff + j, 0, axis=1)\n",
    "\n",
    "        mat = np.append(mat, np.zeros((mat.shape[0], diff * mat_shape[1]), dtype=np.int64), axis=1)\n",
    "    return mat\n",
    "\n",
    "\n",
    "def rot_plain(a, b, n_o, n_i, fact, HE):\n",
    "    div_oi = int(n_i / n_o)\n",
    "    slot_size = fact * n_i\n",
    "\n",
    "    diag = np.zeros((n_o, n_i), dtype=np.int64)\n",
    "\n",
    "    for j in range(n_o):\n",
    "        tmp = get_diagonal(j, a)\n",
    "        if div_oi > 1:\n",
    "            for i in range(div_oi - 1):\n",
    "                tmp = np.append(tmp, get_diagonal(j + (i + 1) * n_o, a))\n",
    "\n",
    "        diag[j] = tmp\n",
    "\n",
    "    output = HE.encodeInt(np.zeros(slot_size, dtype=np.int64))\n",
    "    pad_length = 240 + 7*1024\n",
    "\n",
    "    counter = 0\n",
    "    for i in range(n_o):\n",
    "        if np.sum(np.abs(diag[i])) != 0:\n",
    "            output += HE.encodeInt(duplicate(diag[i], fact)) * (b << i)\n",
    "            counter += 1\n",
    "        # output += diag[i] * np.roll(b, -i)\n",
    "        # output += np.tile(diag[i], fact) * np.roll(b, -i)\n",
    "\n",
    "    result = HE.encodeInt(np.zeros(slot_size, dtype=np.int64))\n",
    "    if counter != 0:\n",
    "        for i in range(div_oi):\n",
    "            result += (output << (8192 - (i * n_o + pad_length)))\n",
    "        return result\n",
    "    else:\n",
    "        return None\n",
    "    \n",
    "def get_diagonal(pos, mat):\n",
    "    max_size = max(mat.shape[0], mat.shape[1])\n",
    "    min_size = min(mat.shape[0], mat.shape[1])\n",
    "\n",
    "    diag = np.zeros(min_size, dtype=np.int64)\n",
    "    j = pos\n",
    "    i = 0\n",
    "    k = 0\n",
    "\n",
    "    while (i < max_size - pos) and (i < min_size) and (j < max_size):\n",
    "        diag[k] = mat[i, j]\n",
    "        k += 1\n",
    "        i += 1\n",
    "        j += 1\n",
    "\n",
    "    i = max_size - pos\n",
    "    j = 0\n",
    "\n",
    "    while (i < mat.shape[0]) and (j < pos):\n",
    "        diag[k] = mat[i, j]\n",
    "        k += 1\n",
    "        i += 1\n",
    "        j += 1\n",
    "\n",
    "    return diag"
   ]
  },
  {
   "cell_type": "code",
   "execution_count": 112,
   "metadata": {},
   "outputs": [
    {
     "name": "stdout",
     "output_type": "stream",
     "text": [
      "Single time 622.5205037593842\n",
      "0\t0\t0\t0\n"
     ]
    }
   ],
   "source": [
    "nb_tests = 1  # number of test images\n",
    "acc, acc_he = 0, 0\n",
    "\n",
    "for i in range(nb_tests):\n",
    "    # Pad the flattened input image to have length 1024. Then duplicate it\n",
    "    # `duplicate_factor` times due to batching properties of FHE\n",
    "    input_image: np.ndarray = duplicate(\n",
    "        vec=np.append(x_test[i].flatten(), np.zeros(240, dtype=np.int64)), \n",
    "        n=duplicate_factor\n",
    "    )\n",
    "\n",
    "    input_image: PyfhelPlaintext = HE.encodeInt(input_image)\n",
    "    input_image: List[PyfhelCiphertext] = [HE.encrypt(input_image)]\n",
    "\n",
    "    start_time_one = time.time()\n",
    "\n",
    "    # first encrypted conv layer (enc input, plaintext weights)\n",
    "    conv1_rot: List[PyfhelCiphertext] = rotation_conv(\n",
    "        input_image=input_image, data_shape=(1, 28, 28), input_shape=(1, 28, 28),\n",
    "        conv2d_kernel=conv1_q, bias=conv1_bias, conv_stride=cnn_py.conv2d_stride, \n",
    "        data_stride=(1, 1), fact=duplicate_factor, HE=HE\n",
    "    )\n",
    "\n",
    "    # first square activation\n",
    "    conv1_act_rot: List[PyfhelCiphertext] = []\n",
    "    for j in range(len(conv1_rot)):\n",
    "        # result.append(HE.decryptInt(conv1_rot[j]))\n",
    "        conv1_act_rot.append((HE.power(conv1_rot[j], 2)))\n",
    "    \n",
    "    # second encrypted conv layer \n",
    "    conv2_rot: List[PyfhelCiphertext] = rotation_conv(\n",
    "        input_image=conv1_act_rot, data_shape=(1, 28, 28), input_shape=(5, 12, 12), \n",
    "        conv2d_kernel=conv2_q, bias=conv2_bias, conv_stride=cnn_py.conv2d_1_stride, \n",
    "        data_stride=(2, 2), fact=duplicate_factor, HE=HE\n",
    "    )\n",
    "\n",
    "    # second square activation\n",
    "    conv2_act_rot: List[PyfhelCiphertext] = []\n",
    "    for j in range(len(conv2_rot)):\n",
    "        # result.append(HE.decryptInt(conv2_rot[j]))\n",
    "        conv2_act_rot.append(HE.power(conv2_rot[j], 2))\n",
    "\n",
    "    # the dense layer\n",
    "    dense = []\n",
    "    slide_size = int(cnn_py.dense_input / cnn_py.conv2d_1_out_channels)\n",
    "\n",
    "    for j in range(50):\n",
    "        w_tmp = expand_mat(\n",
    "            mat=dense1_q[:, j * slide_size:(j + 1) * slide_size], \n",
    "            mat_shape=(1, 28, 28), data_shape=(1, 4, 4),\n",
    "            data_stride=(3, 3)\n",
    "        )\n",
    "        w_tmp = np.append(w_tmp, np.zeros((10, 240)), axis=1)\n",
    "        w_tmp = np.append(w_tmp, np.zeros((6, 1024)), axis=0)\n",
    "        rot_out = rot_plain(\n",
    "            a=w_tmp, b=conv2_act_rot[j], \n",
    "            n_o=16, n_i=1024, \n",
    "            fact=duplicate_factor, HE=HE)\n",
    "        if rot_out != None:\n",
    "            dense.append(rot_out)\n",
    "\n",
    "    dense_dec = np.zeros(10, dtype=np.int64)\n",
    "    for k in range(len(dense)):\n",
    "        # print(HE.noise_level(dense[k]))\n",
    "        decrypt = HE.decryptInt(dense[k])\n",
    "        dense_dec += decrypt[:10]\n",
    "\n",
    "    dense_dec += dense_bias\n",
    "    if np.argmax(dense_dec[:10]) == y_test[i]:\n",
    "        acc_he += 1\n",
    "\n",
    "    if i % 1 == 0:\n",
    "        single_time = time.time() - start_time_one\n",
    "        print(\"Single time \" + str(single_time))\n",
    "        print(str(i) + \"\\t\" + str(acc) + \"\\t\" + str(acc_he) + \"\\t\" + str(HE.noise_level(dense[0])))"
   ]
  },
  {
   "cell_type": "code",
   "execution_count": null,
   "metadata": {},
   "outputs": [],
   "source": []
  },
  {
   "cell_type": "code",
   "execution_count": null,
   "metadata": {},
   "outputs": [],
   "source": []
  }
 ],
 "metadata": {
  "kernelspec": {
   "display_name": "pockethhe",
   "language": "python",
   "name": "python3"
  },
  "language_info": {
   "codemirror_mode": {
    "name": "ipython",
    "version": 3
   },
   "file_extension": ".py",
   "mimetype": "text/x-python",
   "name": "python",
   "nbconvert_exporter": "python",
   "pygments_lexer": "ipython3",
   "version": "3.9.16"
  },
  "orig_nbformat": 4
 },
 "nbformat": 4,
 "nbformat_minor": 2
}
