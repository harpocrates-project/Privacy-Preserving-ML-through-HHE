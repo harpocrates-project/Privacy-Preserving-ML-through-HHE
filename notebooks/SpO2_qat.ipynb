{
 "cells": [
  {
   "cell_type": "code",
   "execution_count": 1,
   "metadata": {},
   "outputs": [],
   "source": [
    "from pathlib import Path\n",
    "from typing import Dict\n",
    "\n",
    "import numpy as np\n",
    "import matplotlib.pyplot as plt\n",
    "\n",
    "import torch\n",
    "import torch.nn as nn\n",
    "import torch.nn.functional as F\n",
    "\n",
    "from torch.utils.data import Dataset, DataLoader\n",
    "import brevitas.nn as qnn"
   ]
  },
  {
   "cell_type": "code",
   "execution_count": 34,
   "metadata": {},
   "outputs": [
    {
     "data": {
      "text/plain": [
       "PosixPath('/home/dk/Desktop/projects/PocketHHE/weights/SpO2/qat/quant_2fc_5bits_data_5bits_weights.pth')"
      ]
     },
     "execution_count": 34,
     "metadata": {},
     "output_type": "execute_result"
    }
   ],
   "source": [
    "project_path = Path.cwd().parent\n",
    "data_path = project_path / 'data' / 'SpO2'\n",
    "\n",
    "input_path = data_path / 'SpO2_input_cleaned4%.csv'\n",
    "output_path = data_path / 'SpO2_output_cleaned4%.csv'\n",
    "\n",
    "assert input_path.exists(), \"file does not exist\"\n",
    "assert output_path.exists(), \"file does not exist\"\n",
    "\n",
    "weight_bit_width = 5\n",
    "input_bit_width = 5  # originally, SpO2 data are 5 bits ([0-31])\n",
    "save_weight_path = project_path/f\"weights/SpO2/qat/quant_2fc_{input_bit_width}bits_data_{weight_bit_width}bits_weights.pth\"\n",
    "save_weight_path"
   ]
  },
  {
   "cell_type": "markdown",
   "metadata": {},
   "source": [
    "## Dataset"
   ]
  },
  {
   "cell_type": "code",
   "execution_count": 35,
   "metadata": {},
   "outputs": [],
   "source": [
    "split_ratio = (0.6, 0.2, 0.2)\n",
    "\n",
    "class SpO2(Dataset):\n",
    "    split: str\n",
    "\n",
    "    def __init__(self, input_path: Path, output_path: Path, \n",
    "                 quantize: bool = False, split: str = 'train'):\n",
    "        self.split = split\n",
    "        x = np.loadtxt(input_path, dtype=int, delimiter=',')\n",
    "        y = np.loadtxt(output_path, dtype=int, delimiter=',')\n",
    "        assert len(x) == len(y), \"input and output have different number of examples\"\n",
    "        \n",
    "        if quantize:\n",
    "            x = (x - np.min(x)) / (np.max(x) - np.min(x))\n",
    "            x = (x * (2**input_bit_width - 1)).astype(int)\n",
    "            # x = x.float() / 4\n",
    "\n",
    "        train_split_index = int(x.shape[0] * split_ratio[0])\n",
    "        val_split_index = int(x.shape[0] * (split_ratio[0] + split_ratio[1]))\n",
    "        if split == 'train':\n",
    "            self.x = x[:train_split_index, :]\n",
    "            self.y = y[:train_split_index]\n",
    "        elif split == 'eval':\n",
    "            self.x = x[train_split_index:val_split_index, :]\n",
    "            self.y = y[train_split_index:val_split_index]\n",
    "        elif split == 'test':\n",
    "            self.x = x[val_split_index:, :]\n",
    "            self.y = y[val_split_index:]\n",
    "        else:\n",
    "            raise ValueError(f\"no option for 'split = {split}'\")\n",
    "        \n",
    "        self.x = torch.tensor(self.x, dtype=torch.float)\n",
    "        self.y = torch.tensor(self.y, dtype=torch.float)\n",
    "        self.y = torch.unsqueeze(self.y, dim=1)\n",
    "    \n",
    "    def __len__(self):\n",
    "        return len(self.x)\n",
    "    \n",
    "    def __getitem__(self, idx):\n",
    "        return self.x[idx], self.y[idx]\n",
    "    \n",
    "    def print_info(self):\n",
    "        print(f\"----------- {self.split} dataset info -----------\")\n",
    "        print(f\"{self.x.shape = }\")\n",
    "        print(f\"{self.y.shape = }\")\n",
    "        print(f\"input unique values = {self.x.unique()}\")\n",
    "        print(f\"maximum input value = {torch.max(self.x).item()}\")\n",
    "        print(f\"minimum input value = {torch.min(self.x).item()}\")"
   ]
  },
  {
   "cell_type": "code",
   "execution_count": 36,
   "metadata": {},
   "outputs": [],
   "source": [
    "train_dataset = SpO2(input_path=input_path, \n",
    "                     output_path=output_path, \n",
    "                     split='train', quantize=False)\n",
    "val_dataset = SpO2(input_path=input_path, \n",
    "                   output_path=output_path, \n",
    "                   split='eval', quantize=False)\n",
    "test_dataset = SpO2(input_path=input_path, \n",
    "                    output_path=output_path, \n",
    "                    split='test', quantize=False)"
   ]
  },
  {
   "cell_type": "code",
   "execution_count": 37,
   "metadata": {},
   "outputs": [
    {
     "name": "stdout",
     "output_type": "stream",
     "text": [
      "----------- train dataset info -----------\n",
      "self.x.shape = torch.Size([14950, 300])\n",
      "self.y.shape = torch.Size([14950, 1])\n",
      "input unique values = tensor([ 1.,  2.,  3.,  4.,  5.,  6.,  7.,  8.,  9., 10., 11., 12., 13., 14.,\n",
      "        15., 16., 17., 18., 19., 20., 21., 22., 23., 24., 25., 26., 27., 28.,\n",
      "        29., 30.])\n",
      "maximum input value = 30.0\n",
      "minimum input value = 1.0\n",
      "----------- eval dataset info -----------\n",
      "self.x.shape = torch.Size([4984, 300])\n",
      "self.y.shape = torch.Size([4984, 1])\n",
      "input unique values = tensor([ 1.,  2.,  3.,  4.,  5.,  6.,  7.,  8.,  9., 10., 11., 12., 13., 14.,\n",
      "        15., 16., 17., 18., 19., 20., 21., 22., 23., 24., 25., 26., 27., 28.,\n",
      "        29., 30.])\n",
      "maximum input value = 30.0\n",
      "minimum input value = 1.0\n",
      "----------- test dataset info -----------\n",
      "self.x.shape = torch.Size([4984, 300])\n",
      "self.y.shape = torch.Size([4984, 1])\n",
      "input unique values = tensor([ 2.,  3.,  4.,  5.,  6.,  7.,  8.,  9., 10., 11., 12., 13., 14., 15.,\n",
      "        16., 17., 18., 19., 20., 21., 22., 23., 24., 25., 26., 27., 28., 29.,\n",
      "        30.])\n",
      "maximum input value = 30.0\n",
      "minimum input value = 2.0\n"
     ]
    }
   ],
   "source": [
    "train_dataset.print_info()\n",
    "val_dataset.print_info()\n",
    "test_dataset.print_info()"
   ]
  },
  {
   "cell_type": "code",
   "execution_count": 38,
   "metadata": {},
   "outputs": [
    {
     "name": "stdout",
     "output_type": "stream",
     "text": [
      "class = 0.0\n"
     ]
    },
    {
     "data": {
      "text/plain": [
       "[<matplotlib.lines.Line2D at 0x7f26a9b96640>]"
      ]
     },
     "execution_count": 38,
     "metadata": {},
     "output_type": "execute_result"
    },
    {
     "data": {
      "image/png": "[encoded data removed]",
      "text/plain": [
       "<Figure size 640x480 with 1 Axes>"
      ]
     },
     "metadata": {},
     "output_type": "display_data"
    }
   ],
   "source": [
    "example_input = train_dataset[4][0]\n",
    "example_output = train_dataset[4][1]\n",
    "print(f'class = {example_output.item()}')\n",
    "plt.plot(example_input)"
   ]
  },
  {
   "cell_type": "code",
   "execution_count": 39,
   "metadata": {},
   "outputs": [],
   "source": [
    "batch_size = 64\n",
    "\n",
    "train_loader = DataLoader(train_dataset, batch_size=batch_size)\n",
    "val_loader = DataLoader(val_dataset, batch_size=batch_size)\n",
    "test_loader = DataLoader(test_dataset, batch_size=batch_size)"
   ]
  },
  {
   "cell_type": "code",
   "execution_count": 45,
   "metadata": {},
   "outputs": [
    {
     "name": "stdout",
     "output_type": "stream",
     "text": [
      "torch.Size([64, 300]) torch.Size([64, 1])\n",
      "tensor([16., 17., 18., 19., 20., 21., 22., 23., 24., 25., 26., 27., 28., 29.,\n",
      "        30.])\n"
     ]
    }
   ],
   "source": [
    "for x, y in test_loader:\n",
    "    print(x.shape, y.shape)\n",
    "    print(x.unique())\n",
    "    # print((x.dtype))\n",
    "    break"
   ]
  },
  {
   "cell_type": "markdown",
   "metadata": {},
   "source": [
    "## Model"
   ]
  },
  {
   "cell_type": "code",
   "execution_count": 59,
   "metadata": {},
   "outputs": [
    {
     "data": {
      "text/plain": [
       "SpO2TwoFCQuantModel(\n",
       "  (fc1): QuantLinear(\n",
       "    in_features=300, out_features=128, bias=False\n",
       "    (input_quant): ActQuantProxyFromInjector(\n",
       "      (_zero_hw_sentinel): StatelessBuffer()\n",
       "    )\n",
       "    (output_quant): ActQuantProxyFromInjector(\n",
       "      (_zero_hw_sentinel): StatelessBuffer()\n",
       "    )\n",
       "    (weight_quant): WeightQuantProxyFromInjector(\n",
       "      (_zero_hw_sentinel): StatelessBuffer()\n",
       "      (tensor_quant): RescalingIntQuant(\n",
       "        (int_quant): IntQuant(\n",
       "          (float_to_int_impl): RoundSte()\n",
       "          (tensor_clamp_impl): TensorClampSte()\n",
       "          (delay_wrapper): DelayWrapper(\n",
       "            (delay_impl): _NoDelay()\n",
       "          )\n",
       "        )\n",
       "        (scaling_impl): StatsFromParameterScaling(\n",
       "          (parameter_list_stats): _ParameterListStats(\n",
       "            (first_tracked_param): _ViewParameterWrapper(\n",
       "              (view_shape_impl): OverTensorView()\n",
       "            )\n",
       "            (stats): _Stats(\n",
       "              (stats_impl): AbsMax()\n",
       "            )\n",
       "          )\n",
       "          (stats_scaling_impl): _StatsScaling(\n",
       "            (affine_rescaling): Identity()\n",
       "            (restrict_clamp_scaling): _RestrictClampValue(\n",
       "              (clamp_min_ste): ScalarClampMinSte()\n",
       "              (restrict_value_impl): FloatRestrictValue()\n",
       "            )\n",
       "            (restrict_scaling_pre): Identity()\n",
       "          )\n",
       "        )\n",
       "        (int_scaling_impl): IntScaling()\n",
       "        (zero_point_impl): ZeroZeroPoint(\n",
       "          (zero_point): StatelessBuffer()\n",
       "        )\n",
       "        (msb_clamp_bit_width_impl): BitWidthConst(\n",
       "          (bit_width): StatelessBuffer()\n",
       "        )\n",
       "      )\n",
       "    )\n",
       "    (bias_quant): BiasQuantProxyFromInjector(\n",
       "      (_zero_hw_sentinel): StatelessBuffer()\n",
       "    )\n",
       "  )\n",
       "  (fc2): QuantLinear(\n",
       "    in_features=128, out_features=1, bias=False\n",
       "    (input_quant): ActQuantProxyFromInjector(\n",
       "      (_zero_hw_sentinel): StatelessBuffer()\n",
       "    )\n",
       "    (output_quant): ActQuantProxyFromInjector(\n",
       "      (_zero_hw_sentinel): StatelessBuffer()\n",
       "    )\n",
       "    (weight_quant): WeightQuantProxyFromInjector(\n",
       "      (_zero_hw_sentinel): StatelessBuffer()\n",
       "      (tensor_quant): RescalingIntQuant(\n",
       "        (int_quant): IntQuant(\n",
       "          (float_to_int_impl): RoundSte()\n",
       "          (tensor_clamp_impl): TensorClampSte()\n",
       "          (delay_wrapper): DelayWrapper(\n",
       "            (delay_impl): _NoDelay()\n",
       "          )\n",
       "        )\n",
       "        (scaling_impl): StatsFromParameterScaling(\n",
       "          (parameter_list_stats): _ParameterListStats(\n",
       "            (first_tracked_param): _ViewParameterWrapper(\n",
       "              (view_shape_impl): OverTensorView()\n",
       "            )\n",
       "            (stats): _Stats(\n",
       "              (stats_impl): AbsMax()\n",
       "            )\n",
       "          )\n",
       "          (stats_scaling_impl): _StatsScaling(\n",
       "            (affine_rescaling): Identity()\n",
       "            (restrict_clamp_scaling): _RestrictClampValue(\n",
       "              (clamp_min_ste): ScalarClampMinSte()\n",
       "              (restrict_value_impl): FloatRestrictValue()\n",
       "            )\n",
       "            (restrict_scaling_pre): Identity()\n",
       "          )\n",
       "        )\n",
       "        (int_scaling_impl): IntScaling()\n",
       "        (zero_point_impl): ZeroZeroPoint(\n",
       "          (zero_point): StatelessBuffer()\n",
       "        )\n",
       "        (msb_clamp_bit_width_impl): BitWidthConst(\n",
       "          (bit_width): StatelessBuffer()\n",
       "        )\n",
       "      )\n",
       "    )\n",
       "    (bias_quant): BiasQuantProxyFromInjector(\n",
       "      (_zero_hw_sentinel): StatelessBuffer()\n",
       "    )\n",
       "  )\n",
       "  (sigmoid): Sigmoid()\n",
       ")"
      ]
     },
     "execution_count": 59,
     "metadata": {},
     "output_type": "execute_result"
    }
   ],
   "source": [
    "def accuracy(outputs, labels):\n",
    "    preds = outputs.round()\n",
    "    assert len(preds) == len(labels)\n",
    "    return torch.tensor(torch.sum(preds == labels).item() / len(preds))\n",
    "\n",
    "\n",
    "class BaseModel(nn.Module):\n",
    "    \"\"\"\n",
    "    PytorchLightining style\n",
    "    \"\"\"\n",
    "    def training_step(self, batch):\n",
    "        inp, labels = batch\n",
    "        out = self(inp)  # Generate predictions\n",
    "        loss = F.binary_cross_entropy(out, labels)  # Calculate loss\n",
    "        return loss\n",
    "\n",
    "    def validation_step(self, batch) -> Dict:\n",
    "        images, labels = batch\n",
    "        out = self(images)  # Generate predictions\n",
    "        loss = F.binary_cross_entropy(out, labels)  # Calculate loss\n",
    "        acc = accuracy(out, labels)  # Calculate accuracy\n",
    "        return {'val_loss': loss.detach(), 'val_acc': acc}\n",
    "\n",
    "    def validation_epoch_end(self, outputs) -> Dict:\n",
    "        batch_losses = [x['val_loss'] for x in outputs]\n",
    "        epoch_loss = torch.stack(batch_losses).mean()  # Combine losses\n",
    "        batch_accs = [x['val_acc'] for x in outputs]\n",
    "        epoch_acc = torch.stack(batch_accs).mean()  # Combine accuracies\n",
    "        return {'val_loss': epoch_loss.item(), 'val_acc': epoch_acc.item()}\n",
    "\n",
    "    def epoch_end(self, epoch, result) -> None:\n",
    "        print(\"Epoch [{}], val_loss: {:.4f}, val_acc: {:.4f}\".format(epoch + 1, result['val_loss'], result['val_acc']))\n",
    "\n",
    "\n",
    "class SpO2OneFCQuantModel(BaseModel):\n",
    "    \"\"\"\n",
    "    1 linear layer\n",
    "    \"\"\"\n",
    "    def __init__(self):\n",
    "        super().__init__()\n",
    "        self.fc1 = qnn.QuantLinear(in_features=300, out_features=1, bias=False, \n",
    "                                   weight_bit_width=weight_bit_width,\n",
    "                                   return_quant_tensor=True)\n",
    "        self.sigmoid = nn.Sigmoid()\n",
    "\n",
    "    def forward(self, xb):\n",
    "        out = self.fc1(xb)\n",
    "        out = self.sigmoid(out)\n",
    "\n",
    "        return out\n",
    "    \n",
    "\n",
    "class SpO2TwoFCQuantModel(BaseModel):\n",
    "    \"\"\"\n",
    "    2 linear layers + 1 square activation\n",
    "    \"\"\"\n",
    "    def __init__(self):\n",
    "        super().__init__()\n",
    "        self.fc1 = qnn.QuantLinear(in_features=300, out_features=128, bias=False, \n",
    "                                   weight_bit_width=weight_bit_width,\n",
    "                                   return_quant_tensor=True)\n",
    "        self.fc2 = qnn.QuantLinear(in_features=128, out_features=1, bias=False, \n",
    "                                    weight_bit_width=weight_bit_width,\n",
    "                                    return_quant_tensor=True)\n",
    "        self.sigmoid = nn.Sigmoid()\n",
    "\n",
    "    def forward(self, xb):\n",
    "        out = self.fc1(xb)\n",
    "        out = out * out\n",
    "        out = self.fc2(out)\n",
    "        out = self.sigmoid(out)\n",
    "\n",
    "        return out\n",
    "\n",
    "model = SpO2TwoFCQuantModel()\n",
    "model"
   ]
  },
  {
   "cell_type": "markdown",
   "metadata": {},
   "source": [
    "## Train and evaluate"
   ]
  },
  {
   "cell_type": "code",
   "execution_count": 60,
   "metadata": {},
   "outputs": [],
   "source": [
    "def evaluate(model, val_loader) -> Dict:\n",
    "    outputs = [model.validation_step(batch) for batch in val_loader]\n",
    "    return model.validation_epoch_end(outputs)\n",
    "\n",
    "\n",
    "def fit(epochs, lr, model, \n",
    "        train_loader, val_loader, test_loader, \n",
    "        file_path, opt_func=torch.optim.SGD):\n",
    "    history = []\n",
    "    optimizer = opt_func(model.parameters(), lr)\n",
    "    high_acc = 0.8\n",
    "    for epoch in range(epochs):\n",
    "        # Training Phase\n",
    "        for batch in train_loader:\n",
    "            loss = model.training_step(batch)\n",
    "            loss.backward()\n",
    "            optimizer.step()\n",
    "            optimizer.zero_grad()\n",
    "        # Validation phase\n",
    "        result = evaluate(model, val_loader)\n",
    "        model.epoch_end(epoch, result)\n",
    "        history.append(result)\n",
    "\n",
    "        if epoch >= 2:\n",
    "            eval_dict = evaluate(model, test_loader)\n",
    "            print(str(epoch) + \"\\t\" + str(eval_dict))\n",
    "            if eval_dict['val_acc'] > high_acc:\n",
    "                high_acc = eval_dict['val_acc']\n",
    "                torch.save(model.state_dict(), file_path)\n",
    "                print(f\"Saved into {file_path.relative_to(project_path)}\")\n",
    "\n",
    "    return history"
   ]
  },
  {
   "cell_type": "code",
   "execution_count": null,
   "metadata": {},
   "outputs": [],
   "source": [
    "history = [evaluate(model, val_loader)]\n",
    "history += fit(epochs=150, lr=0.001, model=model, \n",
    "               train_loader=train_loader, \n",
    "               val_loader=val_loader, \n",
    "               test_loader=test_loader, \n",
    "               file_path=save_weight_path, \n",
    "               opt_func=torch.optim.Adam)"
   ]
  },
  {
   "cell_type": "markdown",
   "metadata": {},
   "source": [
    "## Inference on Test Dataset"
   ]
  },
  {
   "cell_type": "code",
   "execution_count": 10,
   "metadata": {},
   "outputs": [
    {
     "data": {
      "text/plain": [
       "<All keys matched successfully>"
      ]
     },
     "execution_count": 10,
     "metadata": {},
     "output_type": "execute_result"
    }
   ],
   "source": [
    "model.load_state_dict(\n",
    "    torch.load(save_weight_path, \n",
    "    map_location=torch.device('cpu'))\n",
    ")"
   ]
  },
  {
   "cell_type": "markdown",
   "metadata": {},
   "source": [
    "### Automatic inference with Brevitas"
   ]
  },
  {
   "cell_type": "code",
   "execution_count": 11,
   "metadata": {},
   "outputs": [
    {
     "name": "stdout",
     "output_type": "stream",
     "text": [
      "test accuracy with trained 2-bit weights = 0.8245192170143127\n"
     ]
    },
    {
     "name": "stderr",
     "output_type": "stream",
     "text": [
      "/home/dk/miniconda3/envs/pockethhe/lib/python3.9/site-packages/torch/nn/modules/activation.py:295: UserWarning: Defining your `__torch_function__` as a plain method is deprecated and will be an error in future, please define it as a classmethod. (Triggered internally at ../torch/csrc/utils/python_arg_parser.cpp:363.)\n",
      "  return torch.sigmoid(input)\n"
     ]
    }
   ],
   "source": [
    "def evaluate(model, val_loader) -> Dict:\n",
    "    outputs = [model.validation_step(batch) for batch in val_loader]\n",
    "    return model.validation_epoch_end(outputs)\n",
    "\n",
    "acc = evaluate(model, test_loader)['val_acc']\n",
    "print(f\"test accuracy with trained {weight_bit_width}-bit weights = {acc}\")"
   ]
  },
  {
   "cell_type": "markdown",
   "metadata": {},
   "source": [
    "### Manual Inference"
   ]
  },
  {
   "cell_type": "code",
   "execution_count": 17,
   "metadata": {},
   "outputs": [
    {
     "name": "stdout",
     "output_type": "stream",
     "text": [
      "fc1.shape = torch.Size([1, 300])\n",
      "fc1.unique() = tensor([-1,  0,  1], dtype=torch.int8)\n",
      "got 82.44% accuracy\n",
      "max_value = tensor(224, dtype=torch.int16)\n",
      "min_value = tensor(-187, dtype=torch.int16)\n"
     ]
    }
   ],
   "source": [
    "total_acc = 0\n",
    "max_value = -9999\n",
    "min_value = 9999\n",
    "torch_dtype = torch.int16\n",
    "\n",
    "fc1 = model.fc1.int_weight()\n",
    "print(f\"{fc1.shape = }\")\n",
    "print(f\"{fc1.unique() = }\")\n",
    "fc1 = fc1.to(dtype=torch_dtype)\n",
    "fc1 = torch.transpose(fc1, 0, 1)\n",
    "\n",
    "if isinstance(model, SpO2TwoFCQuantModel):\n",
    "    fc2 = model.fc2.int_weight()\n",
    "    print(f\"{fc2.shape = }\")\n",
    "    print(f\"{fc2.unique() = }\")\n",
    "    fc2 = fc2.to(dtype=torch_dtype)\n",
    "    fc2 = torch.transpose(fc2, 0, 1)\n",
    "\n",
    "sigmoid = nn.Sigmoid()\n",
    "\n",
    "for inp, label in test_loader:\n",
    "    inp = inp.to(dtype=torch_dtype)\n",
    "    out = torch.matmul(inp, fc1)\n",
    "\n",
    "    if isinstance(model, SpO2TwoFCQuantModel):\n",
    "        out = out * out\n",
    "        out = torch.matmul(out, fc2)\n",
    "        \n",
    "    if torch.max(out) > max_value:\n",
    "        max_value = torch.max(out)\n",
    "    if torch.min(out) < min_value:\n",
    "        min_value = torch.min(out)\n",
    "\n",
    "    out = sigmoid(out)\n",
    "    pred = out.round()\n",
    "    acc = (pred == label)\n",
    "    total_acc += acc.sum()\n",
    "\n",
    "\n",
    "print(f\"got {total_acc / len(test_dataset) * 100:.2f}% accuracy\")\n",
    "print(f\"{max_value = }\")\n",
    "print(f\"{min_value = }\")"
   ]
  },
  {
   "cell_type": "code",
   "execution_count": null,
   "metadata": {},
   "outputs": [],
   "source": []
  }
 ],
 "metadata": {
  "kernelspec": {
   "display_name": "pockethhe",
   "language": "python",
   "name": "python3"
  },
  "language_info": {
   "codemirror_mode": {
    "name": "ipython",
    "version": 3
   },
   "file_extension": ".py",
   "mimetype": "text/x-python",
   "name": "python",
   "nbconvert_exporter": "python",
   "pygments_lexer": "ipython3",
   "version": "3.9.16"
  },
  "orig_nbformat": 4
 },
 "nbformat": 4,
 "nbformat_minor": 2
}
