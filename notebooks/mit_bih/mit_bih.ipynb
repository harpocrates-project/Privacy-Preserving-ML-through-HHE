{
 "cells": [
  {
   "attachments": {},
   "cell_type": "markdown",
   "metadata": {},
   "source": [
    "# Binary Classification on the MIT-BIH Arrhythmia Dataset"
   ]
  },
  {
   "cell_type": "code",
   "execution_count": 1,
   "metadata": {},
   "outputs": [],
   "source": [
    "import h5py\n",
    "from pathlib import Path\n",
    "from copy import deepcopy\n",
    "\n",
    "import torch\n",
    "from torch.utils.data import DataLoader, Dataset\n",
    "\n",
    "import numpy as np\n",
    "import matplotlib.pyplot as plt\n",
    "plt.style.use('dark_background')"
   ]
  },
  {
   "cell_type": "code",
   "execution_count": 2,
   "metadata": {},
   "outputs": [
    {
     "name": "stdout",
     "output_type": "stream",
     "text": [
      "torch version: 1.8.1+cu102\n"
     ]
    }
   ],
   "source": [
    "print(f'torch version: {torch.__version__}')"
   ]
  },
  {
   "attachments": {},
   "cell_type": "markdown",
   "metadata": {},
   "source": [
    "## Dataset"
   ]
  },
  {
   "cell_type": "code",
   "execution_count": 3,
   "metadata": {},
   "outputs": [],
   "source": [
    "class BinaryECG(Dataset):\n",
    "    \"\"\"The class used by the client to load the dataset\n",
    "\n",
    "    Args:\n",
    "        Dataset ([type]): [description]\n",
    "    \"\"\"\n",
    "    def __init__(self, train_path: Path, test_path: Path, train=True):\n",
    "        if train:\n",
    "            with h5py.File(train_path, 'r') as hdf:\n",
    "                self.x = hdf['x_train'][:]\n",
    "                self.y = hdf['y_train'][:]\n",
    "                self.binary_y = deepcopy(self.y)  # for binary classification\n",
    "                self.binary_y[self.binary_y > 0] = 1\n",
    "        else:\n",
    "            with h5py.File(test_path, 'r') as hdf:\n",
    "                self.x = hdf['x_test'][:]\n",
    "                self.y = hdf['y_test'][:]\n",
    "                self.binary_y = deepcopy(self.y)\n",
    "                self.binary_y[self.binary_y > 0] = 1\n",
    "    \n",
    "    def __len__(self):\n",
    "        return len(self.x)\n",
    "    \n",
    "    def __getitem__(self, idx):\n",
    "        return torch.tensor(self.x[idx], dtype=torch.float), torch.tensor(self.binary_y[idx])"
   ]
  },
  {
   "cell_type": "code",
   "execution_count": 4,
   "metadata": {},
   "outputs": [],
   "source": [
    "batch_size = 4\n",
    "train_dataset = BinaryECG(train=True, train_path=\"mitbih_train.hdf5\", test_path=\"mitbih_test.hdf5\")\n",
    "test_dataset = BinaryECG(train=False, train_path=\"mitbih_train.hdf5\", test_path=\"mitbih_test.hdf5\")\n",
    "train_loader = DataLoader(train_dataset, batch_size=batch_size)\n",
    "test_loader = DataLoader(test_dataset, batch_size=batch_size)"
   ]
  },
  {
   "cell_type": "code",
   "execution_count": 34,
   "metadata": {},
   "outputs": [
    {
     "name": "stdout",
     "output_type": "stream",
     "text": [
      "(13245, 1, 128)\n",
      "(13245,)\n",
      "(13245, 1, 128)\n",
      "(13245,)\n"
     ]
    }
   ],
   "source": [
    "print(train_dataset.x.shape)\n",
    "print(train_dataset.y.shape)\n",
    "print(test_dataset.x.shape)\n",
    "print(test_dataset.y.shape)"
   ]
  },
  {
   "cell_type": "code",
   "execution_count": 5,
   "metadata": {},
   "outputs": [
    {
     "name": "stdout",
     "output_type": "stream",
     "text": [
      "(1, 128)\n"
     ]
    },
    {
     "data": {
      "text/plain": [
       "[<matplotlib.lines.Line2D at 0x7fbea79bb6d0>]"
      ]
     },
     "execution_count": 5,
     "metadata": {},
     "output_type": "execute_result"
    },
    {
     "data": {
      "image/png": "[encoded data removed]",
      "text/plain": [
       "<Figure size 640x480 with 1 Axes>"
      ]
     },
     "metadata": {},
     "output_type": "display_data"
    }
   ],
   "source": [
    "x0 = train_dataset.x[0]\n",
    "print(x0.shape)\n",
    "plt.plot(x0[0])"
   ]
  },
  {
   "cell_type": "code",
   "execution_count": 6,
   "metadata": {},
   "outputs": [
    {
     "data": {
      "text/plain": [
       "array([[0.47613414, 0.5020567 , 0.50298215, 0.46231327, 0.41928844,\n",
       "        0.41842108, 0.43061455, 0.44688531, 0.46408802, 0.47293354,\n",
       "        0.47899632, 0.48582534, 0.48893095, 0.48258178, 0.47326914,\n",
       "        0.46113493, 0.455493  , 0.47573456, 0.49812282, 0.50142268,\n",
       "        0.49909754, 0.4960816 , 0.49134992, 0.4847633 , 0.47915717,\n",
       "        0.47762139, 0.47941395, 0.48882176, 0.49701847, 0.49347912,\n",
       "        0.48651553, 0.48023663, 0.47407637, 0.46977147, 0.46597436,\n",
       "        0.46211728, 0.45808918, 0.45318487, 0.44824447, 0.44322334,\n",
       "        0.43951277, 0.43997245, 0.4410783 , 0.44093789, 0.43854472,\n",
       "        0.42746798, 0.41866831, 0.42362392, 0.43467756, 0.45355196,\n",
       "        0.46949916, 0.46741965, 0.45934733, 0.45182872, 0.44276687,\n",
       "        0.42654805, 0.41805189, 0.43117256, 0.46263137, 0.53157473,\n",
       "        0.59875968, 0.61784347, 0.62479582, 0.63498664, 0.65088522,\n",
       "        0.67939663, 0.6717122 , 0.53892088, 0.38295176, 0.27504905,\n",
       "        0.19901058, 0.18376322, 0.19361621, 0.21105314, 0.22193609,\n",
       "        0.18308223, 0.14579817, 0.15643591, 0.18355273, 0.21700833,\n",
       "        0.25267785, 0.27851548, 0.30314989, 0.33109226, 0.3600533 ,\n",
       "        0.39449314, 0.42292988, 0.43165459, 0.43040441, 0.4204936 ,\n",
       "        0.40817158, 0.39964169, 0.3963274 , 0.40884301, 0.42161387,\n",
       "        0.41734978, 0.4107301 , 0.41234156, 0.41459165, 0.41121749,\n",
       "        0.40965522, 0.42157927, 0.43068396, 0.41869718, 0.40195289,\n",
       "        0.38904382, 0.38004101, 0.38158553, 0.38670215, 0.39322759,\n",
       "        0.39640089, 0.38446916, 0.37183684, 0.37240077, 0.37561081,\n",
       "        0.37670637, 0.37586566, 0.36948463, 0.36176488, 0.35456541,\n",
       "        0.34983307, 0.35228016, 0.35721287, 0.36245956, 0.36675617,\n",
       "        0.36668541, 0.36517786, 0.36366678]])"
      ]
     },
     "execution_count": 6,
     "metadata": {},
     "output_type": "execute_result"
    }
   ],
   "source": [
    "x0"
   ]
  },
  {
   "cell_type": "code",
   "execution_count": 69,
   "metadata": {},
   "outputs": [
    {
     "name": "stdout",
     "output_type": "stream",
     "text": [
      "train_dataset.binary_y = array([1, 1, 1, ..., 1, 1, 0])\n",
      "train_dataset.y = array([2, 4, 2, ..., 1, 4, 0])\n",
      "there are 3000 normal beats and 10245 abnormal beats in the train dataset\n",
      "there are 3000 normal beats and 10245 abnormal beats in the train dataset\n"
     ]
    }
   ],
   "source": [
    "print(f\"{train_dataset.binary_y = }\")\n",
    "print(f\"{train_dataset.y = }\")\n",
    "\n",
    "unique, train_counts = np.unique(train_dataset.binary_y, return_counts=True)\n",
    "print(f\"there are {train_counts[0]} normal beats and {train_counts[1]} abnormal beats in the train dataset\")\n",
    "unique, test_counts = np.unique(test_dataset.binary_y, return_counts=True)\n",
    "print(f\"there are {test_counts[0]} normal beats and {test_counts[1]} abnormal beats in the train dataset\")"
   ]
  },
  {
   "attachments": {},
   "cell_type": "markdown",
   "metadata": {},
   "source": [
    "## Model"
   ]
  },
  {
   "attachments": {},
   "cell_type": "markdown",
   "metadata": {},
   "source": [
    "A simple linear regression model"
   ]
  },
  {
   "cell_type": "code",
   "execution_count": 9,
   "metadata": {},
   "outputs": [],
   "source": [
    "class LinearModel(torch.nn.Module):\n",
    "    def __init__(self, input_size, output_size):\n",
    "        super(LinearModel, self).__init__()\n",
    "        self.linear = torch.nn.Linear(input_size, output_size)\n",
    "        self.sigmoid = torch.nn.Sigmoid()\n",
    "    \n",
    "    def forward(self, x):\n",
    "        y_pred = self.linear(x)\n",
    "        y_pred = self.sigmoid(y_pred)\n",
    "        return y_pred"
   ]
  },
  {
   "attachments": {},
   "cell_type": "markdown",
   "metadata": {},
   "source": [
    "## Training"
   ]
  },
  {
   "cell_type": "code",
   "execution_count": 74,
   "metadata": {},
   "outputs": [],
   "source": [
    "epoch = 100\n",
    "lr = 0.001"
   ]
  },
  {
   "cell_type": "code",
   "execution_count": 13,
   "metadata": {},
   "outputs": [],
   "source": [
    "seed = 0\n",
    "np.random.seed(seed)\n",
    "torch.manual_seed(seed)\n",
    "torch.cuda.manual_seed(seed)\n",
    "torch.cuda.manual_seed_all(seed) # if you are using multi-GPU.\n",
    "torch.backends.cudnn.benchmark = False\n",
    "torch.backends.cudnn.deterministic = True"
   ]
  },
  {
   "cell_type": "code",
   "execution_count": null,
   "metadata": {},
   "outputs": [],
   "source": [
    "device = torch.device('cuda:0' if torch.cuda.is_available() else 'cpu')\n",
    "if torch.cuda.is_available():\n",
    "    print(f'device: {torch.cuda.get_device_name(0)}')\n",
    "\n",
    "def train():\n",
    "    lr_model = LinearModel(128, 1)\n",
    "    lr_model.to(device)\n",
    "\n",
    "    criterion = torch.nn.BCELoss()\n",
    "    optimizer = torch.optim.Adam(lr_model.parameters(), lr=lr)\n",
    "\n",
    "    train_losses = []\n",
    "    accuracies = []\n",
    "\n",
    "    for e in range(epoch):\n",
    "        print(f\"--------- epoch: {e+1} ---------\")\n",
    "        train_loss = 0.0\n",
    "        corrects = 0\n",
    "        total_examples = 0\n",
    "        for i, (x, y) in enumerate(train_loader):\n",
    "            optimizer.zero_grad()  # zero the gradients\n",
    "            # prepare data\n",
    "            x = x.to(device)\n",
    "            y = y.to(device).to(torch.float32)\n",
    "            # the forward pass\n",
    "            y_pred = lr_model(x)\n",
    "            y_pred = y_pred.reshape(y.shape)\n",
    "            # the backward pass\n",
    "            loss = criterion(y_pred, y)  # calculate the loss\n",
    "            loss.backward()  # get the gradients\n",
    "            optimizer.step()  # update the params based on the gradients\n",
    "            # collect training results\n",
    "            train_loss += loss.item()\n",
    "            corrects += torch.sum((y_pred.round() == y))\n",
    "            total_examples += len(y)\n",
    "            # print(f\"{y = }, {y_pred.round() = }\")\n",
    "            # print(f\"corrects = {corrects.item()}\")\n",
    "\n",
    "        print(f\"corrects / total_examples = {corrects.item()} / {total_examples}\")\n",
    "        train_losses.append(train_loss / len(train_loader))\n",
    "        accuracies.append(corrects / total_examples)\n",
    "        print(f\"loss = {train_losses[-1]:.4f}\")\n",
    "        print(f\"accuracy = {accuracies[-1]:.2f}\")\n",
    "        # print(total_examples)\n",
    "        \n",
    "\n",
    "train()"
   ]
  },
  {
   "cell_type": "code",
   "execution_count": null,
   "metadata": {},
   "outputs": [],
   "source": []
  }
 ],
 "metadata": {
  "kernelspec": {
   "display_name": "hesplitnet",
   "language": "python",
   "name": "python3"
  },
  "language_info": {
   "codemirror_mode": {
    "name": "ipython",
    "version": 3
   },
   "file_extension": ".py",
   "mimetype": "text/x-python",
   "name": "python",
   "nbconvert_exporter": "python",
   "pygments_lexer": "ipython3",
   "version": "3.9.16"
  },
  "orig_nbformat": 4,
  "vscode": {
   "interpreter": {
    "hash": "399b82d93c603256e32b1f50bab1e44304c1a63f6ab0c291ce7489d4e70c0394"
   }
  }
 },
 "nbformat": 4,
 "nbformat_minor": 2
}
