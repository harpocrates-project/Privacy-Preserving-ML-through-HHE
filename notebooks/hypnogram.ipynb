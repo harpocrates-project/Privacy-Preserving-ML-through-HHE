{
 "cells": [
  {
   "attachments": {},
   "cell_type": "markdown",
   "metadata": {},
   "source": [
    "# Binary Classification on the Hypnogram Data"
   ]
  },
  {
   "cell_type": "code",
   "execution_count": 1,
   "metadata": {},
   "outputs": [],
   "source": [
    "from pathlib import Path\n",
    "\n",
    "import numpy as np\n",
    "import matplotlib.pyplot as plt\n",
    "import torch\n",
    "from torch.utils.data import Dataset, DataLoader\n",
    "import lightning.pytorch as pl"
   ]
  },
  {
   "attachments": {},
   "cell_type": "markdown",
   "metadata": {},
   "source": [
    "## Loading data"
   ]
  },
  {
   "cell_type": "code",
   "execution_count": 2,
   "metadata": {},
   "outputs": [],
   "source": [
    "project_path = Path.cwd().parent\n",
    "input_path = project_path / 'data' / 'hypnogram' / 'hypnogram_input.csv'\n",
    "output_path = project_path / 'data' / 'hypnogram' / 'hypnogram_output.csv'"
   ]
  },
  {
   "cell_type": "code",
   "execution_count": 3,
   "metadata": {},
   "outputs": [],
   "source": [
    "class Hypnogram(Dataset):\n",
    "\n",
    "    def __init__(self, input_path: Path, output_path: Path, train=True, scale=False):\n",
    "        x = np.loadtxt(input_path, dtype=int, delimiter=',')\n",
    "        y = np.loadtxt(output_path, dtype=int, delimiter=',')\n",
    "        if scale:\n",
    "            x = (x - np.min(x)) / (np.max(x) - np.min(x))\n",
    "\n",
    "        split_index = int(x.shape[0] * 0.8)\n",
    "        if train:\n",
    "            self.x = x[:split_index, :]\n",
    "            self.y = y[:split_index]\n",
    "        else:\n",
    "            self.x = x[split_index:, :]\n",
    "            self.y = y[split_index:]\n",
    "        assert self.x.shape[0] == self.y.shape[0]\n",
    "        self.x = torch.tensor(self.x, dtype=torch.float)\n",
    "        self.y = torch.tensor(self.y, dtype=torch.float)\n",
    "        self.y = torch.unsqueeze(self.y, dim=1)\n",
    "    \n",
    "    def __len__(self):\n",
    "        return len(self.x)\n",
    "    \n",
    "    def __getitem__(self, idx):\n",
    "        return self.x[idx], self.y[idx]\n",
    "    \n",
    "    def print_info(self):\n",
    "        print(f\"{self.x.shape = }\")\n",
    "        print(f\"{self.y.shape = }\")\n",
    "        print(f\"{torch.max(self.x) = }\")\n",
    "        print(f\"{torch.min(self.x) = }\")"
   ]
  },
  {
   "attachments": {},
   "cell_type": "markdown",
   "metadata": {},
   "source": [
    "## Model & Hyper-parameters"
   ]
  },
  {
   "cell_type": "code",
   "execution_count": 4,
   "metadata": {},
   "outputs": [],
   "source": [
    "class TorchLinearModel(torch.nn.Module):\n",
    "    def __init__(self, input_size, output_size):\n",
    "        super(TorchLinearModel, self).__init__()\n",
    "        self.linear = torch.nn.Linear(input_size, output_size)\n",
    "        self.sigmoid = torch.nn.Sigmoid()\n",
    "    \n",
    "    def forward(self, x):\n",
    "        y_pred = self.linear(x)\n",
    "        y_pred = self.sigmoid(y_pred)\n",
    "        return y_pred"
   ]
  },
  {
   "cell_type": "code",
   "execution_count": 5,
   "metadata": {},
   "outputs": [],
   "source": [
    "batch_size = 4\n",
    "epoch = 500 \n",
    "lr = 0.001"
   ]
  },
  {
   "cell_type": "code",
   "execution_count": 6,
   "metadata": {},
   "outputs": [],
   "source": [
    "seed = 0\n",
    "np.random.seed(seed)\n",
    "torch.manual_seed(seed)\n",
    "torch.cuda.manual_seed(seed)\n",
    "torch.cuda.manual_seed_all(seed) # if you are using multi-GPU.\n",
    "torch.backends.cudnn.benchmark = False\n",
    "torch.backends.cudnn.deterministic = True"
   ]
  },
  {
   "cell_type": "code",
   "execution_count": 7,
   "metadata": {},
   "outputs": [
    {
     "data": {
      "text/plain": [
       "TorchLinearModel(\n",
       "  (linear): Linear(in_features=300, out_features=1, bias=True)\n",
       "  (sigmoid): Sigmoid()\n",
       ")"
      ]
     },
     "execution_count": 7,
     "metadata": {},
     "output_type": "execute_result"
    }
   ],
   "source": [
    "# device = torch.device('cuda:0' if torch.cuda.is_available() else 'cpu')\n",
    "# if torch.cuda.is_available():\n",
    "#     print(f'device: {torch.cuda.get_device_name(0)}')\n",
    "\n",
    "device = torch.device('cpu')\n",
    "lr_model = TorchLinearModel(300, 1)\n",
    "lr_model.to(device)\n",
    "lr_model"
   ]
  },
  {
   "cell_type": "code",
   "execution_count": 9,
   "metadata": {},
   "outputs": [],
   "source": [
    "def train(model, train_loader, test_loader):\n",
    "    criterion = torch.nn.BCELoss()\n",
    "    optimizer = torch.optim.Adam(model.parameters(), lr=lr)\n",
    "\n",
    "    train_losses = []\n",
    "    train_accuracies = []\n",
    "    test_accuracies = []\n",
    "\n",
    "    for e in range(epoch):\n",
    "        print(f\"--------- epoch: {e+1} ---------\")\n",
    "        # training\n",
    "        train_loss = 0.0\n",
    "        corrects = 0\n",
    "        total_examples = 0\n",
    "        for i, (x, y) in enumerate(train_loader):\n",
    "            optimizer.zero_grad()  # zero the gradients\n",
    "            # prepare data\n",
    "            x = x.to(device)\n",
    "            y = y.to(device).to(torch.float32)\n",
    "            # the forward pass\n",
    "            y_pred = model(x)\n",
    "            y_pred = y_pred.reshape(y.shape)\n",
    "            # the backward pass\n",
    "            loss = criterion(y_pred, y)  # calculate the loss\n",
    "            loss.backward()  # get the gradients\n",
    "            optimizer.step()  # update the params based on the gradients\n",
    "            # collect training results\n",
    "            train_loss += loss.item()\n",
    "            corrects += torch.sum((y_pred.round() == y))\n",
    "            total_examples += len(y)\n",
    "\n",
    "        train_losses.append(train_loss / len(train_loader))\n",
    "        train_accuracies.append(corrects / total_examples)\n",
    "        print(f\"num_corrects / total_examples = {corrects.item()} / {total_examples}\")\n",
    "        print(f\"training loss = {train_losses[-1]:.4f}\")\n",
    "        print(f\"training accuracy = {train_accuracies[-1]:.4f}\")\n",
    "        # print(total_examples)\n",
    "\n",
    "        # testing\n",
    "        test_corrects = 0\n",
    "        test_total_examples = 0\n",
    "        with torch.no_grad():\n",
    "            for i, (x, y) in enumerate(test_loader):\n",
    "                # prepare data\n",
    "                x = x.to(device)\n",
    "                y = y.to(device).to(torch.float32)\n",
    "                # the forward pass\n",
    "                y_pred = model(x)\n",
    "                y_pred = y_pred.reshape(y.shape)\n",
    "                # collect testing results\n",
    "                test_corrects += torch.sum((y_pred.round() == y))\n",
    "                test_total_examples += len(y)\n",
    "\n",
    "        test_accuracies.append(test_corrects.item() / test_total_examples)\n",
    "        print(f\"num_test_corrects / test_total_examples = {test_corrects.item()} / {test_total_examples}\")\n",
    "        print(f\"testing accuracy = {test_accuracies[-1]:.4f}\")\n",
    "\n",
    "    return train_losses, train_accuracies, test_accuracies"
   ]
  },
  {
   "attachments": {},
   "cell_type": "markdown",
   "metadata": {},
   "source": [
    "## Training with Pytorch - Integer Data (No Scaling)"
   ]
  },
  {
   "cell_type": "code",
   "execution_count": 10,
   "metadata": {},
   "outputs": [
    {
     "name": "stdout",
     "output_type": "stream",
     "text": [
      "self.x.shape = torch.Size([36865, 300])\n",
      "self.y.shape = torch.Size([36865, 1])\n",
      "torch.max(self.x) = tensor(31.)\n",
      "torch.min(self.x) = tensor(0.)\n"
     ]
    }
   ],
   "source": [
    "train_dataset = Hypnogram(input_path=input_path, \n",
    "                          output_path=output_path, \n",
    "                          train=True,\n",
    "                          scale=False)\n",
    "train_dataset.print_info()"
   ]
  },
  {
   "cell_type": "code",
   "execution_count": 11,
   "metadata": {},
   "outputs": [
    {
     "name": "stdout",
     "output_type": "stream",
     "text": [
      "self.x.shape = torch.Size([9217, 300])\n",
      "self.y.shape = torch.Size([9217, 1])\n",
      "torch.max(self.x) = tensor(31.)\n",
      "torch.min(self.x) = tensor(0.)\n"
     ]
    }
   ],
   "source": [
    "test_dataset = Hypnogram(input_path=input_path, output_path=output_path, train=False)\n",
    "test_dataset.print_info()"
   ]
  },
  {
   "cell_type": "code",
   "execution_count": 12,
   "metadata": {},
   "outputs": [
    {
     "data": {
      "text/plain": [
       "[<matplotlib.lines.Line2D at 0x7fbe48878c10>]"
      ]
     },
     "execution_count": 12,
     "metadata": {},
     "output_type": "execute_result"
    },
    {
     "data": {
      "image/png": "[encoded data removed]",
      "text/plain": [
       "<Figure size 640x480 with 1 Axes>"
      ]
     },
     "metadata": {},
     "output_type": "display_data"
    }
   ],
   "source": [
    "plt.plot(train_dataset.x[0])"
   ]
  },
  {
   "cell_type": "code",
   "execution_count": 13,
   "metadata": {},
   "outputs": [],
   "source": [
    "train_loader = DataLoader(train_dataset, batch_size=batch_size)\n",
    "test_loader = DataLoader(test_dataset, batch_size=batch_size)"
   ]
  },
  {
   "cell_type": "code",
   "execution_count": 14,
   "metadata": {},
   "outputs": [
    {
     "name": "stdout",
     "output_type": "stream",
     "text": [
      "--------- epoch: 1 ---------\n",
      "num_corrects / total_examples = 22724 / 36865\n",
      "training loss = 0.9803\n",
      "training accuracy = 0.6164\n",
      "num_test_corrects / test_total_examples = 6432 / 9217\n",
      "testing accuracy = 0.6978\n",
      "--------- epoch: 2 ---------\n",
      "num_corrects / total_examples = 22878 / 36865\n",
      "training loss = 0.9448\n",
      "training accuracy = 0.6206\n",
      "num_test_corrects / test_total_examples = 6435 / 9217\n",
      "testing accuracy = 0.6982\n",
      "--------- epoch: 3 ---------\n",
      "num_corrects / total_examples = 23060 / 36865\n",
      "training loss = 0.9273\n",
      "training accuracy = 0.6255\n",
      "num_test_corrects / test_total_examples = 6438 / 9217\n",
      "testing accuracy = 0.6985\n",
      "--------- epoch: 4 ---------\n",
      "num_corrects / total_examples = 23190 / 36865\n",
      "training loss = 0.9140\n",
      "training accuracy = 0.6291\n",
      "num_test_corrects / test_total_examples = 6443 / 9217\n",
      "testing accuracy = 0.6990\n",
      "--------- epoch: 5 ---------\n",
      "num_corrects / total_examples = 23374 / 36865\n",
      "training loss = 0.9042\n",
      "training accuracy = 0.6340\n",
      "num_test_corrects / test_total_examples = 6443 / 9217\n",
      "testing accuracy = 0.6990\n",
      "--------- epoch: 6 ---------\n",
      "num_corrects / total_examples = 23483 / 36865\n",
      "training loss = 0.8959\n",
      "training accuracy = 0.6370\n",
      "num_test_corrects / test_total_examples = 6445 / 9217\n",
      "testing accuracy = 0.6993\n",
      "--------- epoch: 7 ---------\n",
      "num_corrects / total_examples = 23573 / 36865\n",
      "training loss = 0.8889\n",
      "training accuracy = 0.6394\n",
      "num_test_corrects / test_total_examples = 6453 / 9217\n",
      "testing accuracy = 0.7001\n",
      "--------- epoch: 8 ---------\n",
      "num_corrects / total_examples = 23678 / 36865\n",
      "training loss = 0.8828\n",
      "training accuracy = 0.6423\n",
      "num_test_corrects / test_total_examples = 6458 / 9217\n",
      "testing accuracy = 0.7007\n",
      "--------- epoch: 9 ---------\n",
      "num_corrects / total_examples = 23747 / 36865\n",
      "training loss = 0.8777\n",
      "training accuracy = 0.6442\n",
      "num_test_corrects / test_total_examples = 6461 / 9217\n",
      "testing accuracy = 0.7010\n",
      "--------- epoch: 10 ---------\n",
      "num_corrects / total_examples = 23839 / 36865\n",
      "training loss = 0.8721\n",
      "training accuracy = 0.6467\n",
      "num_test_corrects / test_total_examples = 6464 / 9217\n",
      "testing accuracy = 0.7013\n",
      "--------- epoch: 11 ---------\n",
      "num_corrects / total_examples = 23894 / 36865\n",
      "training loss = 0.8668\n",
      "training accuracy = 0.6481\n",
      "num_test_corrects / test_total_examples = 6468 / 9217\n",
      "testing accuracy = 0.7017\n",
      "--------- epoch: 12 ---------\n",
      "num_corrects / total_examples = 23985 / 36865\n",
      "training loss = 0.8624\n",
      "training accuracy = 0.6506\n",
      "num_test_corrects / test_total_examples = 6473 / 9217\n",
      "testing accuracy = 0.7023\n",
      "--------- epoch: 13 ---------\n",
      "num_corrects / total_examples = 24045 / 36865\n",
      "training loss = 0.8587\n",
      "training accuracy = 0.6522\n",
      "num_test_corrects / test_total_examples = 6475 / 9217\n",
      "testing accuracy = 0.7025\n",
      "--------- epoch: 14 ---------\n",
      "num_corrects / total_examples = 24126 / 36865\n",
      "training loss = 0.8551\n",
      "training accuracy = 0.6544\n",
      "num_test_corrects / test_total_examples = 6481 / 9217\n",
      "testing accuracy = 0.7032\n",
      "--------- epoch: 15 ---------\n",
      "num_corrects / total_examples = 24172 / 36865\n",
      "training loss = 0.8522\n",
      "training accuracy = 0.6557\n",
      "num_test_corrects / test_total_examples = 6490 / 9217\n",
      "testing accuracy = 0.7041\n",
      "--------- epoch: 16 ---------\n",
      "num_corrects / total_examples = 24219 / 36865\n",
      "training loss = 0.8498\n",
      "training accuracy = 0.6570\n",
      "num_test_corrects / test_total_examples = 6497 / 9217\n",
      "testing accuracy = 0.7049\n",
      "--------- epoch: 17 ---------\n",
      "num_corrects / total_examples = 24266 / 36865\n",
      "training loss = 0.8476\n",
      "training accuracy = 0.6582\n",
      "num_test_corrects / test_total_examples = 6508 / 9217\n",
      "testing accuracy = 0.7061\n",
      "--------- epoch: 18 ---------\n",
      "num_corrects / total_examples = 24317 / 36865\n",
      "training loss = 0.8456\n",
      "training accuracy = 0.6596\n",
      "num_test_corrects / test_total_examples = 6512 / 9217\n",
      "testing accuracy = 0.7065\n",
      "--------- epoch: 19 ---------\n",
      "num_corrects / total_examples = 24356 / 36865\n",
      "training loss = 0.8438\n",
      "training accuracy = 0.6607\n",
      "num_test_corrects / test_total_examples = 6517 / 9217\n",
      "testing accuracy = 0.7071\n",
      "--------- epoch: 20 ---------\n",
      "num_corrects / total_examples = 24374 / 36865\n",
      "training loss = 0.8420\n",
      "training accuracy = 0.6612\n",
      "num_test_corrects / test_total_examples = 6523 / 9217\n",
      "testing accuracy = 0.7077\n",
      "--------- epoch: 21 ---------\n",
      "num_corrects / total_examples = 24412 / 36865\n",
      "training loss = 0.8405\n",
      "training accuracy = 0.6622\n",
      "num_test_corrects / test_total_examples = 6525 / 9217\n",
      "testing accuracy = 0.7079\n",
      "--------- epoch: 22 ---------\n",
      "num_corrects / total_examples = 24470 / 36865\n",
      "training loss = 0.8391\n",
      "training accuracy = 0.6638\n",
      "num_test_corrects / test_total_examples = 6532 / 9217\n",
      "testing accuracy = 0.7087\n",
      "--------- epoch: 23 ---------\n",
      "num_corrects / total_examples = 24485 / 36865\n",
      "training loss = 0.8378\n",
      "training accuracy = 0.6642\n",
      "num_test_corrects / test_total_examples = 6534 / 9217\n",
      "testing accuracy = 0.7089\n",
      "--------- epoch: 24 ---------\n",
      "num_corrects / total_examples = 24520 / 36865\n",
      "training loss = 0.8367\n",
      "training accuracy = 0.6651\n",
      "num_test_corrects / test_total_examples = 6537 / 9217\n",
      "testing accuracy = 0.7092\n",
      "--------- epoch: 25 ---------\n",
      "num_corrects / total_examples = 24561 / 36865\n",
      "training loss = 0.8357\n",
      "training accuracy = 0.6662\n",
      "num_test_corrects / test_total_examples = 6541 / 9217\n",
      "testing accuracy = 0.7097\n",
      "--------- epoch: 26 ---------\n",
      "num_corrects / total_examples = 24584 / 36865\n",
      "training loss = 0.8348\n",
      "training accuracy = 0.6669\n",
      "num_test_corrects / test_total_examples = 6544 / 9217\n",
      "testing accuracy = 0.7100\n",
      "--------- epoch: 27 ---------\n",
      "num_corrects / total_examples = 24620 / 36865\n",
      "training loss = 0.8340\n",
      "training accuracy = 0.6678\n",
      "num_test_corrects / test_total_examples = 6553 / 9217\n",
      "testing accuracy = 0.7110\n",
      "--------- epoch: 28 ---------\n",
      "num_corrects / total_examples = 24646 / 36865\n",
      "training loss = 0.8333\n",
      "training accuracy = 0.6685\n",
      "num_test_corrects / test_total_examples = 6560 / 9217\n",
      "testing accuracy = 0.7117\n",
      "--------- epoch: 29 ---------\n",
      "num_corrects / total_examples = 24659 / 36865\n",
      "training loss = 0.8327\n",
      "training accuracy = 0.6689\n",
      "num_test_corrects / test_total_examples = 6564 / 9217\n",
      "testing accuracy = 0.7122\n",
      "--------- epoch: 30 ---------\n",
      "num_corrects / total_examples = 24678 / 36865\n",
      "training loss = 0.8321\n",
      "training accuracy = 0.6694\n",
      "num_test_corrects / test_total_examples = 6562 / 9217\n",
      "testing accuracy = 0.7119\n",
      "--------- epoch: 31 ---------\n",
      "num_corrects / total_examples = 24706 / 36865\n",
      "training loss = 0.8315\n",
      "training accuracy = 0.6702\n",
      "num_test_corrects / test_total_examples = 6569 / 9217\n",
      "testing accuracy = 0.7127\n",
      "--------- epoch: 32 ---------\n",
      "num_corrects / total_examples = 24732 / 36865\n",
      "training loss = 0.8310\n",
      "training accuracy = 0.6709\n",
      "num_test_corrects / test_total_examples = 6573 / 9217\n",
      "testing accuracy = 0.7131\n",
      "--------- epoch: 33 ---------\n"
     ]
    },
    {
     "ename": "KeyboardInterrupt",
     "evalue": "",
     "output_type": "error",
     "traceback": [
      "\u001b[0;31m---------------------------------------------------------------------------\u001b[0m",
      "\u001b[0;31mKeyboardInterrupt\u001b[0m                         Traceback (most recent call last)",
      "Cell \u001b[0;32mIn[14], line 1\u001b[0m\n\u001b[0;32m----> 1\u001b[0m train_losses, train_accuracies, test_accuracies \u001b[39m=\u001b[39m train(lr_model, train_loader, test_loader)\n",
      "Cell \u001b[0;32mIn[9], line 26\u001b[0m, in \u001b[0;36mtrain\u001b[0;34m(model, train_loader, test_loader)\u001b[0m\n\u001b[1;32m     24\u001b[0m loss \u001b[39m=\u001b[39m criterion(y_pred, y)  \u001b[39m# calculate the loss\u001b[39;00m\n\u001b[1;32m     25\u001b[0m loss\u001b[39m.\u001b[39mbackward()  \u001b[39m# get the gradients\u001b[39;00m\n\u001b[0;32m---> 26\u001b[0m optimizer\u001b[39m.\u001b[39;49mstep()  \u001b[39m# update the params based on the gradients\u001b[39;00m\n\u001b[1;32m     27\u001b[0m \u001b[39m# collect training results\u001b[39;00m\n\u001b[1;32m     28\u001b[0m train_loss \u001b[39m+\u001b[39m\u001b[39m=\u001b[39m loss\u001b[39m.\u001b[39mitem()\n",
      "File \u001b[0;32m~/miniconda3/envs/pockethhe/lib/python3.9/site-packages/torch/optim/optimizer.py:280\u001b[0m, in \u001b[0;36mOptimizer.profile_hook_step.<locals>.wrapper\u001b[0;34m(*args, **kwargs)\u001b[0m\n\u001b[1;32m    276\u001b[0m         \u001b[39melse\u001b[39;00m:\n\u001b[1;32m    277\u001b[0m             \u001b[39mraise\u001b[39;00m \u001b[39mRuntimeError\u001b[39;00m(\u001b[39mf\u001b[39m\u001b[39m\"\u001b[39m\u001b[39m{\u001b[39;00mfunc\u001b[39m}\u001b[39;00m\u001b[39m must return None or a tuple of (new_args, new_kwargs),\u001b[39m\u001b[39m\"\u001b[39m\n\u001b[1;32m    278\u001b[0m                                \u001b[39mf\u001b[39m\u001b[39m\"\u001b[39m\u001b[39mbut got \u001b[39m\u001b[39m{\u001b[39;00mresult\u001b[39m}\u001b[39;00m\u001b[39m.\u001b[39m\u001b[39m\"\u001b[39m)\n\u001b[0;32m--> 280\u001b[0m out \u001b[39m=\u001b[39m func(\u001b[39m*\u001b[39;49margs, \u001b[39m*\u001b[39;49m\u001b[39m*\u001b[39;49mkwargs)\n\u001b[1;32m    281\u001b[0m \u001b[39mself\u001b[39m\u001b[39m.\u001b[39m_optimizer_step_code()\n\u001b[1;32m    283\u001b[0m \u001b[39m# call optimizer step post hooks\u001b[39;00m\n",
      "File \u001b[0;32m~/miniconda3/envs/pockethhe/lib/python3.9/site-packages/torch/optim/optimizer.py:33\u001b[0m, in \u001b[0;36m_use_grad_for_differentiable.<locals>._use_grad\u001b[0;34m(self, *args, **kwargs)\u001b[0m\n\u001b[1;32m     31\u001b[0m \u001b[39mtry\u001b[39;00m:\n\u001b[1;32m     32\u001b[0m     torch\u001b[39m.\u001b[39mset_grad_enabled(\u001b[39mself\u001b[39m\u001b[39m.\u001b[39mdefaults[\u001b[39m'\u001b[39m\u001b[39mdifferentiable\u001b[39m\u001b[39m'\u001b[39m])\n\u001b[0;32m---> 33\u001b[0m     ret \u001b[39m=\u001b[39m func(\u001b[39mself\u001b[39;49m, \u001b[39m*\u001b[39;49margs, \u001b[39m*\u001b[39;49m\u001b[39m*\u001b[39;49mkwargs)\n\u001b[1;32m     34\u001b[0m \u001b[39mfinally\u001b[39;00m:\n\u001b[1;32m     35\u001b[0m     torch\u001b[39m.\u001b[39mset_grad_enabled(prev_grad)\n",
      "File \u001b[0;32m~/miniconda3/envs/pockethhe/lib/python3.9/site-packages/torch/optim/adam.py:141\u001b[0m, in \u001b[0;36mAdam.step\u001b[0;34m(self, closure)\u001b[0m\n\u001b[1;32m    130\u001b[0m     beta1, beta2 \u001b[39m=\u001b[39m group[\u001b[39m'\u001b[39m\u001b[39mbetas\u001b[39m\u001b[39m'\u001b[39m]\n\u001b[1;32m    132\u001b[0m     \u001b[39mself\u001b[39m\u001b[39m.\u001b[39m_init_group(\n\u001b[1;32m    133\u001b[0m         group,\n\u001b[1;32m    134\u001b[0m         params_with_grad,\n\u001b[0;32m   (...)\u001b[0m\n\u001b[1;32m    138\u001b[0m         max_exp_avg_sqs,\n\u001b[1;32m    139\u001b[0m         state_steps)\n\u001b[0;32m--> 141\u001b[0m     adam(\n\u001b[1;32m    142\u001b[0m         params_with_grad,\n\u001b[1;32m    143\u001b[0m         grads,\n\u001b[1;32m    144\u001b[0m         exp_avgs,\n\u001b[1;32m    145\u001b[0m         exp_avg_sqs,\n\u001b[1;32m    146\u001b[0m         max_exp_avg_sqs,\n\u001b[1;32m    147\u001b[0m         state_steps,\n\u001b[1;32m    148\u001b[0m         amsgrad\u001b[39m=\u001b[39;49mgroup[\u001b[39m'\u001b[39;49m\u001b[39mamsgrad\u001b[39;49m\u001b[39m'\u001b[39;49m],\n\u001b[1;32m    149\u001b[0m         beta1\u001b[39m=\u001b[39;49mbeta1,\n\u001b[1;32m    150\u001b[0m         beta2\u001b[39m=\u001b[39;49mbeta2,\n\u001b[1;32m    151\u001b[0m         lr\u001b[39m=\u001b[39;49mgroup[\u001b[39m'\u001b[39;49m\u001b[39mlr\u001b[39;49m\u001b[39m'\u001b[39;49m],\n\u001b[1;32m    152\u001b[0m         weight_decay\u001b[39m=\u001b[39;49mgroup[\u001b[39m'\u001b[39;49m\u001b[39mweight_decay\u001b[39;49m\u001b[39m'\u001b[39;49m],\n\u001b[1;32m    153\u001b[0m         eps\u001b[39m=\u001b[39;49mgroup[\u001b[39m'\u001b[39;49m\u001b[39meps\u001b[39;49m\u001b[39m'\u001b[39;49m],\n\u001b[1;32m    154\u001b[0m         maximize\u001b[39m=\u001b[39;49mgroup[\u001b[39m'\u001b[39;49m\u001b[39mmaximize\u001b[39;49m\u001b[39m'\u001b[39;49m],\n\u001b[1;32m    155\u001b[0m         foreach\u001b[39m=\u001b[39;49mgroup[\u001b[39m'\u001b[39;49m\u001b[39mforeach\u001b[39;49m\u001b[39m'\u001b[39;49m],\n\u001b[1;32m    156\u001b[0m         capturable\u001b[39m=\u001b[39;49mgroup[\u001b[39m'\u001b[39;49m\u001b[39mcapturable\u001b[39;49m\u001b[39m'\u001b[39;49m],\n\u001b[1;32m    157\u001b[0m         differentiable\u001b[39m=\u001b[39;49mgroup[\u001b[39m'\u001b[39;49m\u001b[39mdifferentiable\u001b[39;49m\u001b[39m'\u001b[39;49m],\n\u001b[1;32m    158\u001b[0m         fused\u001b[39m=\u001b[39;49mgroup[\u001b[39m'\u001b[39;49m\u001b[39mfused\u001b[39;49m\u001b[39m'\u001b[39;49m],\n\u001b[1;32m    159\u001b[0m         grad_scale\u001b[39m=\u001b[39;49m\u001b[39mgetattr\u001b[39;49m(\u001b[39mself\u001b[39;49m, \u001b[39m\"\u001b[39;49m\u001b[39mgrad_scale\u001b[39;49m\u001b[39m\"\u001b[39;49m, \u001b[39mNone\u001b[39;49;00m),\n\u001b[1;32m    160\u001b[0m         found_inf\u001b[39m=\u001b[39;49m\u001b[39mgetattr\u001b[39;49m(\u001b[39mself\u001b[39;49m, \u001b[39m\"\u001b[39;49m\u001b[39mfound_inf\u001b[39;49m\u001b[39m\"\u001b[39;49m, \u001b[39mNone\u001b[39;49;00m),\n\u001b[1;32m    161\u001b[0m     )\n\u001b[1;32m    163\u001b[0m \u001b[39mreturn\u001b[39;00m loss\n",
      "File \u001b[0;32m~/miniconda3/envs/pockethhe/lib/python3.9/site-packages/torch/optim/adam.py:281\u001b[0m, in \u001b[0;36madam\u001b[0;34m(params, grads, exp_avgs, exp_avg_sqs, max_exp_avg_sqs, state_steps, foreach, capturable, differentiable, fused, grad_scale, found_inf, amsgrad, beta1, beta2, lr, weight_decay, eps, maximize)\u001b[0m\n\u001b[1;32m    278\u001b[0m \u001b[39melse\u001b[39;00m:\n\u001b[1;32m    279\u001b[0m     func \u001b[39m=\u001b[39m _single_tensor_adam\n\u001b[0;32m--> 281\u001b[0m func(params,\n\u001b[1;32m    282\u001b[0m      grads,\n\u001b[1;32m    283\u001b[0m      exp_avgs,\n\u001b[1;32m    284\u001b[0m      exp_avg_sqs,\n\u001b[1;32m    285\u001b[0m      max_exp_avg_sqs,\n\u001b[1;32m    286\u001b[0m      state_steps,\n\u001b[1;32m    287\u001b[0m      amsgrad\u001b[39m=\u001b[39;49mamsgrad,\n\u001b[1;32m    288\u001b[0m      beta1\u001b[39m=\u001b[39;49mbeta1,\n\u001b[1;32m    289\u001b[0m      beta2\u001b[39m=\u001b[39;49mbeta2,\n\u001b[1;32m    290\u001b[0m      lr\u001b[39m=\u001b[39;49mlr,\n\u001b[1;32m    291\u001b[0m      weight_decay\u001b[39m=\u001b[39;49mweight_decay,\n\u001b[1;32m    292\u001b[0m      eps\u001b[39m=\u001b[39;49meps,\n\u001b[1;32m    293\u001b[0m      maximize\u001b[39m=\u001b[39;49mmaximize,\n\u001b[1;32m    294\u001b[0m      capturable\u001b[39m=\u001b[39;49mcapturable,\n\u001b[1;32m    295\u001b[0m      differentiable\u001b[39m=\u001b[39;49mdifferentiable,\n\u001b[1;32m    296\u001b[0m      grad_scale\u001b[39m=\u001b[39;49mgrad_scale,\n\u001b[1;32m    297\u001b[0m      found_inf\u001b[39m=\u001b[39;49mfound_inf)\n",
      "File \u001b[0;32m~/miniconda3/envs/pockethhe/lib/python3.9/site-packages/torch/optim/adam.py:332\u001b[0m, in \u001b[0;36m_single_tensor_adam\u001b[0;34m(params, grads, exp_avgs, exp_avg_sqs, max_exp_avg_sqs, state_steps, grad_scale, found_inf, amsgrad, beta1, beta2, lr, weight_decay, eps, maximize, capturable, differentiable)\u001b[0m\n\u001b[1;32m    329\u001b[0m     \u001b[39massert\u001b[39;00m param\u001b[39m.\u001b[39mis_cuda \u001b[39mand\u001b[39;00m step_t\u001b[39m.\u001b[39mis_cuda, \u001b[39m\"\u001b[39m\u001b[39mIf capturable=True, params and state_steps must be CUDA tensors.\u001b[39m\u001b[39m\"\u001b[39m\n\u001b[1;32m    331\u001b[0m \u001b[39m# update step\u001b[39;00m\n\u001b[0;32m--> 332\u001b[0m step_t \u001b[39m+\u001b[39m\u001b[39m=\u001b[39m \u001b[39m1\u001b[39m\n\u001b[1;32m    334\u001b[0m \u001b[39mif\u001b[39;00m weight_decay \u001b[39m!=\u001b[39m \u001b[39m0\u001b[39m:\n\u001b[1;32m    335\u001b[0m     grad \u001b[39m=\u001b[39m grad\u001b[39m.\u001b[39madd(param, alpha\u001b[39m=\u001b[39mweight_decay)\n",
      "\u001b[0;31mKeyboardInterrupt\u001b[0m: "
     ]
    }
   ],
   "source": [
    "train_losses, train_accuracies, test_accuracies = train(lr_model, train_loader, test_loader)"
   ]
  },
  {
   "cell_type": "code",
   "execution_count": 15,
   "metadata": {},
   "outputs": [
    {
     "ename": "NameError",
     "evalue": "name 'train_losses' is not defined",
     "output_type": "error",
     "traceback": [
      "\u001b[0;31m---------------------------------------------------------------------------\u001b[0m",
      "\u001b[0;31mNameError\u001b[0m                                 Traceback (most recent call last)",
      "Cell \u001b[0;32mIn[15], line 1\u001b[0m\n\u001b[0;32m----> 1\u001b[0m plt\u001b[39m.\u001b[39mplot(train_losses)\n",
      "\u001b[0;31mNameError\u001b[0m: name 'train_losses' is not defined"
     ]
    }
   ],
   "source": [
    "plt.plot(train_losses)"
   ]
  },
  {
   "cell_type": "code",
   "execution_count": null,
   "metadata": {},
   "outputs": [],
   "source": [
    "if device.type == 'cuda':\n",
    "    train_accuracies = [acc.cpu() for acc in train_accuracies]\n",
    "plt.plot(train_accuracies)"
   ]
  },
  {
   "cell_type": "code",
   "execution_count": null,
   "metadata": {},
   "outputs": [],
   "source": [
    "plt.plot(test_accuracies)"
   ]
  },
  {
   "cell_type": "code",
   "execution_count": null,
   "metadata": {},
   "outputs": [],
   "source": [
    "print(f\"max train accuracy = {max(train_accuracies)}\")\n",
    "print(f\"max test accuracy = {max(test_accuracies)}\")"
   ]
  },
  {
   "cell_type": "code",
   "execution_count": null,
   "metadata": {},
   "outputs": [],
   "source": [
    "for param in lr_model.parameters():\n",
    "    print(param)"
   ]
  },
  {
   "attachments": {},
   "cell_type": "markdown",
   "metadata": {},
   "source": [
    "## Training with Pytorch - Float Data (Min-max Scaling)"
   ]
  },
  {
   "cell_type": "code",
   "execution_count": 19,
   "metadata": {},
   "outputs": [
    {
     "name": "stdout",
     "output_type": "stream",
     "text": [
      "self.x.shape = torch.Size([36865, 300])\n",
      "self.y.shape = torch.Size([36865, 1])\n",
      "torch.max(self.x) = tensor(1.)\n",
      "torch.min(self.x) = tensor(0.)\n"
     ]
    }
   ],
   "source": [
    "train_dataset_scaled = Hypnogram(input_path=input_path, \n",
    "                                 output_path=output_path,\n",
    "                                 train=True, \n",
    "                                 scale=True)\n",
    "train_dataset_scaled.print_info()"
   ]
  },
  {
   "cell_type": "code",
   "execution_count": 20,
   "metadata": {},
   "outputs": [
    {
     "name": "stdout",
     "output_type": "stream",
     "text": [
      "self.x.shape = torch.Size([9217, 300])\n",
      "self.y.shape = torch.Size([9217, 1])\n",
      "torch.max(self.x) = tensor(1.)\n",
      "torch.min(self.x) = tensor(0.)\n"
     ]
    }
   ],
   "source": [
    "test_dataset_scaled = Hypnogram(input_path=input_path, \n",
    "                                output_path=output_path,\n",
    "                                train=False, \n",
    "                                scale=True)\n",
    "test_dataset_scaled.print_info()"
   ]
  },
  {
   "cell_type": "code",
   "execution_count": 21,
   "metadata": {},
   "outputs": [
    {
     "data": {
      "text/plain": [
       "[<matplotlib.lines.Line2D at 0x7fbe3ca5b400>]"
      ]
     },
     "execution_count": 21,
     "metadata": {},
     "output_type": "execute_result"
    },
    {
     "data": {
      "image/png": "[encoded data removed]",
      "text/plain": [
       "<Figure size 640x480 with 1 Axes>"
      ]
     },
     "metadata": {},
     "output_type": "display_data"
    }
   ],
   "source": [
    "plt.plot(train_dataset.x[0])"
   ]
  },
  {
   "cell_type": "code",
   "execution_count": 22,
   "metadata": {},
   "outputs": [],
   "source": [
    "train_loader_scaled = DataLoader(train_dataset_scaled, batch_size=batch_size)\n",
    "test_loader_scaled = DataLoader(test_dataset_scaled, batch_size=batch_size)"
   ]
  },
  {
   "cell_type": "code",
   "execution_count": 23,
   "metadata": {},
   "outputs": [
    {
     "data": {
      "text/plain": [
       "TorchLinearModel(\n",
       "  (linear): Linear(in_features=300, out_features=1, bias=True)\n",
       "  (sigmoid): Sigmoid()\n",
       ")"
      ]
     },
     "execution_count": 23,
     "metadata": {},
     "output_type": "execute_result"
    }
   ],
   "source": [
    "device = torch.device('cpu')\n",
    "lr_model_2 = TorchLinearModel(300, 1)\n",
    "lr_model_2.to(device)\n",
    "lr_model_2"
   ]
  },
  {
   "cell_type": "code",
   "execution_count": 24,
   "metadata": {},
   "outputs": [
    {
     "name": "stdout",
     "output_type": "stream",
     "text": [
      "--------- epoch: 1 ---------\n",
      "num_corrects / total_examples = 25749 / 36865\n",
      "training loss = 0.5973\n",
      "training accuracy = 0.6985\n",
      "num_test_corrects / test_total_examples = 6446 / 9217\n",
      "testing accuracy = 0.6994\n",
      "--------- epoch: 2 ---------\n",
      "num_corrects / total_examples = 26107 / 36865\n",
      "training loss = 0.5838\n",
      "training accuracy = 0.7082\n",
      "num_test_corrects / test_total_examples = 6493 / 9217\n",
      "testing accuracy = 0.7045\n",
      "--------- epoch: 3 ---------\n",
      "num_corrects / total_examples = 26330 / 36865\n",
      "training loss = 0.5737\n",
      "training accuracy = 0.7142\n",
      "num_test_corrects / test_total_examples = 6543 / 9217\n",
      "testing accuracy = 0.7099\n",
      "--------- epoch: 4 ---------\n",
      "num_corrects / total_examples = 26532 / 36865\n",
      "training loss = 0.5658\n",
      "training accuracy = 0.7197\n",
      "num_test_corrects / test_total_examples = 6597 / 9217\n",
      "testing accuracy = 0.7157\n",
      "--------- epoch: 5 ---------\n",
      "num_corrects / total_examples = 26686 / 36865\n",
      "training loss = 0.5596\n",
      "training accuracy = 0.7239\n",
      "num_test_corrects / test_total_examples = 6636 / 9217\n",
      "testing accuracy = 0.7200\n",
      "--------- epoch: 6 ---------\n",
      "num_corrects / total_examples = 26806 / 36865\n",
      "training loss = 0.5546\n",
      "training accuracy = 0.7271\n",
      "num_test_corrects / test_total_examples = 6670 / 9217\n",
      "testing accuracy = 0.7237\n",
      "--------- epoch: 7 ---------\n",
      "num_corrects / total_examples = 26899 / 36865\n",
      "training loss = 0.5505\n",
      "training accuracy = 0.7297\n",
      "num_test_corrects / test_total_examples = 6706 / 9217\n",
      "testing accuracy = 0.7276\n",
      "--------- epoch: 8 ---------\n",
      "num_corrects / total_examples = 26984 / 36865\n",
      "training loss = 0.5471\n",
      "training accuracy = 0.7320\n",
      "num_test_corrects / test_total_examples = 6733 / 9217\n",
      "testing accuracy = 0.7305\n",
      "--------- epoch: 9 ---------\n",
      "num_corrects / total_examples = 27044 / 36865\n",
      "training loss = 0.5443\n",
      "training accuracy = 0.7336\n",
      "num_test_corrects / test_total_examples = 6746 / 9217\n",
      "testing accuracy = 0.7319\n",
      "--------- epoch: 10 ---------\n",
      "num_corrects / total_examples = 27129 / 36865\n",
      "training loss = 0.5420\n",
      "training accuracy = 0.7359\n",
      "num_test_corrects / test_total_examples = 6770 / 9217\n",
      "testing accuracy = 0.7345\n",
      "--------- epoch: 11 ---------\n",
      "num_corrects / total_examples = 27165 / 36865\n",
      "training loss = 0.5400\n",
      "training accuracy = 0.7369\n",
      "num_test_corrects / test_total_examples = 6778 / 9217\n",
      "testing accuracy = 0.7354\n",
      "--------- epoch: 12 ---------\n",
      "num_corrects / total_examples = 27213 / 36865\n",
      "training loss = 0.5383\n",
      "training accuracy = 0.7382\n",
      "num_test_corrects / test_total_examples = 6788 / 9217\n",
      "testing accuracy = 0.7365\n",
      "--------- epoch: 13 ---------\n",
      "num_corrects / total_examples = 27239 / 36865\n",
      "training loss = 0.5369\n",
      "training accuracy = 0.7389\n",
      "num_test_corrects / test_total_examples = 6796 / 9217\n",
      "testing accuracy = 0.7373\n",
      "--------- epoch: 14 ---------\n"
     ]
    },
    {
     "ename": "KeyboardInterrupt",
     "evalue": "",
     "output_type": "error",
     "traceback": [
      "\u001b[0;31m---------------------------------------------------------------------------\u001b[0m",
      "\u001b[0;31mKeyboardInterrupt\u001b[0m                         Traceback (most recent call last)",
      "Cell \u001b[0;32mIn[24], line 1\u001b[0m\n\u001b[0;32m----> 1\u001b[0m train_losses_2, train_accuracies_2, test_accuracies_2 \u001b[39m=\u001b[39m train(lr_model_2, train_loader_scaled, test_loader_scaled)\n",
      "Cell \u001b[0;32mIn[9], line 25\u001b[0m, in \u001b[0;36mtrain\u001b[0;34m(model, train_loader, test_loader)\u001b[0m\n\u001b[1;32m     23\u001b[0m \u001b[39m# the backward pass\u001b[39;00m\n\u001b[1;32m     24\u001b[0m loss \u001b[39m=\u001b[39m criterion(y_pred, y)  \u001b[39m# calculate the loss\u001b[39;00m\n\u001b[0;32m---> 25\u001b[0m loss\u001b[39m.\u001b[39;49mbackward()  \u001b[39m# get the gradients\u001b[39;00m\n\u001b[1;32m     26\u001b[0m optimizer\u001b[39m.\u001b[39mstep()  \u001b[39m# update the params based on the gradients\u001b[39;00m\n\u001b[1;32m     27\u001b[0m \u001b[39m# collect training results\u001b[39;00m\n",
      "File \u001b[0;32m~/miniconda3/envs/pockethhe/lib/python3.9/site-packages/torch/_tensor.py:487\u001b[0m, in \u001b[0;36mTensor.backward\u001b[0;34m(self, gradient, retain_graph, create_graph, inputs)\u001b[0m\n\u001b[1;32m    477\u001b[0m \u001b[39mif\u001b[39;00m has_torch_function_unary(\u001b[39mself\u001b[39m):\n\u001b[1;32m    478\u001b[0m     \u001b[39mreturn\u001b[39;00m handle_torch_function(\n\u001b[1;32m    479\u001b[0m         Tensor\u001b[39m.\u001b[39mbackward,\n\u001b[1;32m    480\u001b[0m         (\u001b[39mself\u001b[39m,),\n\u001b[0;32m   (...)\u001b[0m\n\u001b[1;32m    485\u001b[0m         inputs\u001b[39m=\u001b[39minputs,\n\u001b[1;32m    486\u001b[0m     )\n\u001b[0;32m--> 487\u001b[0m torch\u001b[39m.\u001b[39;49mautograd\u001b[39m.\u001b[39;49mbackward(\n\u001b[1;32m    488\u001b[0m     \u001b[39mself\u001b[39;49m, gradient, retain_graph, create_graph, inputs\u001b[39m=\u001b[39;49minputs\n\u001b[1;32m    489\u001b[0m )\n",
      "File \u001b[0;32m~/miniconda3/envs/pockethhe/lib/python3.9/site-packages/torch/autograd/__init__.py:200\u001b[0m, in \u001b[0;36mbackward\u001b[0;34m(tensors, grad_tensors, retain_graph, create_graph, grad_variables, inputs)\u001b[0m\n\u001b[1;32m    195\u001b[0m     retain_graph \u001b[39m=\u001b[39m create_graph\n\u001b[1;32m    197\u001b[0m \u001b[39m# The reason we repeat same the comment below is that\u001b[39;00m\n\u001b[1;32m    198\u001b[0m \u001b[39m# some Python versions print out the first line of a multi-line function\u001b[39;00m\n\u001b[1;32m    199\u001b[0m \u001b[39m# calls in the traceback and some print out the last line\u001b[39;00m\n\u001b[0;32m--> 200\u001b[0m Variable\u001b[39m.\u001b[39;49m_execution_engine\u001b[39m.\u001b[39;49mrun_backward(  \u001b[39m# Calls into the C++ engine to run the backward pass\u001b[39;49;00m\n\u001b[1;32m    201\u001b[0m     tensors, grad_tensors_, retain_graph, create_graph, inputs,\n\u001b[1;32m    202\u001b[0m     allow_unreachable\u001b[39m=\u001b[39;49m\u001b[39mTrue\u001b[39;49;00m, accumulate_grad\u001b[39m=\u001b[39;49m\u001b[39mTrue\u001b[39;49;00m)\n",
      "\u001b[0;31mKeyboardInterrupt\u001b[0m: "
     ]
    }
   ],
   "source": [
    "train_losses_2, train_accuracies_2, test_accuracies_2 = train(lr_model_2, train_loader_scaled, test_loader_scaled)"
   ]
  },
  {
   "attachments": {},
   "cell_type": "markdown",
   "metadata": {},
   "source": [
    "## Training with Pytorch Lightning - Experimental"
   ]
  },
  {
   "cell_type": "code",
   "execution_count": 9,
   "metadata": {},
   "outputs": [],
   "source": [
    "class LinearModel(pl.LightningModule):\n",
    "    def __init__(self):\n",
    "        super().__init__()\n",
    "        self.linear = torch.nn.Linear(300, 1)\n",
    "        self.sigmoid = torch.nn.Sigmoid()\n",
    "        self.criterion = torch.nn.BCELoss()\n",
    "        self.training_step_outputs = []\n",
    "        self.val_step_outputs = []\n",
    "\n",
    "    def training_step(self, train_batch, batch_idx):\n",
    "        # training_step defines the train loop.\n",
    "        # it is independent of forward\n",
    "        x, y = train_batch\n",
    "        y_hat = self.sigmoid(self.linear(x))\n",
    "        loss = self.criterion(y_hat, y)\n",
    "        self.training_step_outputs.append(y_hat.round() == y)\n",
    "        self.log(\"train_loss\", loss)\n",
    "        return loss\n",
    "\n",
    "    def on_train_epoch_end(self):\n",
    "        train_preds = torch.cat(self.training_step_outputs, dim=0)\n",
    "        train_acc = torch.sum(train_preds) / train_preds.shape[0]\n",
    "        self.log(\"train_acc\", train_acc)\n",
    "        print(f\"train acc = {train_acc}\")\n",
    "        self.training_step_outputs.clear()\n",
    "    \n",
    "    def validation_step(self, val_batch, batch_idx):\n",
    "        x, y = val_batch\n",
    "        y_hat = self.sigmoid(self.linear(x))\n",
    "        self.val_step_outputs.append(y_hat.round() == y)\n",
    "        loss = self.criterion(y_hat, y)\n",
    "        self.log(\"val_loss\", loss)\n",
    "    \n",
    "    def on_validation_epoch_end(self):\n",
    "        val_preds = torch.cat(self.val_step_outputs, dim=0)\n",
    "        val_acc = torch.sum(val_preds) / val_preds.shape[0]\n",
    "        self.log(\"val_acc\", val_acc)\n",
    "        print(f\"val acc = {val_acc}\")\n",
    "        self.val_step_outputs.clear()\n",
    "\n",
    "    def configure_optimizers(self):\n",
    "        optimizer = torch.optim.Adam(self.parameters(), lr=1e-3)\n",
    "        return optimizer\n",
    "\n",
    "lr_model = LinearModel()"
   ]
  },
  {
   "cell_type": "code",
   "execution_count": 10,
   "metadata": {},
   "outputs": [
    {
     "name": "stderr",
     "output_type": "stream",
     "text": [
      "GPU available: True (cuda), used: True\n",
      "TPU available: False, using: 0 TPU cores\n",
      "IPU available: False, using: 0 IPUs\n",
      "HPU available: False, using: 0 HPUs\n",
      "LOCAL_RANK: 0 - CUDA_VISIBLE_DEVICES: [0]\n",
      "\n",
      "  | Name      | Type    | Params\n",
      "--------------------------------------\n",
      "0 | linear    | Linear  | 301   \n",
      "1 | sigmoid   | Sigmoid | 0     \n",
      "2 | criterion | BCELoss | 0     \n",
      "--------------------------------------\n",
      "301       Trainable params\n",
      "0         Non-trainable params\n",
      "301       Total params\n",
      "0.001     Total estimated model params size (MB)\n"
     ]
    },
    {
     "name": "stdout",
     "output_type": "stream",
     "text": [
      "Sanity Checking: 0it [00:00, ?it/s]"
     ]
    },
    {
     "name": "stdout",
     "output_type": "stream",
     "text": [
      "Sanity Checking DataLoader 0: 100%|██████████| 2/2 [00:00<00:00, 109.46it/s]val acc = 0.75\n",
      "                                                                            "
     ]
    },
    {
     "name": "stderr",
     "output_type": "stream",
     "text": [
      "/home/dk/miniconda3/envs/pockethhe/lib/python3.9/site-packages/lightning/pytorch/trainer/connectors/data_connector.py:432: PossibleUserWarning: The dataloader, train_dataloader, does not have many workers which may be a bottleneck. Consider increasing the value of the `num_workers` argument` (try 12 which is the number of cpus on this machine) in the `DataLoader` init to improve performance.\n",
      "  rank_zero_warn(\n"
     ]
    },
    {
     "name": "stdout",
     "output_type": "stream",
     "text": [
      "Epoch 0: 100%|██████████| 100/100 [00:00<00:00, 282.40it/s, v_num=2]val acc = 0.7208419442176819\n",
      "Epoch 0: 100%|██████████| 100/100 [00:06<00:00, 14.66it/s, v_num=2] train acc = 0.6074999570846558\n"
     ]
    },
    {
     "name": "stderr",
     "output_type": "stream",
     "text": [
      "`Trainer.fit` stopped: `max_epochs=1` reached.\n"
     ]
    },
    {
     "name": "stdout",
     "output_type": "stream",
     "text": [
      "Epoch 0: 100%|██████████| 100/100 [00:06<00:00, 14.64it/s, v_num=2]\n"
     ]
    }
   ],
   "source": [
    "# test run on 100 data batches and 1 epoch\n",
    "trainer = pl.Trainer(limit_train_batches=100, max_epochs=1)\n",
    "trainer.fit(model=lr_model, train_dataloaders=train_loader, val_dataloaders=test_loader)"
   ]
  },
  {
   "cell_type": "code",
   "execution_count": 12,
   "metadata": {},
   "outputs": [
    {
     "name": "stderr",
     "output_type": "stream",
     "text": [
      "GPU available: True (cuda), used: True\n",
      "TPU available: False, using: 0 TPU cores\n",
      "IPU available: False, using: 0 IPUs\n",
      "HPU available: False, using: 0 HPUs\n",
      "LOCAL_RANK: 0 - CUDA_VISIBLE_DEVICES: [0]\n"
     ]
    },
    {
     "name": "stderr",
     "output_type": "stream",
     "text": [
      "\n",
      "  | Name      | Type    | Params\n",
      "--------------------------------------\n",
      "0 | linear    | Linear  | 301   \n",
      "1 | sigmoid   | Sigmoid | 0     \n",
      "2 | criterion | BCELoss | 0     \n",
      "--------------------------------------\n",
      "301       Trainable params\n",
      "0         Non-trainable params\n",
      "301       Total params\n",
      "0.001     Total estimated model params size (MB)\n"
     ]
    },
    {
     "name": "stdout",
     "output_type": "stream",
     "text": [
      "Sanity Checking DataLoader 0: 100%|██████████| 2/2 [00:00<00:00, 449.29it/s]val acc = 0.625\n",
      "Epoch 0: 100%|██████████| 9217/9217 [00:31<00:00, 292.78it/s, v_num=4]      val acc = 0.6982749104499817\n",
      "Epoch 0: 100%|██████████| 9217/9217 [00:37<00:00, 244.25it/s, v_num=4]train acc = 0.6211311221122742\n",
      "Epoch 1: 100%|██████████| 9217/9217 [00:30<00:00, 298.31it/s, v_num=4]val acc = 0.6988174319267273\n",
      "Epoch 1: 100%|██████████| 9217/9217 [00:37<00:00, 248.06it/s, v_num=4]train acc = 0.6261494755744934\n",
      "Epoch 2: 100%|██████████| 9217/9217 [00:34<00:00, 263.58it/s, v_num=4]val acc = 0.6992514133453369\n",
      "Epoch 2: 100%|██████████| 9217/9217 [00:41<00:00, 221.85it/s, v_num=4]train acc = 0.6296486854553223\n",
      "Epoch 3: 100%|██████████| 9217/9217 [00:36<00:00, 251.53it/s, v_num=4]val acc = 0.7000108361244202\n",
      "Epoch 3: 100%|██████████| 9217/9217 [00:43<00:00, 212.66it/s, v_num=4]train acc = 0.6354536414146423\n",
      "Epoch 4: 100%|██████████| 9217/9217 [00:36<00:00, 255.47it/s, v_num=4]val acc = 0.7004448175430298\n",
      "Epoch 4: 100%|██████████| 9217/9217 [00:41<00:00, 220.83it/s, v_num=4]train acc = 0.6374338865280151\n"
     ]
    },
    {
     "name": "stderr",
     "output_type": "stream",
     "text": [
      "`Trainer.fit` stopped: `max_epochs=5` reached.\n"
     ]
    },
    {
     "name": "stdout",
     "output_type": "stream",
     "text": [
      "Epoch 4: 100%|██████████| 9217/9217 [00:41<00:00, 220.68it/s, v_num=4]\n"
     ]
    }
   ],
   "source": [
    "num_epochs = 5\n",
    "trainer = pl.Trainer(max_epochs=num_epochs)\n",
    "trainer.fit(model=lr_model, train_dataloaders=train_loader, val_dataloaders=test_loader)"
   ]
  },
  {
   "cell_type": "code",
   "execution_count": null,
   "metadata": {},
   "outputs": [],
   "source": []
  }
 ],
 "metadata": {
  "kernelspec": {
   "display_name": "hesplitnet",
   "language": "python",
   "name": "python3"
  },
  "language_info": {
   "codemirror_mode": {
    "name": "ipython",
    "version": 3
   },
   "file_extension": ".py",
   "mimetype": "text/x-python",
   "name": "python",
   "nbconvert_exporter": "python",
   "pygments_lexer": "ipython3",
   "version": "3.9.16"
  },
  "orig_nbformat": 4
 },
 "nbformat": 4,
 "nbformat_minor": 2
}
