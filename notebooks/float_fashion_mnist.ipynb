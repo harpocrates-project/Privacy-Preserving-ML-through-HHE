{
 "cells": [
  {
   "cell_type": "code",
   "execution_count": 1,
   "metadata": {},
   "outputs": [
    {
     "name": "stdout",
     "output_type": "stream",
     "text": [
      "torch version: 1.8.1+cu102\n",
      "torchvision version: 0.9.1+cu102\n",
      "numpy version: 1.22.3\n",
      "idx2numpy version: 1.2.3\n"
     ]
    }
   ],
   "source": [
    "from pathlib import Path\n",
    "\n",
    "import idx2numpy\n",
    "import torch\n",
    "import torch.nn as nn\n",
    "from torch.utils.data import Dataset, DataLoader\n",
    "import torchvision\n",
    "from torchvision import transforms\n",
    "import numpy as np\n",
    "import matplotlib.pyplot as plt\n",
    "\n",
    "print(f'torch version: {torch.__version__}')\n",
    "print(f'torchvision version: {torchvision.__version__}')\n",
    "print(f'numpy version: {np.__version__}')\n",
    "print(f'idx2numpy version: {idx2numpy.__version__}')"
   ]
  },
  {
   "cell_type": "code",
   "execution_count": 2,
   "metadata": {},
   "outputs": [],
   "source": [
    "project_path = Path.cwd().parent\n",
    "project_path\n",
    "data_dir = project_path / 'data' / 'fashion_mnist'"
   ]
  },
  {
   "attachments": {},
   "cell_type": "markdown",
   "metadata": {},
   "source": [
    "## Original FashionMNIST Dataset"
   ]
  },
  {
   "cell_type": "code",
   "execution_count": 3,
   "metadata": {},
   "outputs": [],
   "source": [
    "\n",
    "train_im_file = data_dir / 'train-images-idx3-ubyte'\n",
    "train_label_file = data_dir / 'train-labels-idx1-ubyte'\n",
    "test_im_file = data_dir / 't10k-images-idx3-ubyte'\n",
    "test_label_file = data_dir / 't10k-labels-idx1-ubyte'"
   ]
  },
  {
   "cell_type": "code",
   "execution_count": 4,
   "metadata": {},
   "outputs": [
    {
     "data": {
      "text/plain": [
       "numpy.ndarray"
      ]
     },
     "execution_count": 4,
     "metadata": {},
     "output_type": "execute_result"
    }
   ],
   "source": [
    "train_ims = idx2numpy.convert_from_file(str(train_im_file))\n",
    "train_labels = idx2numpy.convert_from_file(str(train_label_file))\n",
    "test_ims = idx2numpy.convert_from_file(str(test_im_file))\n",
    "test_labels = idx2numpy.convert_from_file(str(test_label_file))\n",
    "type(train_ims)"
   ]
  },
  {
   "cell_type": "code",
   "execution_count": 5,
   "metadata": {},
   "outputs": [
    {
     "name": "stdout",
     "output_type": "stream",
     "text": [
      "train_ims.shape = (60000, 28, 28)\n",
      "train_labels.shape = (60000,)\n",
      "test_ims.shape = (10000, 28, 28)\n",
      "test_labels.shape = (10000,)\n"
     ]
    }
   ],
   "source": [
    "print(f\"{train_ims.shape = }\")\n",
    "print(f\"{train_labels.shape = }\")\n",
    "print(f\"{test_ims.shape = }\")\n",
    "print(f\"{test_labels.shape = }\")"
   ]
  },
  {
   "cell_type": "code",
   "execution_count": 6,
   "metadata": {},
   "outputs": [
    {
     "data": {
      "text/plain": [
       "<matplotlib.image.AxesImage at 0x7f4c16a8daf0>"
      ]
     },
     "execution_count": 6,
     "metadata": {},
     "output_type": "execute_result"
    },
    {
     "data": {
      "image/png": "[encoded data removed]",
      "text/plain": [
       "<Figure size 640x480 with 1 Axes>"
      ]
     },
     "metadata": {},
     "output_type": "display_data"
    }
   ],
   "source": [
    "mean = np.mean(train_ims)\n",
    "std = np.std(train_ims)\n",
    "im0 = train_ims[0]\n",
    "im0 = (im0 - mean) / std\n",
    "train_ims_norm = (train_ims - mean) / std\n",
    "plt.imshow(train_ims_norm[0], cmap='gray')"
   ]
  },
  {
   "cell_type": "code",
   "execution_count": 7,
   "metadata": {},
   "outputs": [],
   "source": [
    "labels = {\n",
    "    0: \"T-shirt\",\n",
    "    1: \"Trouser\",\n",
    "    2: \"Pullover\",\n",
    "    3: \"Dress\",\n",
    "    4: \"Coat\",\n",
    "    5: \"Sandal\",\n",
    "    6: \"Shirt\",\n",
    "    7: \"Sneaker\",\n",
    "    8: \"Bag\",\n",
    "    9: \"Ankle boot\"\n",
    "}"
   ]
  },
  {
   "cell_type": "code",
   "execution_count": 8,
   "metadata": {},
   "outputs": [
    {
     "name": "stdout",
     "output_type": "stream",
     "text": [
      "Label: Dress\n"
     ]
    },
    {
     "data": {
      "image/png": "[encoded data removed]",
      "text/plain": [
       "<Figure size 640x480 with 1 Axes>"
      ]
     },
     "metadata": {},
     "output_type": "display_data"
    }
   ],
   "source": [
    "indx = 3\n",
    "plt.imshow(train_ims[indx])\n",
    "print(f\"Label: {labels[train_labels[indx]]}\")"
   ]
  },
  {
   "cell_type": "code",
   "execution_count": 9,
   "metadata": {},
   "outputs": [],
   "source": [
    "class OriginalFashionMNIST(Dataset):\n",
    "    def __init__(self, train_ims: np.ndarray, \n",
    "                       train_labels: np.ndarray, \n",
    "                       test_ims: np.ndarray,\n",
    "                       test_labels: np.ndarray,\n",
    "                       train: bool = True):\n",
    "        if train:\n",
    "            self.ims = train_ims\n",
    "            self.labels = train_labels\n",
    "        else:\n",
    "            self.ims = test_ims\n",
    "            self.labels = test_labels\n",
    "\n",
    "        self.normalize()\n",
    "        self.ims = torch.tensor(self.ims, dtype=torch.float)\n",
    "        self.ims = torch.unsqueeze(self.ims, dim=1)\n",
    "        self.labels = torch.tensor(self.labels, dtype=torch.long)\n",
    "\n",
    "    def normalize(self):\n",
    "            \"\"\"\n",
    "            subtracts from each image the mean\n",
    "            and divides by the standard deviation (second number)\n",
    "            \"\"\"\n",
    "            mean = np.mean(self.ims)\n",
    "            std = np.std(self.ims)\n",
    "            self.ims = (self.ims - mean) / std\n",
    "\n",
    "    def __len__(self):\n",
    "        return len(self.ims)\n",
    "\n",
    "    def __getitem__(self, index):\n",
    "        return self.ims[index], self.labels[index]\n"
   ]
  },
  {
   "cell_type": "code",
   "execution_count": 10,
   "metadata": {},
   "outputs": [],
   "source": [
    "fmnist_train = OriginalFashionMNIST(train_ims, train_labels, test_ims, test_labels)\n",
    "fmnist_test = OriginalFashionMNIST(train_ims, train_labels, test_ims, test_labels, train=False)"
   ]
  },
  {
   "cell_type": "code",
   "execution_count": 11,
   "metadata": {},
   "outputs": [
    {
     "name": "stdout",
     "output_type": "stream",
     "text": [
      "len of the train dataset: 60000\n",
      "len of the test dataset: 10000\n"
     ]
    }
   ],
   "source": [
    "print(f\"len of the train dataset: {len(fmnist_train)}\")\n",
    "print(f\"len of the test dataset: {len(fmnist_test)}\")"
   ]
  },
  {
   "cell_type": "code",
   "execution_count": 12,
   "metadata": {},
   "outputs": [],
   "source": [
    "train_loader = DataLoader(fmnist_train, \n",
    "                          batch_size = 64, \n",
    "                          shuffle = True)\n",
    "test_loader = DataLoader(fmnist_test, \n",
    "                          batch_size = 64, \n",
    "                          shuffle = True)"
   ]
  },
  {
   "cell_type": "code",
   "execution_count": 13,
   "metadata": {},
   "outputs": [
    {
     "name": "stdout",
     "output_type": "stream",
     "text": [
      "<class 'torch.Tensor'>\n",
      "torch.Size([64, 1, 28, 28])\n",
      "torch.Size([64])\n"
     ]
    }
   ],
   "source": [
    "data_iter = iter(test_loader)\n",
    "images, labels = data_iter.next()\n",
    "print(type(images))\n",
    "print(images.shape)\n",
    "print(labels.shape)"
   ]
  },
  {
   "attachments": {},
   "cell_type": "markdown",
   "metadata": {},
   "source": [
    "### The linear model"
   ]
  },
  {
   "cell_type": "code",
   "execution_count": 14,
   "metadata": {},
   "outputs": [],
   "source": [
    "class LinearModel(torch.nn.Module):\n",
    "    def __init__(self, input_size, output_size):\n",
    "        super(LinearModel, self).__init__()\n",
    "        self.linear = torch.nn.Linear(input_size, output_size)\n",
    "        self.softmax = torch.nn.Softmax()\n",
    "    \n",
    "    def forward(self, x):\n",
    "        y_pred = self.linear(x)\n",
    "        y_pred = self.softmax(y_pred)\n",
    "        return y_pred"
   ]
  },
  {
   "attachments": {},
   "cell_type": "markdown",
   "metadata": {},
   "source": [
    "### Train and test"
   ]
  },
  {
   "cell_type": "code",
   "execution_count": 30,
   "metadata": {},
   "outputs": [
    {
     "name": "stderr",
     "output_type": "stream",
     "text": [
      "/tmp/ipykernel_14055/1454682819.py:9: UserWarning: Implicit dimension choice for softmax has been deprecated. Change the call to include dim=X as an argument.\n",
      "  y_pred = self.softmax(y_pred)\n"
     ]
    },
    {
     "name": "stdout",
     "output_type": "stream",
     "text": [
      "Epoch: 1/20.. Training loss: 1.662.. Test loss: 1.635.. Test Accuracy: 0.831\n",
      "Epoch: 2/20.. Training loss: 1.622.. Test loss: 1.636.. Test Accuracy: 0.827\n",
      "Epoch: 3/20.. Training loss: 1.613.. Test loss: 1.626.. Test Accuracy: 0.838\n",
      "Epoch: 4/20.. Training loss: 1.609.. Test loss: 1.626.. Test Accuracy: 0.836\n",
      "Epoch: 5/20.. Training loss: 1.606.. Test loss: 1.622.. Test Accuracy: 0.838\n",
      "Epoch: 6/20.. Training loss: 1.604.. Test loss: 1.619.. Test Accuracy: 0.844\n",
      "Epoch: 7/20.. Training loss: 1.602.. Test loss: 1.621.. Test Accuracy: 0.841\n",
      "Epoch: 8/20.. Training loss: 1.600.. Test loss: 1.618.. Test Accuracy: 0.844\n",
      "Epoch: 9/20.. Training loss: 1.598.. Test loss: 1.617.. Test Accuracy: 0.844\n",
      "Epoch: 10/20.. Training loss: 1.598.. Test loss: 1.619.. Test Accuracy: 0.841\n",
      "Epoch: 11/20.. Training loss: 1.597.. Test loss: 1.618.. Test Accuracy: 0.844\n",
      "Epoch: 12/20.. Training loss: 1.595.. Test loss: 1.620.. Test Accuracy: 0.841\n",
      "Epoch: 13/20.. Training loss: 1.594.. Test loss: 1.618.. Test Accuracy: 0.843\n",
      "Epoch: 14/20.. Training loss: 1.594.. Test loss: 1.621.. Test Accuracy: 0.841\n",
      "Epoch: 15/20.. Training loss: 1.593.. Test loss: 1.618.. Test Accuracy: 0.843\n",
      "Epoch: 16/20.. Training loss: 1.591.. Test loss: 1.617.. Test Accuracy: 0.846\n",
      "Epoch: 17/20.. Training loss: 1.591.. Test loss: 1.615.. Test Accuracy: 0.845\n",
      "Epoch: 18/20.. Training loss: 1.590.. Test loss: 1.615.. Test Accuracy: 0.846\n",
      "Epoch: 19/20.. Training loss: 1.589.. Test loss: 1.617.. Test Accuracy: 0.844\n",
      "Epoch: 20/20.. Training loss: 1.589.. Test loss: 1.617.. Test Accuracy: 0.845\n"
     ]
    }
   ],
   "source": [
    "lr_model = LinearModel(784, 10)\n",
    "criterion = nn.CrossEntropyLoss()\n",
    "optimizer = torch.optim.Adam(lr_model.parameters(), lr = 0.002)\n",
    "epochs = 20\n",
    "\n",
    "train_losses, test_losses = [], []\n",
    "for e in range(epochs):\n",
    "    running_loss = 0\n",
    "\n",
    "    # training pass\n",
    "    for images, labels in train_loader:\n",
    "        # set the gradients to 0\n",
    "        optimizer.zero_grad()\n",
    "        # flatten the Fashion-MNIST images into a 784 long vector\n",
    "        images = images.view(images.shape[0], -1)\n",
    "        # the forward pass\n",
    "        output = lr_model(images)  # get the output\n",
    "        loss = criterion(output, labels)  # calculate the loss\n",
    "        running_loss += loss.item()\n",
    "        # the backward pass\n",
    "        loss.backward()  # get the gradients\n",
    "        optimizer.step()  # update the weights\n",
    "    \n",
    "    # test pass\n",
    "    test_loss = 0\n",
    "    accuracy = 0\n",
    "    with torch.no_grad():\n",
    "        # Set the model to evaluation mode\n",
    "        lr_model.eval()\n",
    "        for images, labels in test_loader:\n",
    "            images = images.view(images.shape[0], -1)\n",
    "            output = lr_model(images)\n",
    "            test_loss += criterion(output, labels)\n",
    "            top_p, top_class = output.topk(1, dim = 1)\n",
    "            equals = top_class == labels.view(*top_class.shape)\n",
    "            accuracy += torch.mean(equals.type(torch.FloatTensor))\n",
    "\n",
    "    train_losses.append(running_loss/len(train_loader))\n",
    "    test_losses.append(test_loss/len(test_loader))\n",
    "\n",
    "    print(\"Epoch: {}/{}..\".format(e+1, epochs),\n",
    "          \"Training loss: {:.3f}..\".format(running_loss/len(train_loader)),\n",
    "          \"Test loss: {:.3f}..\".format(test_loss/len(test_loader)),\n",
    "          \"Test Accuracy: {:.3f}\".format(accuracy/len(test_loader)))"
   ]
  },
  {
   "attachments": {},
   "cell_type": "markdown",
   "metadata": {},
   "source": [
    "## Quantized FashionMNIST Dataset"
   ]
  },
  {
   "cell_type": "markdown",
   "metadata": {},
   "source": []
  }
 ],
 "metadata": {
  "kernelspec": {
   "display_name": "hesplitnet",
   "language": "python",
   "name": "python3"
  },
  "language_info": {
   "codemirror_mode": {
    "name": "ipython",
    "version": 3
   },
   "file_extension": ".py",
   "mimetype": "text/x-python",
   "name": "python",
   "nbconvert_exporter": "python",
   "pygments_lexer": "ipython3",
   "version": "3.9.16"
  },
  "orig_nbformat": 4
 },
 "nbformat": 4,
 "nbformat_minor": 2
}
