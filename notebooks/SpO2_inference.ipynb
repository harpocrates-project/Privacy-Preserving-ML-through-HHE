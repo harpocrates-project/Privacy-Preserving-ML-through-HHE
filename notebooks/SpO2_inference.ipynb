{
 "cells": [
  {
   "cell_type": "code",
   "execution_count": 1,
   "metadata": {},
   "outputs": [],
   "source": [
    "from pathlib import Path\n",
    "\n",
    "import numpy as np\n",
    "import matplotlib.pyplot as plt\n",
    "import torch\n",
    "from torch.utils.data import Dataset, DataLoader\n",
    "import lightning.pytorch as pl"
   ]
  },
  {
   "cell_type": "markdown",
   "metadata": {},
   "source": [
    "## Paths"
   ]
  },
  {
   "cell_type": "code",
   "execution_count": 2,
   "metadata": {},
   "outputs": [],
   "source": [
    "project_path = Path.cwd().parent\n",
    "input_path = project_path / 'data' / 'SpO2' / 'SpO2_input.csv'\n",
    "output_path = project_path / 'data' / 'SpO2' / 'SpO2_output.csv'\n",
    "checkpoint_path = project_path / 'weights' / 'SpO2' / 'square_nn' / 'square_model_scaled_hypnogram_1000epoch.pt'"
   ]
  },
  {
   "cell_type": "markdown",
   "metadata": {},
   "source": [
    "## Dataset Class"
   ]
  },
  {
   "cell_type": "code",
   "execution_count": 3,
   "metadata": {},
   "outputs": [],
   "source": [
    "split_ratio = 0.8\n",
    "\n",
    "class SpO2(Dataset):\n",
    "\n",
    "    def __init__(self, input_path: Path, output_path: Path, train=True, scale=False):\n",
    "        x = np.loadtxt(input_path, dtype=int, delimiter=',')\n",
    "        y = np.loadtxt(output_path, dtype=int, delimiter=',')\n",
    "        if scale:\n",
    "            x = (x - np.min(x)) / (np.max(x) - np.min(x))\n",
    "\n",
    "        split_index = int(x.shape[0] * split_ratio)\n",
    "        if train:\n",
    "            self.x = x[:split_index, :]\n",
    "            self.y = y[:split_index]\n",
    "        else:\n",
    "            self.x = x[split_index:, :]\n",
    "            self.y = y[split_index:]\n",
    "        assert self.x.shape[0] == self.y.shape[0]\n",
    "        self.x = torch.tensor(self.x, dtype=torch.float)\n",
    "        self.y = torch.tensor(self.y, dtype=torch.float)\n",
    "        self.y = torch.unsqueeze(self.y, dim=1)\n",
    "    \n",
    "    def __len__(self):\n",
    "        return len(self.x)\n",
    "    \n",
    "    def __getitem__(self, idx):\n",
    "        return self.x[idx], self.y[idx]\n",
    "    \n",
    "    def print_info(self):\n",
    "        print(f\"{self.x.shape = }\")\n",
    "        print(f\"{self.y.shape = }\")\n",
    "        print(f\"{torch.max(self.x) = }\")\n",
    "        print(f\"{torch.min(self.x) = }\")"
   ]
  },
  {
   "cell_type": "code",
   "execution_count": 4,
   "metadata": {},
   "outputs": [
    {
     "name": "stdout",
     "output_type": "stream",
     "text": [
      "self.x.shape = torch.Size([9217, 300])\n",
      "self.y.shape = torch.Size([9217, 1])\n",
      "torch.max(self.x) = tensor(1.)\n",
      "torch.min(self.x) = tensor(0.)\n"
     ]
    }
   ],
   "source": [
    "test_dataset = SpO2(input_path=input_path, \n",
    "                    output_path=output_path, \n",
    "                    train=False,\n",
    "                    scale=True)\n",
    "test_dataset.print_info()\n",
    "batch_size = 4\n",
    "test_dataloader = DataLoader(test_dataset, \n",
    "                             batch_size=batch_size)"
   ]
  },
  {
   "cell_type": "markdown",
   "metadata": {},
   "source": [
    "## The Model"
   ]
  },
  {
   "cell_type": "code",
   "execution_count": 5,
   "metadata": {},
   "outputs": [],
   "source": [
    "class TorchSquareModel(torch.nn.Module):\n",
    "    def __init__(self, input_size, output_size):\n",
    "        super(TorchSquareModel, self).__init__()\n",
    "        self.linear_1 = torch.nn.Linear(input_size, 128)\n",
    "        self.linear_2 = torch.nn.Linear(128, output_size)\n",
    "        self.sigmoid = torch.nn.Sigmoid()\n",
    "    \n",
    "    def forward(self, x):\n",
    "        x = self.linear_1(x)\n",
    "        x = torch.square(x)\n",
    "        x = self.linear_2(x)\n",
    "        y_pred = self.sigmoid(x)\n",
    "        return y_pred"
   ]
  },
  {
   "cell_type": "code",
   "execution_count": 6,
   "metadata": {},
   "outputs": [
    {
     "data": {
      "text/plain": [
       "<All keys matched successfully>"
      ]
     },
     "execution_count": 6,
     "metadata": {},
     "output_type": "execute_result"
    }
   ],
   "source": [
    "square_nn = TorchSquareModel(300, 1)\n",
    "checkpoint = torch.load(checkpoint_path)\n",
    "square_nn.load_state_dict(checkpoint['model_state_dict']) "
   ]
  },
  {
   "cell_type": "markdown",
   "metadata": {},
   "source": [
    "## The Inference Function"
   ]
  },
  {
   "cell_type": "code",
   "execution_count": 9,
   "metadata": {},
   "outputs": [],
   "source": [
    "device = torch.device('cpu')\n",
    "\n",
    "def inference(model, test_loader):\n",
    "    test_corrects = 0\n",
    "    test_total_examples = 0    \n",
    "    test_accuracies = []\n",
    "    with torch.no_grad():\n",
    "        for i, (x, y) in enumerate(test_loader):\n",
    "            # prepare data\n",
    "            x = x.to(device)\n",
    "            y = y.to(device).to(torch.float32)\n",
    "            # the forward pass\n",
    "            y_pred = model(x)\n",
    "            y_pred = y_pred.reshape(y.shape)\n",
    "            # collect testing results\n",
    "            test_corrects += torch.sum((y_pred.round() == y))\n",
    "            test_total_examples += len(y)\n",
    "    test_acc = test_corrects.item() / test_total_examples\n",
    "    test_accuracies.append(test_acc)\n",
    "    print(f\"num_test_corrects / test_total_examples = {test_corrects.item()} / {test_total_examples}\")\n",
    "    print(f\"testing accuracy = {test_accuracies[-1]:.4f}\")"
   ]
  },
  {
   "cell_type": "code",
   "execution_count": 10,
   "metadata": {},
   "outputs": [
    {
     "name": "stdout",
     "output_type": "stream",
     "text": [
      "num_test_corrects / test_total_examples = 8031 / 9217\n",
      "testing accuracy = 0.8713\n"
     ]
    }
   ],
   "source": [
    "inference(square_nn, test_dataloader)"
   ]
  },
  {
   "cell_type": "markdown",
   "metadata": {},
   "source": [
    "## Investigating the above result"
   ]
  },
  {
   "cell_type": "code",
   "execution_count": null,
   "metadata": {},
   "outputs": [],
   "source": []
  },
  {
   "cell_type": "code",
   "execution_count": null,
   "metadata": {},
   "outputs": [],
   "source": []
  },
  {
   "cell_type": "markdown",
   "metadata": {},
   "source": [
    "## Inference with quantized "
   ]
  }
 ],
 "metadata": {
  "kernelspec": {
   "display_name": "pockethhe",
   "language": "python",
   "name": "python3"
  },
  "language_info": {
   "codemirror_mode": {
    "name": "ipython",
    "version": 3
   },
   "file_extension": ".py",
   "mimetype": "text/x-python",
   "name": "python",
   "nbconvert_exporter": "python",
   "pygments_lexer": "ipython3",
   "version": "3.9.16"
  },
  "orig_nbformat": 4
 },
 "nbformat": 4,
 "nbformat_minor": 2
}
