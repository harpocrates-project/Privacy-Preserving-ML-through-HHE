{
 "cells": [
  {
   "cell_type": "code",
   "execution_count": 23,
   "metadata": {},
   "outputs": [],
   "source": [
    "from pathlib import Path\n",
    "\n",
    "import numpy as np\n",
    "import matplotlib.pyplot as plt\n",
    "\n",
    "import torch\n",
    "import torch.nn as nn\n",
    "from torch.utils.data import Dataset, DataLoader"
   ]
  },
  {
   "cell_type": "markdown",
   "metadata": {},
   "source": [
    "# Inference and Quantization"
   ]
  },
  {
   "cell_type": "markdown",
   "metadata": {},
   "source": [
    "## Paths to the dataset and trained weights"
   ]
  },
  {
   "cell_type": "code",
   "execution_count": 2,
   "metadata": {},
   "outputs": [],
   "source": [
    "project_path = Path.cwd().parent\n",
    "input_path = project_path / 'data' / 'SpO2' / 'SpO2_input.csv'\n",
    "output_path = project_path / 'data' / 'SpO2' / 'SpO2_output.csv'\n",
    "checkpoint_path = project_path / 'weights' / 'SpO2' / 'square_nn' / 'square_model_scaled_hypnogram_1000epoch.pt'"
   ]
  },
  {
   "cell_type": "markdown",
   "metadata": {},
   "source": [
    "## Dataset Class"
   ]
  },
  {
   "cell_type": "code",
   "execution_count": 3,
   "metadata": {},
   "outputs": [],
   "source": [
    "split_ratio = 0.8\n",
    "\n",
    "class SpO2(Dataset):\n",
    "\n",
    "    def __init__(self, input_path: Path, output_path: Path, train=True, scale=False):\n",
    "        x = np.loadtxt(input_path, dtype=int, delimiter=',')\n",
    "        y = np.loadtxt(output_path, dtype=int, delimiter=',')\n",
    "        if scale:\n",
    "            x = (x - np.min(x)) / (np.max(x) - np.min(x))\n",
    "\n",
    "        split_index = int(x.shape[0] * split_ratio)\n",
    "        if train:\n",
    "            self.x = x[:split_index, :]\n",
    "            self.y = y[:split_index]\n",
    "        else:\n",
    "            self.x = x[split_index:, :]\n",
    "            self.y = y[split_index:]\n",
    "        assert self.x.shape[0] == self.y.shape[0]\n",
    "        self.x = torch.tensor(self.x, dtype=torch.float)\n",
    "        self.y = torch.tensor(self.y, dtype=torch.float)\n",
    "        self.y = torch.unsqueeze(self.y, dim=1)\n",
    "    \n",
    "    def __len__(self):\n",
    "        return len(self.x)\n",
    "    \n",
    "    def __getitem__(self, idx):\n",
    "        return self.x[idx], self.y[idx]\n",
    "    \n",
    "    def print_info(self):\n",
    "        print(f\"{self.x.shape = }\")\n",
    "        print(f\"{self.y.shape = }\")\n",
    "        print(f\"{torch.max(self.x) = }\")\n",
    "        print(f\"{torch.min(self.x) = }\")"
   ]
  },
  {
   "cell_type": "code",
   "execution_count": 4,
   "metadata": {},
   "outputs": [
    {
     "name": "stdout",
     "output_type": "stream",
     "text": [
      "self.x.shape = torch.Size([9217, 300])\n",
      "self.y.shape = torch.Size([9217, 1])\n",
      "torch.max(self.x) = tensor(1.)\n",
      "torch.min(self.x) = tensor(0.)\n"
     ]
    }
   ],
   "source": [
    "test_dataset = SpO2(input_path=input_path, \n",
    "                    output_path=output_path, \n",
    "                    train=False,\n",
    "                    scale=True)\n",
    "test_dataset.print_info()\n",
    "batch_size = 4\n",
    "test_dataloader = DataLoader(test_dataset, \n",
    "                             batch_size=batch_size)"
   ]
  },
  {
   "cell_type": "code",
   "execution_count": 5,
   "metadata": {},
   "outputs": [
    {
     "data": {
      "text/plain": [
       "[<matplotlib.lines.Line2D at 0x7f6af63559d0>]"
      ]
     },
     "execution_count": 5,
     "metadata": {},
     "output_type": "execute_result"
    },
    {
     "data": {
      "image/png": "[encoded data removed]",
      "text/plain": [
       "<Figure size 640x480 with 1 Axes>"
      ]
     },
     "metadata": {},
     "output_type": "display_data"
    }
   ],
   "source": [
    "x = test_dataset[1][0]\n",
    "plt.plot(x)"
   ]
  },
  {
   "cell_type": "markdown",
   "metadata": {},
   "source": [
    "## The 2FC Square Neural Net"
   ]
  },
  {
   "cell_type": "code",
   "execution_count": 6,
   "metadata": {},
   "outputs": [],
   "source": [
    "class SquareNN(torch.nn.Module):\n",
    "    def __init__(self, input_size, output_size):\n",
    "        super(SquareNN, self).__init__()\n",
    "        self.linear_1 = torch.nn.Linear(input_size, 128)\n",
    "        self.linear_2 = torch.nn.Linear(128, output_size)\n",
    "        self.sigmoid = torch.nn.Sigmoid()\n",
    "    \n",
    "    def forward(self, x):\n",
    "        x = self.linear_1(x)\n",
    "        x = torch.square(x)\n",
    "        x = self.linear_2(x)\n",
    "        y_pred = self.sigmoid(x)\n",
    "        return y_pred"
   ]
  },
  {
   "cell_type": "markdown",
   "metadata": {},
   "source": [
    "### Initial Weights"
   ]
  },
  {
   "cell_type": "code",
   "execution_count": 7,
   "metadata": {},
   "outputs": [
    {
     "data": {
      "text/plain": [
       "[Parameter containing:\n",
       " tensor([[-0.0257,  0.0083, -0.0226,  ..., -0.0501,  0.0524, -0.0214],\n",
       "         [-0.0205, -0.0304, -0.0524,  ...,  0.0178,  0.0127,  0.0402],\n",
       "         [ 0.0334, -0.0023,  0.0516,  ..., -0.0016, -0.0007,  0.0209],\n",
       "         ...,\n",
       "         [ 0.0219, -0.0497,  0.0210,  ...,  0.0524, -0.0414, -0.0359],\n",
       "         [-0.0515,  0.0092, -0.0495,  ...,  0.0435, -0.0063, -0.0546],\n",
       "         [ 0.0430,  0.0510,  0.0430,  ...,  0.0347,  0.0418, -0.0049]],\n",
       "        requires_grad=True),\n",
       " Parameter containing:\n",
       " tensor([-0.0043, -0.0406, -0.0111,  0.0271,  0.0115, -0.0124,  0.0482,  0.0476,\n",
       "         -0.0050,  0.0244, -0.0387,  0.0576, -0.0096, -0.0564, -0.0278, -0.0486,\n",
       "         -0.0502,  0.0153, -0.0330,  0.0317,  0.0407,  0.0372, -0.0572,  0.0311,\n",
       "          0.0372,  0.0369, -0.0173,  0.0528,  0.0391,  0.0559, -0.0261, -0.0369,\n",
       "         -0.0539,  0.0531, -0.0537, -0.0186,  0.0538,  0.0142, -0.0218,  0.0154,\n",
       "         -0.0474, -0.0006, -0.0522, -0.0330, -0.0283,  0.0576, -0.0004, -0.0246,\n",
       "         -0.0242,  0.0324,  0.0133, -0.0347, -0.0022,  0.0251,  0.0094, -0.0164,\n",
       "          0.0434, -0.0367,  0.0533, -0.0475, -0.0427, -0.0479, -0.0281, -0.0243,\n",
       "         -0.0216,  0.0177,  0.0068,  0.0212, -0.0024,  0.0512, -0.0505,  0.0146,\n",
       "         -0.0479, -0.0329, -0.0045,  0.0300, -0.0382,  0.0473, -0.0165, -0.0385,\n",
       "          0.0181, -0.0200, -0.0376,  0.0174, -0.0284, -0.0265, -0.0383, -0.0144,\n",
       "         -0.0035, -0.0078, -0.0322, -0.0504,  0.0205, -0.0294, -0.0070, -0.0160,\n",
       "          0.0358, -0.0208, -0.0009,  0.0055,  0.0360, -0.0172, -0.0094, -0.0202,\n",
       "          0.0108, -0.0562, -0.0179, -0.0452,  0.0312,  0.0518, -0.0397, -0.0568,\n",
       "          0.0129, -0.0276,  0.0199, -0.0225,  0.0172,  0.0231,  0.0199, -0.0415,\n",
       "          0.0056,  0.0511, -0.0004,  0.0446, -0.0115, -0.0040,  0.0079,  0.0384],\n",
       "        requires_grad=True),\n",
       " Parameter containing:\n",
       " tensor([[-9.5529e-03,  1.4592e-02,  2.6047e-02, -2.9171e-02,  2.6418e-02,\n",
       "          -3.4565e-02, -1.7146e-02, -8.2652e-03,  6.2160e-02, -5.7279e-02,\n",
       "          -3.5859e-02,  4.8626e-02, -3.6441e-02, -4.2321e-02,  7.2627e-02,\n",
       "          -6.0641e-02,  7.1332e-02, -1.7021e-02,  3.7001e-02, -1.7483e-02,\n",
       "          -7.5308e-02, -1.1501e-03, -2.6852e-02,  2.8800e-03,  8.4345e-02,\n",
       "          -5.9421e-02,  6.5191e-02,  1.4992e-02, -8.2381e-02,  4.3125e-02,\n",
       "          -5.8039e-02, -1.2048e-02, -4.9063e-02,  4.1668e-02, -8.5894e-02,\n",
       "          -4.8343e-02, -3.0944e-02, -1.1909e-02, -5.1909e-02, -4.0792e-02,\n",
       "           1.1433e-02, -1.4016e-02, -4.5365e-02,  2.5307e-02, -4.3946e-02,\n",
       "          -3.1451e-02, -3.0654e-02,  3.8776e-02,  6.6903e-02,  2.9700e-02,\n",
       "          -2.7256e-02, -1.3592e-02,  1.4283e-03, -7.9756e-02,  1.1979e-02,\n",
       "           7.0909e-02,  8.7165e-02,  7.7441e-02, -5.5690e-02,  7.3715e-02,\n",
       "           7.1910e-02, -7.5905e-02, -6.0101e-04, -3.7293e-02, -5.3109e-02,\n",
       "           4.0766e-02,  1.7488e-02, -8.7059e-02, -1.5306e-02, -3.2291e-03,\n",
       "          -4.1598e-02, -8.0077e-02, -6.8375e-02, -1.3025e-02,  5.8634e-02,\n",
       "           4.1255e-02, -1.3147e-02,  5.8462e-03, -5.1712e-03, -8.2204e-02,\n",
       "          -8.0177e-02,  1.3593e-02, -4.2694e-02, -4.2031e-02, -1.5173e-06,\n",
       "          -8.0785e-03, -7.4094e-02,  9.0706e-04,  4.9381e-02,  4.7417e-02,\n",
       "          -2.2358e-02,  1.6925e-02, -4.6059e-02, -5.1971e-02,  6.3817e-02,\n",
       "           6.6545e-02, -6.8363e-02,  5.1928e-02, -4.4340e-02, -5.0905e-02,\n",
       "           7.7715e-02, -2.3928e-02,  3.4621e-02,  5.2442e-03,  4.7548e-02,\n",
       "           7.0992e-02, -5.4337e-02,  2.9222e-02,  7.2650e-02, -7.6571e-02,\n",
       "           5.9855e-02, -2.5970e-03, -1.1909e-02,  7.5626e-02, -1.2512e-02,\n",
       "           7.3710e-02, -8.2578e-02,  7.6223e-02, -8.7479e-02, -1.9112e-02,\n",
       "          -4.8455e-02, -3.2141e-02,  8.5841e-02, -5.4166e-02, -7.1132e-02,\n",
       "          -7.7139e-02, -2.3924e-03,  6.6903e-02]], requires_grad=True),\n",
       " Parameter containing:\n",
       " tensor([-0.0186], requires_grad=True)]"
      ]
     },
     "execution_count": 7,
     "metadata": {},
     "output_type": "execute_result"
    }
   ],
   "source": [
    "square_nn = SquareNN(300, 1)\n",
    "list(square_nn.parameters())"
   ]
  },
  {
   "cell_type": "markdown",
   "metadata": {},
   "source": [
    "### Load Trained Weights"
   ]
  },
  {
   "cell_type": "code",
   "execution_count": 8,
   "metadata": {},
   "outputs": [
    {
     "data": {
      "text/plain": [
       "[Parameter containing:\n",
       " tensor([[ 1.0139e-02,  3.0947e-02,  2.6817e-02,  ..., -6.1662e-02,\n",
       "           1.7625e-03,  9.0303e-02],\n",
       "         [ 2.1192e+00,  1.1557e+00,  3.2941e-01,  ...,  4.8868e-02,\n",
       "          -4.9274e-01,  6.0092e-01],\n",
       "         [ 3.1423e+00, -3.3778e-02, -6.5637e-01,  ...,  3.4571e-01,\n",
       "           5.3613e-01,  1.1148e-01],\n",
       "         ...,\n",
       "         [-3.1367e+00,  2.8931e-01,  5.5360e-01,  ...,  2.6386e+00,\n",
       "           9.5871e-01,  1.5863e-01],\n",
       "         [ 2.4065e-01, -9.1469e-02, -8.7369e-01,  ..., -4.0021e-01,\n",
       "          -1.0661e+00,  1.9891e-02],\n",
       "         [-6.4772e-02,  4.4237e-01,  5.4678e-01,  ..., -6.2335e-01,\n",
       "          -4.9182e-01, -1.3963e-02]], requires_grad=True),\n",
       " Parameter containing:\n",
       " tensor([ 6.3727e-03,  2.9873e+00, -5.6260e+00,  4.1148e+00, -2.2082e+00,\n",
       "         -7.4740e-02,  6.2570e+00, -3.3000e-01,  1.8460e+00,  1.6248e+00,\n",
       "         -1.0599e-01, -2.0954e-01,  3.2723e+00, -1.3440e+00,  5.6144e-02,\n",
       "         -5.7076e-02,  1.5004e+00, -5.9462e-01, -6.8559e-01, -3.2672e+00,\n",
       "         -1.3547e+00,  3.5897e+00,  9.0701e-01, -1.5125e+00,  1.2780e+00,\n",
       "         -2.6439e-02, -1.6404e+00, -1.4399e+00,  3.7971e+00, -9.9314e-02,\n",
       "          6.5681e+00, -8.4144e-01,  6.9564e-01, -3.2462e+00, -5.7436e-01,\n",
       "         -1.1421e+00,  1.0262e+00,  7.6856e-02,  1.3362e+00, -2.3658e+00,\n",
       "         -8.9818e-01,  3.6703e+00,  3.1061e-01, -1.6586e+00, -2.8154e-01,\n",
       "         -2.5155e+00, -1.0860e+00, -1.1146e-01,  8.9214e-02,  2.0869e+00,\n",
       "         -3.5246e-01, -1.4207e-01, -6.0481e-02,  4.9949e-01, -1.0080e+00,\n",
       "         -1.4670e-01,  3.5329e+00, -3.4438e-01,  1.1256e-01, -9.5986e-02,\n",
       "         -2.2114e+00, -2.0003e-01, -1.1121e-01,  8.9214e-02, -1.3552e-01,\n",
       "          2.4415e+00,  1.8296e+00,  1.7047e+00, -1.2261e+00, -1.9467e+00,\n",
       "         -9.0089e-02, -5.3970e-02, -9.0315e-02, -2.4648e-01, -2.1848e+00,\n",
       "         -1.2086e-01, -6.4036e-02, -1.7114e-01,  2.4538e+00, -2.7986e-01,\n",
       "         -2.5957e+00, -6.0517e-02,  4.8918e-01, -2.1689e-02, -4.4580e+00,\n",
       "          1.5693e+00, -2.8065e+00,  4.6257e+00,  6.9095e-01,  1.8456e+00,\n",
       "          7.0138e-01, -2.0794e-01,  2.0456e+00, -1.4121e+00,  4.5418e-01,\n",
       "          1.2587e-02, -1.5290e+00,  4.7162e+00, -3.1363e+00, -2.6011e-01,\n",
       "         -5.8306e-01,  2.9212e+00,  1.4653e+00, -4.4131e-01,  2.5260e+00,\n",
       "          3.4247e+00,  1.3652e+01,  3.1182e-02, -4.0316e-02, -1.4417e+00,\n",
       "          2.5656e+00, -2.0318e+00,  2.6425e+00,  9.5683e-01,  1.1313e+00,\n",
       "         -2.2177e+00,  1.1250e-02, -1.1296e+00, -3.3391e+00,  3.1927e+00,\n",
       "          4.9555e+00, -2.5618e+00, -2.1233e-01,  9.4415e-01, -1.1486e+00,\n",
       "          3.4485e+00, -2.2890e-01,  1.9452e-01], requires_grad=True),\n",
       " Parameter containing:\n",
       " tensor([[-6.4807e-03,  9.2164e-03,  3.1404e-02,  3.6890e-02, -1.8359e-02,\n",
       "          -1.9405e-04,  3.8770e-02,  9.9269e-03, -4.2146e-02, -4.5070e-02,\n",
       "          -1.6779e-03,  4.2492e-03,  1.7671e-02,  3.9278e-03,  2.4144e-04,\n",
       "           4.8396e-04,  4.1191e-02,  3.2235e-03,  6.6841e-03,  7.2577e-02,\n",
       "           1.8212e-03, -8.3797e-03, -1.3490e-02,  2.0257e-03,  4.5695e-02,\n",
       "           1.0307e-03,  1.4393e-02, -4.2676e-02, -2.2758e-02, -1.5228e-02,\n",
       "           3.4039e-02,  2.0700e-02,  3.8010e-04, -2.2647e-02,  3.0585e-03,\n",
       "           3.1038e-03, -3.4849e-02,  1.8641e-03, -6.2272e-03, -7.6080e-03,\n",
       "           1.3230e-02,  4.8907e-03,  1.5098e-02,  9.9658e-03,  2.5799e-03,\n",
       "           5.5493e-02, -7.2322e-02,  5.2321e-04, -2.0830e-02, -5.2578e-03,\n",
       "           9.6470e-03,  5.0075e-03,  6.8355e-05, -1.5305e-02, -5.2421e-03,\n",
       "          -5.4901e-04,  1.2744e-02,  8.8122e-04,  9.4538e-03,  1.9426e-04,\n",
       "           1.4323e-02,  2.2442e-04,  2.4770e-03,  1.8302e-03,  4.5192e-04,\n",
       "          -1.4738e-02, -1.3563e-02,  8.9788e-04,  1.5841e-03, -2.2339e-03,\n",
       "           9.3438e-04,  1.1608e-03,  3.2188e-03, -6.9375e-03,  6.4841e-03,\n",
       "          -4.2699e-03,  3.0401e-03,  9.7245e-04,  4.3649e-02,  1.1823e-03,\n",
       "          -8.3417e-04,  8.4158e-04,  1.0834e-03,  4.2190e-04, -1.4556e-02,\n",
       "           8.7904e-03, -9.4512e-03,  5.2044e-02, -9.4256e-03,  4.4960e-03,\n",
       "           8.8690e-02, -2.1145e-03,  1.3842e-02, -8.4425e-04, -9.2285e-04,\n",
       "           7.3047e-04,  2.7845e-02,  5.0843e-02,  1.2871e-02,  3.7110e-02,\n",
       "          -3.8913e-03, -4.2688e-03,  3.7517e-04, -1.1494e-03, -3.0463e-02,\n",
       "          -1.4629e-03, -4.9483e-02,  7.1259e-03, -3.7634e-04, -5.0754e-02,\n",
       "           1.3536e-02,  4.1322e-02,  6.5922e-03, -4.8253e-03,  4.5398e-02,\n",
       "          -9.4610e-02,  3.9574e-04,  2.2021e-03,  1.6720e-02,  4.0067e-02,\n",
       "           5.2874e-02, -1.6462e-02, -1.5303e-04,  3.1947e-03, -6.0683e-02,\n",
       "          -6.1987e-02, -3.9809e-04, -1.7559e-02]], requires_grad=True),\n",
       " Parameter containing:\n",
       " tensor([-2.2165], requires_grad=True)]"
      ]
     },
     "execution_count": 8,
     "metadata": {},
     "output_type": "execute_result"
    }
   ],
   "source": [
    "square_nn = SquareNN(300, 1)\n",
    "checkpoint = torch.load(checkpoint_path)\n",
    "square_nn.load_state_dict(checkpoint['model_state_dict'])\n",
    "list(square_nn.parameters())"
   ]
  },
  {
   "cell_type": "markdown",
   "metadata": {},
   "source": [
    "## Floating-point Inference"
   ]
  },
  {
   "cell_type": "code",
   "execution_count": 9,
   "metadata": {},
   "outputs": [],
   "source": [
    "device = torch.device('cpu')\n",
    "\n",
    "def inference(model, test_loader):\n",
    "    test_corrects = 0\n",
    "    test_total_examples = 0    \n",
    "    test_accuracies = []\n",
    "    with torch.no_grad():\n",
    "        for i, (x, y) in enumerate(test_loader):\n",
    "            # prepare data\n",
    "            x = x.to(device)\n",
    "            y = y.to(device).to(torch.float32)\n",
    "            # the forward pass\n",
    "            y_pred = model(x)\n",
    "            y_pred = y_pred.reshape(y.shape)\n",
    "            # collect testing results\n",
    "            test_corrects += torch.sum((y_pred.round() == y))\n",
    "            test_total_examples += len(y)\n",
    "    test_acc = test_corrects.item() / test_total_examples\n",
    "    test_accuracies.append(test_acc)\n",
    "    print(f\"num_test_corrects / test_total_examples = {test_corrects.item()} / {test_total_examples}\")\n",
    "    print(f\"testing accuracy = {test_accuracies[-1]:.4f}\")"
   ]
  },
  {
   "cell_type": "code",
   "execution_count": 11,
   "metadata": {},
   "outputs": [
    {
     "name": "stdout",
     "output_type": "stream",
     "text": [
      "num_test_corrects / test_total_examples = 8031 / 9217\n",
      "testing accuracy = 0.8713\n"
     ]
    }
   ],
   "source": [
    "inference(square_nn, test_dataloader)"
   ]
  },
  {
   "cell_type": "markdown",
   "metadata": {},
   "source": [
    "## Quantization"
   ]
  },
  {
   "cell_type": "markdown",
   "metadata": {},
   "source": [
    "Source: https://towardsdatascience.com/integer-only-inference-for-deep-learning-in-native-c-e57f29a20adc"
   ]
  },
  {
   "cell_type": "code",
   "execution_count": 16,
   "metadata": {},
   "outputs": [],
   "source": [
    "from pytorch_quantization import calib\n",
    "from pytorch_quantization import nn as quant_nn\n",
    "from pytorch_quantization import quant_modules\n",
    "from pytorch_quantization.tensor_quant import QuantDescriptor"
   ]
  },
  {
   "cell_type": "markdown",
   "metadata": {},
   "source": [
    "### Define quantization using a histogram calibrator"
   ]
  },
  {
   "cell_type": "code",
   "execution_count": 23,
   "metadata": {},
   "outputs": [],
   "source": [
    "quant_desc_input = QuantDescriptor(calib_method='histogram')   \n",
    "quant_nn.QuantLinear.set_default_quant_desc_input(quant_desc_input)\n",
    "quant_modules.initialize()  # monkey-patch PyTorch modules with quantized versions"
   ]
  },
  {
   "cell_type": "markdown",
   "metadata": {},
   "source": [
    "### Redefine the `SquareNN` Module so it contains quantizers"
   ]
  },
  {
   "cell_type": "code",
   "execution_count": 29,
   "metadata": {},
   "outputs": [
    {
     "data": {
      "text/plain": [
       "SquareNN(\n",
       "  (linear_1): QuantLinear(\n",
       "    in_features=300, out_features=128, bias=True\n",
       "    (_input_quantizer): TensorQuantizer(8bit fake per-tensor amax=dynamic calibrator=HistogramCalibrator scale=1.0 quant)\n",
       "    (_weight_quantizer): TensorQuantizer(8bit fake axis=0 amax=dynamic calibrator=MaxCalibrator scale=1.0 quant)\n",
       "  )\n",
       "  (linear_2): QuantLinear(\n",
       "    in_features=128, out_features=1, bias=True\n",
       "    (_input_quantizer): TensorQuantizer(8bit fake per-tensor amax=dynamic calibrator=HistogramCalibrator scale=1.0 quant)\n",
       "    (_weight_quantizer): TensorQuantizer(8bit fake axis=0 amax=dynamic calibrator=MaxCalibrator scale=1.0 quant)\n",
       "  )\n",
       "  (sigmoid): Sigmoid()\n",
       ")"
      ]
     },
     "execution_count": 29,
     "metadata": {},
     "output_type": "execute_result"
    }
   ],
   "source": [
    "class SquareNN(torch.nn.Module):\n",
    "    def __init__(self, input_size, output_size):\n",
    "        super(SquareNN, self).__init__()\n",
    "        self.linear_1 = torch.nn.Linear(input_size, 128)\n",
    "        self.linear_2 = torch.nn.Linear(128, output_size)\n",
    "        self.sigmoid = torch.nn.Sigmoid()\n",
    "    \n",
    "    def forward(self, x):\n",
    "        x = self.linear_1(x)\n",
    "        x = torch.square(x)\n",
    "        x = self.linear_2(x)\n",
    "        y_pred = self.sigmoid(x)\n",
    "        return y_pred\n",
    "\n",
    "square_nn_quant = SquareNN(300, 1)\n",
    "square_nn_quant.load_state_dict(checkpoint['model_state_dict'])\n",
    "square_nn_quant"
   ]
  },
  {
   "cell_type": "markdown",
   "metadata": {},
   "source": [
    "### Define a function to input statistics for calibration during inference and a function to compute the amax values"
   ]
  },
  {
   "cell_type": "code",
   "execution_count": 40,
   "metadata": {},
   "outputs": [],
   "source": [
    "\n",
    "def collect_stats(model, data_loader, num_bins):\n",
    "    \"\"\"Feed data to the network and collect statistic\"\"\"\n",
    "    model.eval()\n",
    "    # Enable calibrators\n",
    "    for name, module in model.named_modules():\n",
    "        if isinstance(module, quant_nn.TensorQuantizer):\n",
    "            if module._calibrator is not None:\n",
    "                module.disable_quant()\n",
    "                module.enable_calib()\n",
    "                if isinstance(module._calibrator, calib.HistogramCalibrator):\n",
    "                    module._calibrator._num_bins = num_bins\n",
    "            else:\n",
    "                module.disable()\n",
    "\n",
    "    for batch, _ in data_loader:\n",
    "        x = batch.float()\n",
    "        model(x)\n",
    "\n",
    "        # Disable calibrators\n",
    "        for _, module in model.named_modules():\n",
    "            if isinstance(module, quant_nn.TensorQuantizer):\n",
    "                if module._calibrator is not None:\n",
    "                    module.enable_quant()\n",
    "                    module.disable_calib()\n",
    "                else:\n",
    "                    module.enable()\n",
    "\n",
    "\n",
    "def compute_amax(model, **kwargs):\n",
    "    # Load calib result\n",
    "    for name, module in model.named_modules():\n",
    "        if isinstance(module, quant_nn.TensorQuantizer):\n",
    "            if module._calibrator is not None:\n",
    "                if isinstance(module._calibrator, calib.MaxCalibrator):\n",
    "                    module.load_calib_amax()\n",
    "                else:\n",
    "                    module.load_calib_amax(**kwargs)"
   ]
  },
  {
   "cell_type": "code",
   "execution_count": null,
   "metadata": {},
   "outputs": [],
   "source": [
    "with torch.no_grad():\n",
    "    collect_stats(square_nn_quant, test_dataloader, 128)\n",
    "    compute_amax(square_nn_quant, method=\"entropy\")"
   ]
  },
  {
   "cell_type": "code",
   "execution_count": 64,
   "metadata": {},
   "outputs": [],
   "source": [
    "def quantize_model_params(model):\n",
    "    \"\"\"Quantize layer weights using calculated amax\n",
    "       and process scale constant for C-code\n",
    "\n",
    "    Args:\n",
    "        state_dict (Dict): pytorch model state_dict\n",
    "        amax (Dict): dictionary containing amax values\n",
    "    \"\"\"\n",
    "    scale_factor = 127 # 127 for 8 bits\n",
    "    state_dict = dict()\n",
    "    layer_names = ['linear_1', 'linear_2']\n",
    "    \n",
    "    for layer_idx, layer_name in enumerate(layer_names):\n",
    "        # quantize all parameters\n",
    "        weight = model.state_dict()[f'{layer_name}.weight']\n",
    "        s_w = model.state_dict()[f'{layer_name}._weight_quantizer._amax'].numpy()\n",
    "        s_x = model.state_dict()[f'{layer_name}._input_quantizer._amax'].numpy()\n",
    "\n",
    "        scale = weight * (scale_factor / s_w)\n",
    "        state_dict[f'{layer_name}_weight'] = torch.clamp(scale.round(), min=-127, max=127).to(int)\n",
    "        state_dict[f'{layer_name}_weight'] = state_dict[f'{layer_name}_weight'].T.numpy()\n",
    "\n",
    "        state_dict[f'{layer_name}_s_x'] = scale_factor / s_x\n",
    "        state_dict[f'{layer_name}_s_x_inv'] = s_x / scale_factor\n",
    "        state_dict[f'{layer_name}_s_w_inv'] = (s_w / scale_factor).squeeze()        \n",
    "\n",
    "    return state_dict\n",
    "\n",
    "state_dict = quantize_model_params(square_nn_quant)"
   ]
  },
  {
   "cell_type": "code",
   "execution_count": 68,
   "metadata": {},
   "outputs": [
    {
     "data": {
      "text/plain": [
       "dict_keys(['linear_1_weight', 'linear_1_s_x', 'linear_1_s_x_inv', 'linear_1_s_w_inv', 'linear_2_weight', 'linear_2_s_x', 'linear_2_s_x_inv', 'linear_2_s_w_inv'])"
      ]
     },
     "execution_count": 68,
     "metadata": {},
     "output_type": "execute_result"
    }
   ],
   "source": [
    "state_dict.keys()"
   ]
  },
  {
   "cell_type": "code",
   "execution_count": 76,
   "metadata": {},
   "outputs": [
    {
     "name": "stdout",
     "output_type": "stream",
     "text": [
      "(300, 128)\n",
      "(128, 1)\n"
     ]
    }
   ],
   "source": [
    "print(state_dict['linear_1_weight'].shape)\n",
    "print(state_dict['linear_2_weight'].shape)"
   ]
  },
  {
   "cell_type": "code",
   "execution_count": 86,
   "metadata": {},
   "outputs": [
    {
     "name": "stdout",
     "output_type": "stream",
     "text": [
      "quantized_linear_1_weight.shape = (300, 128)\n",
      "quantized_linear_1_weight = array([[  5,  88,  99, ..., -50,  10,  -2],\n",
      "       [ 16,  48,  -1, ...,   5,  -4,  17],\n",
      "       [ 14,  14, -21, ...,   9, -37,  21],\n",
      "       ...,\n",
      "       [-31,   2,  11, ...,  42, -17, -23],\n",
      "       [  1, -20,  17, ...,  15, -45, -19],\n",
      "       [ 45,  25,   4, ...,   3,   1,  -1]])\n",
      "quantized_linear_1_weight.max() = 127\n",
      "quantized_linear_1_weight.min() = -127\n"
     ]
    }
   ],
   "source": [
    "quantized_linear_1_weight = state_dict['linear_1_weight']\n",
    "\n",
    "print(f\"{quantized_linear_1_weight.shape = }\")\n",
    "print(f\"{quantized_linear_1_weight = }\")\n",
    "print(f\"{quantized_linear_1_weight.max() = }\")\n",
    "print(f\"{quantized_linear_1_weight.min() = }\")\n"
   ]
  },
  {
   "cell_type": "code",
   "execution_count": 85,
   "metadata": {},
   "outputs": [
    {
     "name": "stdout",
     "output_type": "stream",
     "text": [
      "quantized_linear_2_weight.shape = (128, 1)\n",
      "quantized_linear_2_weight = array([[  -9],\n",
      "       [  12],\n",
      "       [  42],\n",
      "       [  50],\n",
      "       [ -25],\n",
      "       [   0],\n",
      "       [  52],\n",
      "       [  13],\n",
      "       [ -57],\n",
      "       [ -60],\n",
      "       [  -2],\n",
      "       [   6],\n",
      "       [  24],\n",
      "       [   5],\n",
      "       [   0],\n",
      "       [   1],\n",
      "       [  55],\n",
      "       [   4],\n",
      "       [   9],\n",
      "       [  97],\n",
      "       [   2],\n",
      "       [ -11],\n",
      "       [ -18],\n",
      "       [   3],\n",
      "       [  61],\n",
      "       [   1],\n",
      "       [  19],\n",
      "       [ -57],\n",
      "       [ -31],\n",
      "       [ -20],\n",
      "       [  46],\n",
      "       [  28],\n",
      "       [   1],\n",
      "       [ -30],\n",
      "       [   4],\n",
      "       [   4],\n",
      "       [ -47],\n",
      "       [   3],\n",
      "       [  -8],\n",
      "       [ -10],\n",
      "       [  18],\n",
      "       [   7],\n",
      "       [  20],\n",
      "       [  13],\n",
      "       [   3],\n",
      "       [  74],\n",
      "       [ -97],\n",
      "       [   1],\n",
      "       [ -28],\n",
      "       [  -7],\n",
      "       [  13],\n",
      "       [   7],\n",
      "       [   0],\n",
      "       [ -21],\n",
      "       [  -7],\n",
      "       [  -1],\n",
      "       [  17],\n",
      "       [   1],\n",
      "       [  13],\n",
      "       [   0],\n",
      "       [  19],\n",
      "       [   0],\n",
      "       [   3],\n",
      "       [   2],\n",
      "       [   1],\n",
      "       [ -20],\n",
      "       [ -18],\n",
      "       [   1],\n",
      "       [   2],\n",
      "       [  -3],\n",
      "       [   1],\n",
      "       [   2],\n",
      "       [   4],\n",
      "       [  -9],\n",
      "       [   9],\n",
      "       [  -6],\n",
      "       [   4],\n",
      "       [   1],\n",
      "       [  59],\n",
      "       [   2],\n",
      "       [  -1],\n",
      "       [   1],\n",
      "       [   1],\n",
      "       [   1],\n",
      "       [ -20],\n",
      "       [  12],\n",
      "       [ -13],\n",
      "       [  70],\n",
      "       [ -13],\n",
      "       [   6],\n",
      "       [ 119],\n",
      "       [  -3],\n",
      "       [  19],\n",
      "       [  -1],\n",
      "       [  -1],\n",
      "       [   1],\n",
      "       [  37],\n",
      "       [  68],\n",
      "       [  17],\n",
      "       [  50],\n",
      "       [  -5],\n",
      "       [  -6],\n",
      "       [   1],\n",
      "       [  -2],\n",
      "       [ -41],\n",
      "       [  -2],\n",
      "       [ -66],\n",
      "       [  10],\n",
      "       [  -1],\n",
      "       [ -68],\n",
      "       [  18],\n",
      "       [  55],\n",
      "       [   9],\n",
      "       [  -6],\n",
      "       [  61],\n",
      "       [-127],\n",
      "       [   1],\n",
      "       [   3],\n",
      "       [  22],\n",
      "       [  54],\n",
      "       [  71],\n",
      "       [ -22],\n",
      "       [   0],\n",
      "       [   4],\n",
      "       [ -81],\n",
      "       [ -83],\n",
      "       [  -1],\n",
      "       [ -24]])\n",
      "quantized_linear_2_weight.max() = 119\n",
      "quantized_linear_2_weight.min() = -127\n"
     ]
    }
   ],
   "source": [
    "quantized_linear_2_weight = state_dict['linear_2_weight']\n",
    "print(f\"{quantized_linear_2_weight.shape = }\")\n",
    "print(f\"{quantized_linear_2_weight = }\")\n",
    "print(f\"{quantized_linear_2_weight.max() = }\")\n",
    "print(f\"{quantized_linear_2_weight.min() = }\")"
   ]
  },
  {
   "cell_type": "code",
   "execution_count": 93,
   "metadata": {},
   "outputs": [
    {
     "data": {
      "text/plain": [
       "{'linear_1_weight': array([[  5,  88,  99, ..., -50,  10,  -2],\n",
       "       [ 16,  48,  -1, ...,   5,  -4,  17],\n",
       "       [ 14,  14, -21, ...,   9, -37,  21],\n",
       "       ...,\n",
       "       [-31,   2,  11, ...,  42, -17, -23],\n",
       "       [  1, -20,  17, ...,  15, -45, -19],\n",
       "       [ 45,  25,   4, ...,   3,   1,  -1]]), 'linear_1_s_x': 140.6071470475624, 'linear_1_s_x_inv': 0.007112014012073908, 'linear_1_s_w_inv': array([0.00198565, 0.02411417, 0.0316209 , 0.03660056, 0.03377177,\n",
       "       0.00226518, 0.04201226, 0.01804811, 0.0277515 , 0.03677439,\n",
       "       0.002122  , 0.0140495 , 0.02574579, 0.03507228, 0.00324032,\n",
       "       0.00261699, 0.06197257, 0.01316361, 0.02095175, 0.05428557,\n",
       "       0.0174356 , 0.03007196, 0.01896461, 0.02098909, 0.04507471,\n",
       "       0.00291833, 0.03751871, 0.04516955, 0.03721559, 0.02356489,\n",
       "       0.02781525, 0.03560252, 0.01973994, 0.0358975 , 0.0197043 ,\n",
       "       0.01089547, 0.04591201, 0.00661108, 0.01848545, 0.02911852,\n",
       "       0.02461621, 0.03131307, 0.03295984, 0.01995438, 0.05305358,\n",
       "       0.0636922 , 0.0516253 , 0.00161738, 0.0342663 , 0.02934523,\n",
       "       0.03604253, 0.00239561, 0.00168026, 0.02536885, 0.0145005 ,\n",
       "       0.0131484 , 0.02022606, 0.00756263, 0.00138225, 0.00281328,\n",
       "       0.02830633, 0.00715   , 0.0074338 , 0.00326072, 0.01808743,\n",
       "       0.02256263, 0.01854106, 0.02043696, 0.01404024, 0.02965854,\n",
       "       0.00303346, 0.00203124, 0.00846728, 0.02740479, 0.03377223,\n",
       "       0.00310998, 0.00709065, 0.0020212 , 0.03271645, 0.01825515,\n",
       "       0.02719995, 0.0014915 , 0.01894625, 0.01555795, 0.03920523,\n",
       "       0.02528368, 0.02510282, 0.05989398, 0.02034113, 0.02669122,\n",
       "       0.05709211, 0.00886972, 0.04473939, 0.02101462, 0.00952576,\n",
       "       0.0017415 , 0.02419599, 0.03550886, 0.02426514, 0.05431611,\n",
       "       0.02055526, 0.03102451, 0.01850879, 0.01965888, 0.05805142,\n",
       "       0.03063448, 0.03720552, 0.00945493, 0.0077194 , 0.06381348,\n",
       "       0.02241603, 0.0479045 , 0.02812411, 0.02218974, 0.04384349,\n",
       "       0.06899176, 0.00231074, 0.01207066, 0.03108994, 0.06827156,\n",
       "       0.04446533, 0.04085137, 0.00374705, 0.017508  , 0.05056925,\n",
       "       0.06245292, 0.023595  , 0.02655603], dtype=float32), 'linear_2_weight': array([[  -9],\n",
       "       [  12],\n",
       "       [  42],\n",
       "       [  50],\n",
       "       [ -25],\n",
       "       [   0],\n",
       "       [  52],\n",
       "       [  13],\n",
       "       [ -57],\n",
       "       [ -60],\n",
       "       [  -2],\n",
       "       [   6],\n",
       "       [  24],\n",
       "       [   5],\n",
       "       [   0],\n",
       "       [   1],\n",
       "       [  55],\n",
       "       [   4],\n",
       "       [   9],\n",
       "       [  97],\n",
       "       [   2],\n",
       "       [ -11],\n",
       "       [ -18],\n",
       "       [   3],\n",
       "       [  61],\n",
       "       [   1],\n",
       "       [  19],\n",
       "       [ -57],\n",
       "       [ -31],\n",
       "       [ -20],\n",
       "       [  46],\n",
       "       [  28],\n",
       "       [   1],\n",
       "       [ -30],\n",
       "       [   4],\n",
       "       [   4],\n",
       "       [ -47],\n",
       "       [   3],\n",
       "       [  -8],\n",
       "       [ -10],\n",
       "       [  18],\n",
       "       [   7],\n",
       "       [  20],\n",
       "       [  13],\n",
       "       [   3],\n",
       "       [  74],\n",
       "       [ -97],\n",
       "       [   1],\n",
       "       [ -28],\n",
       "       [  -7],\n",
       "       [  13],\n",
       "       [   7],\n",
       "       [   0],\n",
       "       [ -21],\n",
       "       [  -7],\n",
       "       [  -1],\n",
       "       [  17],\n",
       "       [   1],\n",
       "       [  13],\n",
       "       [   0],\n",
       "       [  19],\n",
       "       [   0],\n",
       "       [   3],\n",
       "       [   2],\n",
       "       [   1],\n",
       "       [ -20],\n",
       "       [ -18],\n",
       "       [   1],\n",
       "       [   2],\n",
       "       [  -3],\n",
       "       [   1],\n",
       "       [   2],\n",
       "       [   4],\n",
       "       [  -9],\n",
       "       [   9],\n",
       "       [  -6],\n",
       "       [   4],\n",
       "       [   1],\n",
       "       [  59],\n",
       "       [   2],\n",
       "       [  -1],\n",
       "       [   1],\n",
       "       [   1],\n",
       "       [   1],\n",
       "       [ -20],\n",
       "       [  12],\n",
       "       [ -13],\n",
       "       [  70],\n",
       "       [ -13],\n",
       "       [   6],\n",
       "       [ 119],\n",
       "       [  -3],\n",
       "       [  19],\n",
       "       [  -1],\n",
       "       [  -1],\n",
       "       [   1],\n",
       "       [  37],\n",
       "       [  68],\n",
       "       [  17],\n",
       "       [  50],\n",
       "       [  -5],\n",
       "       [  -6],\n",
       "       [   1],\n",
       "       [  -2],\n",
       "       [ -41],\n",
       "       [  -2],\n",
       "       [ -66],\n",
       "       [  10],\n",
       "       [  -1],\n",
       "       [ -68],\n",
       "       [  18],\n",
       "       [  55],\n",
       "       [   9],\n",
       "       [  -6],\n",
       "       [  61],\n",
       "       [-127],\n",
       "       [   1],\n",
       "       [   3],\n",
       "       [  22],\n",
       "       [  54],\n",
       "       [  71],\n",
       "       [ -22],\n",
       "       [   0],\n",
       "       [   4],\n",
       "       [ -81],\n",
       "       [ -83],\n",
       "       [  -1],\n",
       "       [ -24]]), 'linear_2_s_x': 2.0932459700553734, 'linear_2_s_x_inv': 0.47772694384957864, 'linear_2_s_w_inv': 0.0007449617301385234}"
      ]
     },
     "execution_count": 93,
     "metadata": {},
     "output_type": "execute_result"
    }
   ],
   "source": [
    "state_dict"
   ]
  },
  {
   "cell_type": "code",
   "execution_count": 13,
   "metadata": {},
   "outputs": [],
   "source": [
    "file_name = Path('square_nn_quant.th')\n",
    "if not file_name.exists():\n",
    "    torch.save(state_dict,\n",
    "               'square_nn_quant.th')"
   ]
  },
  {
   "cell_type": "code",
   "execution_count": null,
   "metadata": {},
   "outputs": [],
   "source": []
  }
 ],
 "metadata": {
  "kernelspec": {
   "display_name": "pockethhe",
   "language": "python",
   "name": "python3"
  },
  "language_info": {
   "codemirror_mode": {
    "name": "ipython",
    "version": 3
   },
   "file_extension": ".py",
   "mimetype": "text/x-python",
   "name": "python",
   "nbconvert_exporter": "python",
   "pygments_lexer": "ipython3",
   "version": "3.9.16"
  },
  "orig_nbformat": 4
 },
 "nbformat": 4,
 "nbformat_minor": 2
}
