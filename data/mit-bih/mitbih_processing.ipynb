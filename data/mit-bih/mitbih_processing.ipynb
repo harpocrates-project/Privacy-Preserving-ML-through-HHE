{
 "cells": [
  {
   "cell_type": "code",
   "execution_count": 2,
   "metadata": {},
   "outputs": [],
   "source": [
    "from copy import deepcopy\n",
    "import h5py\n",
    "import matplotlib.pyplot as plt\n",
    "import numpy as np"
   ]
  },
  {
   "attachments": {},
   "cell_type": "markdown",
   "metadata": {},
   "source": [
    "## Load the dataset in `hdf5`"
   ]
  },
  {
   "cell_type": "code",
   "execution_count": 3,
   "metadata": {},
   "outputs": [],
   "source": [
    "with h5py.File(\"mitbih_train.hdf5\", 'r') as hdf:\n",
    "    x_train = hdf['x_train'][:]\n",
    "    x_train = np.squeeze(x_train)\n",
    "    y_train = hdf['y_train'][:]\n",
    "    binary_y_train = deepcopy(y_train)\n",
    "    binary_y_train[binary_y_train > 0] = 1\n",
    "    # np.savetxt(\"csv/mitbih_x_train.csv\", x_train, delimiter=\",\")\n",
    "    # np.savetxt(\"csv/mitbih_binary_y_train.csv\", binary_y_train, delimiter=\",\")"
   ]
  },
  {
   "cell_type": "code",
   "execution_count": 3,
   "metadata": {},
   "outputs": [
    {
     "name": "stdout",
     "output_type": "stream",
     "text": [
      "x_train.shape = (13245, 128)\n",
      "y_train.shape = (13245,)\n",
      "np.max(x_train) = 1.0025882857391737\n",
      "np.min(x_train) = -0.003320392437785869\n"
     ]
    }
   ],
   "source": [
    "print(f\"{x_train.shape = }\")\n",
    "print(f\"{y_train.shape = }\")\n",
    "print(f\"{np.max(x_train) = }\")\n",
    "print(f\"{np.min(x_train) = }\")"
   ]
  },
  {
   "cell_type": "code",
   "execution_count": 4,
   "metadata": {},
   "outputs": [],
   "source": [
    "with h5py.File(\"mitbih_test.hdf5\", 'r') as hdf:\n",
    "    x_test = hdf['x_test'][:]\n",
    "    x_test = np.squeeze(x_test)\n",
    "    y_test = hdf['y_test'][:]\n",
    "    binary_y_test = deepcopy(y_test)\n",
    "    binary_y_test[binary_y_test > 0] = 1\n",
    "    # np.savetxt(\"csv/mitbih_x_test.csv\", x, delimiter=\",\")\n",
    "    # np.savetxt(\"csv/mitbih_binary_y_test.csv\", binary_y, delimiter=\",\")"
   ]
  },
  {
   "cell_type": "code",
   "execution_count": 5,
   "metadata": {},
   "outputs": [
    {
     "name": "stdout",
     "output_type": "stream",
     "text": [
      "x_test.shape = (13245, 128)\n",
      "y_test.shape = (13245,)\n",
      "np.max(x_test) = 0.9952500164218069\n",
      "np.min(x_test) = -0.011433581701107389\n"
     ]
    }
   ],
   "source": [
    "print(f\"{x_test.shape = }\")\n",
    "print(f\"{y_test.shape = }\")\n",
    "print(f\"{np.max(x_test) = }\")\n",
    "print(f\"{np.min(x_test) = }\")"
   ]
  },
  {
   "attachments": {},
   "cell_type": "markdown",
   "metadata": {},
   "source": [
    "Let's investigate the number of examples in each class"
   ]
  },
  {
   "cell_type": "code",
   "execution_count": 8,
   "metadata": {},
   "outputs": [
    {
     "data": {
      "text/plain": [
       "(array([0, 1]), array([ 3000, 10245]))"
      ]
     },
     "execution_count": 8,
     "metadata": {},
     "output_type": "execute_result"
    }
   ],
   "source": [
    "np.unique(binary_y_train, return_counts=True)"
   ]
  },
  {
   "cell_type": "code",
   "execution_count": 9,
   "metadata": {},
   "outputs": [
    {
     "data": {
      "text/plain": [
       "(array([0, 1]), array([ 3000, 10245]))"
      ]
     },
     "execution_count": 9,
     "metadata": {},
     "output_type": "execute_result"
    }
   ],
   "source": [
    "np.unique(binary_y_test, return_counts=True)"
   ]
  },
  {
   "attachments": {},
   "cell_type": "markdown",
   "metadata": {},
   "source": [
    "We can see that we have `3000 (~20%)` examples for the `0` class and `10245 (~80%)`  examples for the `1` class"
   ]
  },
  {
   "attachments": {},
   "cell_type": "markdown",
   "metadata": {},
   "source": [
    "## Make the dataset balanced"
   ]
  },
  {
   "attachments": {},
   "cell_type": "markdown",
   "metadata": {},
   "source": [
    "### under-sampling the `1` class"
   ]
  },
  {
   "attachments": {},
   "cell_type": "markdown",
   "metadata": {},
   "source": [
    "`Train` split"
   ]
  },
  {
   "cell_type": "code",
   "execution_count": 6,
   "metadata": {},
   "outputs": [
    {
     "name": "stdout",
     "output_type": "stream",
     "text": [
      "[    0     1     2 ... 13241 13242 13243]\n",
      "len(to_be_removed) = 7245\n"
     ]
    }
   ],
   "source": [
    "ones_indices = np.where(binary_y_train == 1)[0]\n",
    "print(ones_indices)\n",
    "to_be_removed = np.random.choice(ones_indices, size=7245, replace=False)\n",
    "print(f\"{len(to_be_removed) = }\")"
   ]
  },
  {
   "cell_type": "code",
   "execution_count": 16,
   "metadata": {},
   "outputs": [],
   "source": [
    "balanced_x_train = np.delete(x_train, to_be_removed, 0)\n",
    "balanced_bin_y_train = np.delete(binary_y_train, to_be_removed, 0)"
   ]
  },
  {
   "cell_type": "code",
   "execution_count": 17,
   "metadata": {},
   "outputs": [
    {
     "name": "stdout",
     "output_type": "stream",
     "text": [
      "balanced_x_train.shape = (6000, 128)\n",
      "balanced_bin_y_train.shape = (6000,)\n"
     ]
    }
   ],
   "source": [
    "print(f\"{balanced_x_train.shape = }\")\n",
    "print(f\"{balanced_bin_y_train.shape = }\")"
   ]
  },
  {
   "attachments": {},
   "cell_type": "markdown",
   "metadata": {},
   "source": [
    "`Test` split"
   ]
  },
  {
   "cell_type": "code",
   "execution_count": 18,
   "metadata": {},
   "outputs": [
    {
     "name": "stdout",
     "output_type": "stream",
     "text": [
      "[    0     1     4 ... 13242 13243 13244]\n",
      "len(to_be_removed_test) = 7245\n"
     ]
    }
   ],
   "source": [
    "ones_indices_test = np.where(binary_y_test == 1)[0]\n",
    "print(ones_indices_test)\n",
    "to_be_removed_test = np.random.choice(ones_indices_test, size=7245, replace=False)\n",
    "print(f\"{len(to_be_removed_test) = }\")"
   ]
  },
  {
   "cell_type": "code",
   "execution_count": 19,
   "metadata": {},
   "outputs": [],
   "source": [
    "balanced_x_test = np.delete(x_test, to_be_removed_test, 0)\n",
    "balanced_bin_y_test = np.delete(binary_y_test, to_be_removed_test, 0)"
   ]
  },
  {
   "cell_type": "code",
   "execution_count": 21,
   "metadata": {},
   "outputs": [
    {
     "name": "stdout",
     "output_type": "stream",
     "text": [
      "balanced_x_test.shape = (6000, 128)\n",
      "balanced_bin_y_test.shape = (6000,)\n"
     ]
    }
   ],
   "source": [
    "print(f\"{balanced_x_test.shape = }\")\n",
    "print(f\"{balanced_bin_y_test.shape = }\")"
   ]
  },
  {
   "attachments": {},
   "cell_type": "markdown",
   "metadata": {},
   "source": [
    "Save the balanced data into `.csv`"
   ]
  },
  {
   "cell_type": "code",
   "execution_count": 22,
   "metadata": {},
   "outputs": [],
   "source": [
    "np.savetxt(\"csv/mitbih_balanced_x_train.csv\", balanced_x_train, delimiter=\",\")\n",
    "np.savetxt(\"csv/mitbih_balanced_x_test.csv\", balanced_x_test, delimiter=\",\")\n",
    "np.savetxt(\"csv/mitbih_balanced_bin_y_train.csv\", balanced_bin_y_train, delimiter=\",\")\n",
    "np.savetxt(\"csv/mitbih_balanced_bin_y_test.csv\", balanced_bin_y_test, delimiter=\",\")"
   ]
  },
  {
   "attachments": {},
   "cell_type": "markdown",
   "metadata": {},
   "source": [
    "## Scale the data into 4-bit integers"
   ]
  },
  {
   "attachments": {},
   "cell_type": "markdown",
   "metadata": {},
   "source": [
    "The unbalanced dataset"
   ]
  },
  {
   "cell_type": "code",
   "execution_count": 11,
   "metadata": {},
   "outputs": [],
   "source": [
    "x_train_int = (x_train * 2**4).astype(np.int8)"
   ]
  },
  {
   "cell_type": "code",
   "execution_count": 62,
   "metadata": {},
   "outputs": [
    {
     "name": "stdout",
     "output_type": "stream",
     "text": [
      "np.max(x_train_int) = 16\n",
      "np.min(x_train_int) = 0\n"
     ]
    }
   ],
   "source": [
    "print(f\"{np.max(x_train_int) = }\")\n",
    "print(f\"{np.min(x_train_int) = }\")"
   ]
  },
  {
   "cell_type": "code",
   "execution_count": 12,
   "metadata": {},
   "outputs": [],
   "source": [
    "x_test_int = (x_test * 2**4).astype(np.int8)"
   ]
  },
  {
   "cell_type": "code",
   "execution_count": 65,
   "metadata": {},
   "outputs": [
    {
     "name": "stdout",
     "output_type": "stream",
     "text": [
      "np.max(x_test_int) = 15\n",
      "np.min(x_test_int) = 0\n"
     ]
    }
   ],
   "source": [
    "print(f\"{np.max(x_test_int) = }\")\n",
    "print(f\"{np.min(x_test_int) = }\")"
   ]
  },
  {
   "cell_type": "code",
   "execution_count": 66,
   "metadata": {},
   "outputs": [],
   "source": [
    "np.savetxt(\"csv/mitbih_x_train_int.csv\", x_train_int, delimiter=\",\")\n",
    "np.savetxt(\"csv/mitbih_x_test_int.csv\", x_test_int, delimiter=\",\")"
   ]
  },
  {
   "attachments": {},
   "cell_type": "markdown",
   "metadata": {},
   "source": [
    "The balanced dataset"
   ]
  },
  {
   "cell_type": "code",
   "execution_count": 7,
   "metadata": {},
   "outputs": [
    {
     "data": {
      "text/plain": [
       "(6000, 128)"
      ]
     },
     "execution_count": 7,
     "metadata": {},
     "output_type": "execute_result"
    }
   ],
   "source": [
    "import numpy as np\n",
    "balanced_x_train_float = np.genfromtxt(\"csv/mitbih_balanced_x_train.csv\", delimiter=',')\n",
    "balanced_x_train_int = (balanced_x_train_float * 2**4).astype(np.int8)"
   ]
  },
  {
   "cell_type": "code",
   "execution_count": 9,
   "metadata": {},
   "outputs": [],
   "source": [
    "np.savetxt(\"csv/mitbih_balanced_x_train_int.csv\", balanced_x_train_int, delimiter=\",\")"
   ]
  },
  {
   "cell_type": "code",
   "execution_count": 10,
   "metadata": {},
   "outputs": [],
   "source": [
    "balanced_x_test_float = np.genfromtxt(\"csv/mitbih_balanced_x_test.csv\", delimiter=',')\n",
    "balanced_x_test_int = (balanced_x_test_float * 2**4).astype(np.int8)\n",
    "np.savetxt(\"csv/mitbih_balanced_x_test_int.csv\", balanced_x_test_int, delimiter=\",\")"
   ]
  },
  {
   "attachments": {},
   "cell_type": "markdown",
   "metadata": {},
   "source": [
    "## Plot the `int` and `float` data"
   ]
  },
  {
   "cell_type": "code",
   "execution_count": 16,
   "metadata": {},
   "outputs": [
    {
     "data": {
      "text/plain": [
       "[<matplotlib.lines.Line2D at 0x7fb730491070>]"
      ]
     },
     "execution_count": 16,
     "metadata": {},
     "output_type": "execute_result"
    },
    {
     "data": {
      "image/png": "[encoded data removed]",
      "text/plain": [
       "<Figure size 640x480 with 1 Axes>"
      ]
     },
     "metadata": {},
     "output_type": "display_data"
    }
   ],
   "source": [
    "plt.plot(balanced_x_train_int[0])"
   ]
  },
  {
   "cell_type": "code",
   "execution_count": 13,
   "metadata": {},
   "outputs": [
    {
     "data": {
      "text/plain": [
       "[<matplotlib.lines.Line2D at 0x7fc782fe7ee0>]"
      ]
     },
     "execution_count": 13,
     "metadata": {},
     "output_type": "execute_result"
    },
    {
     "data": {
      "image/png": "[encoded data removed]",
      "text/plain": [
       "<Figure size 640x480 with 1 Axes>"
      ]
     },
     "metadata": {},
     "output_type": "display_data"
    }
   ],
   "source": [
    "plt.plot(x_train_int[0])"
   ]
  },
  {
   "cell_type": "code",
   "execution_count": 14,
   "metadata": {},
   "outputs": [
    {
     "data": {
      "text/plain": [
       "[<matplotlib.lines.Line2D at 0x7fc782f7f190>]"
      ]
     },
     "execution_count": 14,
     "metadata": {},
     "output_type": "execute_result"
    },
    {
     "data": {
      "image/png": "[encoded data removed]",
      "text/plain": [
       "<Figure size 640x480 with 1 Axes>"
      ]
     },
     "metadata": {},
     "output_type": "display_data"
    }
   ],
   "source": [
    "plt.plot(x_test[0])"
   ]
  },
  {
   "cell_type": "code",
   "execution_count": 15,
   "metadata": {},
   "outputs": [
    {
     "data": {
      "text/plain": [
       "[<matplotlib.lines.Line2D at 0x7fc782eefa60>]"
      ]
     },
     "execution_count": 15,
     "metadata": {},
     "output_type": "execute_result"
    },
    {
     "data": {
      "image/png": "[encoded data removed]",
      "text/plain": [
       "<Figure size 640x480 with 1 Axes>"
      ]
     },
     "metadata": {},
     "output_type": "display_data"
    }
   ],
   "source": [
    "plt.plot(x_test_int[0])"
   ]
  },
  {
   "cell_type": "code",
   "execution_count": null,
   "metadata": {},
   "outputs": [],
   "source": []
  }
 ],
 "metadata": {
  "kernelspec": {
   "display_name": "hesplitnet",
   "language": "python",
   "name": "python3"
  },
  "language_info": {
   "codemirror_mode": {
    "name": "ipython",
    "version": 3
   },
   "file_extension": ".py",
   "mimetype": "text/x-python",
   "name": "python",
   "nbconvert_exporter": "python",
   "pygments_lexer": "ipython3",
   "version": "3.9.16"
  },
  "orig_nbformat": 4,
  "vscode": {
   "interpreter": {
    "hash": "399b82d93c603256e32b1f50bab1e44304c1a63f6ab0c291ce7489d4e70c0394"
   }
  }
 },
 "nbformat": 4,
 "nbformat_minor": 2
}
