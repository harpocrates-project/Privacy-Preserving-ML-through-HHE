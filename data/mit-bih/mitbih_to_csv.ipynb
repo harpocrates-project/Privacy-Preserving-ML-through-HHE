{
 "cells": [
  {
   "cell_type": "code",
   "execution_count": 2,
   "metadata": {},
   "outputs": [],
   "source": [
    "from copy import deepcopy\n",
    "import h5py\n",
    "import matplotlib.pyplot as plt\n",
    "import numpy as np"
   ]
  },
  {
   "cell_type": "code",
   "execution_count": 12,
   "metadata": {},
   "outputs": [],
   "source": [
    "with h5py.File(\"mitbih_train.hdf5\", 'r') as hdf:\n",
    "    x_train = hdf['x_train'][:]\n",
    "    x_train = np.squeeze(x_train)\n",
    "    y_train = hdf['y_train'][:]\n",
    "    binary_y_train = deepcopy(y_train)\n",
    "    binary_y_train[binary_y_train > 0] = 1\n",
    "    # np.savetxt(\"csv/mitbih_x_train.csv\", x_train, delimiter=\",\")\n",
    "    # np.savetxt(\"csv/mitbih_binary_y_train.csv\", binary_y_train, delimiter=\",\")"
   ]
  },
  {
   "cell_type": "code",
   "execution_count": 15,
   "metadata": {},
   "outputs": [
    {
     "name": "stdout",
     "output_type": "stream",
     "text": [
      "x_train.shape = (13245, 128)\n",
      "y_train.shape = (13245,)\n",
      "np.max(x_train) = 1.0025882857391737\n",
      "np.min(x_train) = -0.003320392437785869\n"
     ]
    }
   ],
   "source": [
    "print(f\"{x_train.shape = }\")\n",
    "print(f\"{y_train.shape = }\")\n",
    "print(f\"{np.max(x_train) = }\")\n",
    "print(f\"{np.min(x_train) = }\")"
   ]
  },
  {
   "cell_type": "code",
   "execution_count": 16,
   "metadata": {},
   "outputs": [],
   "source": [
    "with h5py.File(\"mitbih_test.hdf5\", 'r') as hdf:\n",
    "    x_test = hdf['x_test'][:]\n",
    "    x_test = np.squeeze(x_test)\n",
    "    y_test = hdf['y_test'][:]\n",
    "    binary_y_test = deepcopy(y_test)\n",
    "    binary_y_test[binary_y_test > 0] = 1\n",
    "    # np.savetxt(\"csv/mitbih_x_test.csv\", x, delimiter=\",\")\n",
    "    # np.savetxt(\"csv/mitbih_binary_y_test.csv\", binary_y, delimiter=\",\")"
   ]
  },
  {
   "cell_type": "code",
   "execution_count": 17,
   "metadata": {},
   "outputs": [
    {
     "name": "stdout",
     "output_type": "stream",
     "text": [
      "x_test.shape = (13245, 128)\n",
      "y_test.shape = (13245,)\n",
      "np.max(x_test) = 0.9952500164218069\n",
      "np.min(x_test) = -0.011433581701107389\n"
     ]
    }
   ],
   "source": [
    "print(f\"{x_test.shape = }\")\n",
    "print(f\"{y_test.shape = }\")\n",
    "print(f\"{np.max(x_test) = }\")\n",
    "print(f\"{np.min(x_test) = }\")"
   ]
  },
  {
   "attachments": {},
   "cell_type": "markdown",
   "metadata": {},
   "source": [
    "Scale into 4-bit integers"
   ]
  },
  {
   "cell_type": "code",
   "execution_count": 55,
   "metadata": {},
   "outputs": [],
   "source": [
    "x_train_int = (x_train * 2**4).astype(np.int8)"
   ]
  },
  {
   "cell_type": "code",
   "execution_count": 62,
   "metadata": {},
   "outputs": [
    {
     "name": "stdout",
     "output_type": "stream",
     "text": [
      "np.max(x_train_int) = 16\n",
      "np.min(x_train_int) = 0\n"
     ]
    }
   ],
   "source": [
    "print(f\"{np.max(x_train_int) = }\")\n",
    "print(f\"{np.min(x_train_int) = }\")"
   ]
  },
  {
   "cell_type": "code",
   "execution_count": 64,
   "metadata": {},
   "outputs": [],
   "source": [
    "x_test_int = (x_test * 2**4).astype(np.int8)"
   ]
  },
  {
   "cell_type": "code",
   "execution_count": 65,
   "metadata": {},
   "outputs": [
    {
     "name": "stdout",
     "output_type": "stream",
     "text": [
      "np.max(x_test_int) = 15\n",
      "np.min(x_test_int) = 0\n"
     ]
    }
   ],
   "source": [
    "print(f\"{np.max(x_test_int) = }\")\n",
    "print(f\"{np.min(x_test_int) = }\")"
   ]
  },
  {
   "cell_type": "code",
   "execution_count": 66,
   "metadata": {},
   "outputs": [],
   "source": [
    "np.savetxt(\"csv/mitbih_x_train_int.csv\", x_train_int, delimiter=\",\")\n",
    "np.savetxt(\"csv/mitbih_x_test_int.csv\", x_test_int, delimiter=\",\")"
   ]
  },
  {
   "cell_type": "code",
   "execution_count": null,
   "metadata": {},
   "outputs": [],
   "source": []
  }
 ],
 "metadata": {
  "kernelspec": {
   "display_name": "hesplitnet",
   "language": "python",
   "name": "python3"
  },
  "language_info": {
   "codemirror_mode": {
    "name": "ipython",
    "version": 3
   },
   "file_extension": ".py",
   "mimetype": "text/x-python",
   "name": "python",
   "nbconvert_exporter": "python",
   "pygments_lexer": "ipython3",
   "version": "3.9.16"
  },
  "orig_nbformat": 4,
  "vscode": {
   "interpreter": {
    "hash": "399b82d93c603256e32b1f50bab1e44304c1a63f6ab0c291ce7489d4e70c0394"
   }
  }
 },
 "nbformat": 4,
 "nbformat_minor": 2
}
