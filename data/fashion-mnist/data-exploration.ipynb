{
 "cells": [
  {
   "cell_type": "code",
   "execution_count": 6,
   "metadata": {},
   "outputs": [],
   "source": [
    "import numpy as np\n",
    "import idx2numpy\n",
    "import matplotlib.pyplot as plt"
   ]
  },
  {
   "cell_type": "code",
   "execution_count": 7,
   "metadata": {},
   "outputs": [
    {
     "name": "stdout",
     "output_type": "stream",
     "text": [
      "(10000, 28, 28)\n"
     ]
    }
   ],
   "source": [
    "ims = idx2numpy.convert_from_file('t10k-images-idx3-ubyte')\n",
    "print(ims.shape)"
   ]
  },
  {
   "cell_type": "code",
   "execution_count": 8,
   "metadata": {},
   "outputs": [
    {
     "data": {
      "text/plain": [
       "array([0, 1, 2, 3, 4, 5, 6, 7, 8, 9], dtype=uint8)"
      ]
     },
     "execution_count": 8,
     "metadata": {},
     "output_type": "execute_result"
    }
   ],
   "source": [
    "labels = idx2numpy.convert_from_file('t10k-labels-idx1-ubyte')\n",
    "np.unique(labels)\n"
   ]
  },
  {
   "cell_type": "markdown",
   "metadata": {},
   "source": [
    "```rust\n",
    "0 => \"T-shirt/top\",\n",
    "1 => \"Trouser\",\n",
    "2 => \"Pullover\",\n",
    "3 => \"Dress\",\n",
    "4 => \"Coat\",\n",
    "5 => \"Sandal\",\n",
    "6 => \"Shirt\",\n",
    "7 => \"Sneaker\",\n",
    "8 => \"Bag\",\n",
    "9 => \"Ankle Boot\",\n",
    "```"
   ]
  },
  {
   "cell_type": "markdown",
   "metadata": {},
   "source": [
    "## Inspecting Images"
   ]
  },
  {
   "cell_type": "code",
   "execution_count": 21,
   "metadata": {},
   "outputs": [
    {
     "name": "stdout",
     "output_type": "stream",
     "text": [
      "im.shape = (784,)\n",
      "np.unique(im) = array([  0,   1,   2,   3,   4,   7,   8,  11,  12,  16,  21,  22,  23,\n",
      "        26,  27,  36,  37,  43,  48,  49,  53,  54,  58,  62,  65,  67,\n",
      "        68,  70,  76,  82,  84,  85,  88,  89,  90,  92,  93,  94,  97,\n",
      "        98,  99, 100, 102, 103, 104, 106, 108, 109, 110, 111, 113, 114,\n",
      "       115, 117, 118, 119, 120, 123, 125, 126, 127, 128, 129, 130, 131,\n",
      "       133, 134, 135, 136, 137, 138, 139, 140, 141, 143, 144, 146, 147,\n",
      "       148, 149, 150, 151, 153, 154, 155, 156, 157, 158, 159, 160, 161,\n",
      "       162, 164, 165, 166, 167, 168, 169, 170, 171, 172, 175, 176, 177,\n",
      "       178, 184, 185, 187, 188, 189, 190, 195, 196, 197, 198, 199, 206,\n",
      "       208, 209, 210, 211, 220, 245, 247, 251, 252, 255], dtype=uint8)\n"
     ]
    },
    {
     "data": {
      "text/plain": [
       "<matplotlib.image.AxesImage at 0x7ff0da8e4d90>"
      ]
     },
     "execution_count": 21,
     "metadata": {},
     "output_type": "execute_result"
    },
    {
     "data": {
      "image/png": "[encoded data removed]",
      "text/plain": [
       "<Figure size 640x480 with 1 Axes>"
      ]
     },
     "metadata": {},
     "output_type": "display_data"
    }
   ],
   "source": [
    "im = ims[0].flatten()\n",
    "\n",
    "print(f\"{im.shape = }\")\n",
    "print(f\"{np.unique(im) = }\")\n",
    "plt.imshow(np.reshape(im, [28,28]), cmap='gray')"
   ]
  },
  {
   "cell_type": "markdown",
   "metadata": {},
   "source": [
    "## Quantization"
   ]
  },
  {
   "cell_type": "markdown",
   "metadata": {},
   "source": [
    "Extracted from `fmnist.rs`\n",
    "```rust\n",
    "let image_data = images_data.data[start..start + image_size]\n",
    "            .into_iter()\n",
    "            .map(|x| {\n",
    "                if let Some(n_bits) = quantization {\n",
    "                    u4((*x as f64 / 255. * (2_f64.powi(n_bits as i32) - 1.)).round() as u8)\n",
    "                } else {\n",
    "                    u4(*x)\n",
    "                }\n",
    "            })\n",
    "            .collect();\n",
    "```\n"
   ]
  },
  {
   "cell_type": "code",
   "execution_count": 24,
   "metadata": {},
   "outputs": [
    {
     "name": "stdout",
     "output_type": "stream",
     "text": [
      "np.unique(quant_im) = array([0, 1, 2, 3, 4, 5, 6, 7], dtype=uint8)\n"
     ]
    },
    {
     "data": {
      "text/plain": [
       "<matplotlib.image.AxesImage at 0x7ff0da7cd280>"
      ]
     },
     "execution_count": 24,
     "metadata": {},
     "output_type": "execute_result"
    },
    {
     "data": {
      "image/png": "[encoded data removed]",
      "text/plain": [
       "<Figure size 640x480 with 1 Axes>"
      ]
     },
     "metadata": {},
     "output_type": "display_data"
    }
   ],
   "source": [
    "n_bits = 3\n",
    "\n",
    "quant_im = np.ceil(im / 255. * (2**n_bits) - 1)\n",
    "quant_im[np.where(quant_im<0)] = 0\n",
    "quant_im = np.uint8(quant_im)\n",
    "print(f\"{np.unique(quant_im) = }\")\n",
    "plt.imshow(quant_im.reshape([28,28]), cmap=\"gray\")"
   ]
  }
 ],
 "metadata": {
  "kernelspec": {
   "display_name": "pockethhe",
   "language": "python",
   "name": "python3"
  },
  "language_info": {
   "codemirror_mode": {
    "name": "ipython",
    "version": 3
   },
   "file_extension": ".py",
   "mimetype": "text/x-python",
   "name": "python",
   "nbconvert_exporter": "python",
   "pygments_lexer": "ipython3",
   "version": "3.9.16"
  },
  "orig_nbformat": 4
 },
 "nbformat": 4,
 "nbformat_minor": 2
}
